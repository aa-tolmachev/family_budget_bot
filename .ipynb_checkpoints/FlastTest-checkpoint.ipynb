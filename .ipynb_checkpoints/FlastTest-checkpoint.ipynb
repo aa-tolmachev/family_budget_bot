{
 "cells": [
  {
   "cell_type": "markdown",
   "metadata": {},
   "source": [
    "# Грузим библиотеки"
   ]
  },
  {
   "cell_type": "code",
   "execution_count": null,
   "metadata": {
    "collapsed": false,
    "scrolled": true
   },
   "outputs": [
    {
     "name": "stderr",
     "output_type": "stream",
     "text": [
      " * Running on http://127.0.0.1:5000/ (Press CTRL+C to quit)\n",
      "Traceback (most recent call last):\n",
      "  File \"<ipython-input-1-115da39b7b82>\", line 72, in main\n",
      "    keyboard_expense = reply.keyboard_expense()\n",
      "AttributeError: module 'methods.reply' has no attribute 'keyboard_expense'\n",
      "127.0.0.1 - - [28/Aug/2017 01:02:37] \"POST /main HTTP/1.1\" 200 -\n"
     ]
    }
   ],
   "source": [
    "from flask import Flask\n",
    "from flask import request\n",
    "import requests\n",
    "from flask import make_response\n",
    "import os\n",
    "import json\n",
    "from pandas import DataFrame\n",
    "import traceback\n",
    "\n",
    "\n",
    "from methods import access\n",
    "from methods.emoji import emoji\n",
    "from methods import telegram_bot_methods\n",
    "from methods import google_maps_methods\n",
    "from methods import psql_methods\n",
    "from methods import reply\n",
    "\n",
    "\n",
    "\n",
    "\n",
    "token = access.token()\n",
    "api = access.api()\n",
    "\n",
    "#bot = telebot.TeleBot(token)\n",
    "\n",
    "application = Flask(__name__)  # Change assignment here\n",
    "\n",
    "\n",
    "\n",
    "\n",
    "# создаем webhook\n",
    "@application.route(\"/set_webhook\")\n",
    "def webhook():\n",
    "    url = api + token + '/setWebhook'\n",
    "    params = {'url' : 'https://fin-budg-bot.herokuapp.com/main'\n",
    "    }\n",
    "    r = requests.post(url,\n",
    "                      json=params)\n",
    "    return \"!\", 200\n",
    "\n",
    "\n",
    "\n",
    "# тестовый вывод\n",
    "@application.route(\"/\")  \n",
    "def hello():\n",
    "    return \"Hello World!\"\n",
    "\n",
    "\n",
    "\n",
    "\n",
    "# запуск основной функции\n",
    "@application.route('/main', methods=['GET', 'POST'])\n",
    "def main():\n",
    "    try:\n",
    "        json_update = json.loads(request.get_data())\n",
    "\n",
    "\n",
    "        #Изначально для отправки кнопки пустые\n",
    "        reply_markup = None\n",
    "\n",
    "        #получаем id чата и текст сообщения\n",
    "        chat_id = json_update['message']['chat']['id']\n",
    "        command = json_update['message']['text']\n",
    "\n",
    "        #получаем список трат\n",
    "        keyboard_expense = reply.list_expense_types()\n",
    "\n",
    "        #в зависимости от команды выбираем действие\n",
    "        if command[0] != '/':\n",
    "            text = 'Не понимаю... Помочь? /help'\n",
    "        else:\n",
    "            if 'start' in command:\n",
    "                r = psql_methods.new_user(chat_id , json_update)\n",
    "                text = emoji('фанфары') + 'Добрый день! \\n' \n",
    "                text += 'Я планирую домашний бюджет и напоминаю об операциях в течение месяца. \\n'\n",
    "                text += 'Я развиваюсь в свободное время, текущие команды можно увидеть в меню /help. \\n'\n",
    "                text += 'Либо сразу заведите свой кошелек и забудьте о том, чтобы держать бюджет семьи в голове!' + emoji('банкноты')\n",
    "                reply_markup = {'keyboard': [['/help'],['/make_wallet']], 'resize_keyboard': True, 'one_time_keyboard': False}\n",
    "            elif 'help' in command:\n",
    "                r = psql_methods.last_state(chat_id,command)\n",
    "                text = 'Привет!' +  emoji('фанфары') + '\\n'\n",
    "                text += 'Задачи кошелька: \\n'\n",
    "                text += '/make_wallet - создание кошелька \\n'\n",
    "                text += '/expense_add - добавить трату \\n'\n",
    "                text += '/expense_update - изменить/удалить трату \\n'\n",
    "                text += '/wallet_report - отчет по операциям \\n'\n",
    "                text += '/wallet_advice - совет'\n",
    "            elif 'make_wallet' in command:\n",
    "                r = psql_methods.last_state(chat_id,command)\n",
    "                r = psql_methods.make_wallet(chat_id)\n",
    "                text = r['text']\n",
    "                reply_markup = r['reply_markup']\n",
    "            elif 'wallet_action' in command:\n",
    "                r = psql_methods.last_state(chat_id,command)\n",
    "                text = 'Что нужно сделать с личным кошельком? \\n'\n",
    "                text += '/expense_add - добавить фактическую операцию'\n",
    "                reply_markup = {'keyboard': [['/expense_add']], 'resize_keyboard': True, 'one_time_keyboard': False}\n",
    "            elif 'expense_add' in command:\n",
    "                r = psql_methods.last_state(chat_id,command)\n",
    "                text = 'Выберите тип траты'\n",
    "                reply_markup = {'keyboard': keyboard_expense, 'resize_keyboard': True, 'one_time_keyboard': True}\n",
    "           \n",
    "            #если пришел запрос на добавление траты по типу - спрашиваем сумму\n",
    "            elif command in keyboard_expense:\n",
    "                last_state = psql_methods.current_last_state(chat_id)\n",
    "                if command in keyboard_expense and last_state == '/expense_add':\n",
    "                    text = 'ок! Введите сумму операции'\n",
    "                    r = psql_methods.insert_state_info_1(chat_id = chat_id , state_info_one = command)\n",
    "                    #продолжить отсюда\n",
    "\n",
    "\n",
    "\n",
    "\n",
    "\n",
    "\n",
    "\n",
    "            else:\n",
    "                text = 'Неизвестная команда, для списка команд выбирите команду /help'\n",
    "  \n",
    "        #отправляем сообщение\n",
    "        send_result = telegram_bot_methods.send_message(chat_id = chat_id, text = text, reply_markup = reply_markup)\n",
    "\n",
    "\n",
    "\n",
    "\n",
    "            \n",
    "        return \"!\", 200\n",
    "    except:\n",
    "\n",
    "        traceback.print_exc()\n",
    "        return \"!\", 200\n",
    "\n",
    "\n",
    "\n",
    "\n",
    "\n",
    "\n",
    "\n",
    "if __name__ == \"__main__\":\n",
    "\n",
    "    application.run()\n",
    "\n"
   ]
  },
  {
   "cell_type": "code",
   "execution_count": null,
   "metadata": {
    "collapsed": false
   },
   "outputs": [],
   "source": [
    "X = {'update_id': 201011794, 'message': {'message_id': 159, 'from': {'id': 84723474, 'first_name': 'Александр', 'last_name': 'Толмачёв', 'language_code': 'ru-RU'}, 'chat': {'id': 84723474, 'first_name': 'Александр', 'last_name': 'Толмачёв', 'type': 'private'}, 'date': 1502611993, 'text': '/help', 'entities': [{'type': 'bot_command', 'offset': 0, 'length': 5}]}}\n",
    "X['message']['text'] = '/start'\n",
    "X['message']['chat']['last_name']"
   ]
  },
  {
   "cell_type": "code",
   "execution_count": null,
   "metadata": {
    "collapsed": false
   },
   "outputs": [],
   "source": [
    "import datetime\n",
    "now = datetime.datetime.now()\n",
    "str(now.year)+str(now.month if now.month >= 10 else  '0'+str(now.month))+str(now.day if now.day >= 10 else  '0'+str(now.hour)) +' '+str(now.hour if now.hour >= 10 else  '0'+str(now.hour)) + str(now.minute if now.minute >= 10 else  '0'+str(now.minute)) + str(now.second if now.second >= 10 else  '0'+str(now.second))"
   ]
  },
  {
   "cell_type": "code",
   "execution_count": null,
   "metadata": {
    "collapsed": false
   },
   "outputs": [],
   "source": [
    "from methods import access\n",
    "from methods import psql_methods\n",
    "\n",
    "import psycopg2\n",
    "from pandas import DataFrame\n",
    "chat_id =84723474\n",
    "\n",
    "PSQL_heroku_keys = access.PSQL_heroku_keys()\n",
    "\n",
    "#создаем подключение к PSQL\n",
    "conn = psycopg2.connect(\"dbname='%(dbname)s' port='%(port)s' user='%(user)s' host='%(host)s' password='%(password)s'\" % PSQL_heroku_keys)\n",
    "cur = conn.cursor()\n",
    "\n",
    "cur.execute(\"SELECT current_state as id from public.state\" )\n",
    "\n",
    "df = DataFrame(cur.fetchall(), columns=[desc[0] for desc in cur.description])\n",
    "\n",
    "cur.close()"
   ]
  },
  {
   "cell_type": "code",
   "execution_count": null,
   "metadata": {
    "collapsed": false
   },
   "outputs": [],
   "source": [
    "df['id'][0]\n"
   ]
  },
  {
   "cell_type": "code",
   "execution_count": null,
   "metadata": {
    "collapsed": false
   },
   "outputs": [],
   "source": [
    "from methods import access\n",
    "from methods import psql_methods\n",
    "\n",
    "r = psql_methods.make_wallet(84723474)\n",
    "\n"
   ]
  },
  {
   "cell_type": "code",
   "execution_count": null,
   "metadata": {
    "collapsed": false
   },
   "outputs": [],
   "source": [
    "#тест отправки клавиатуры\n",
    "\n",
    "from methods import access\n",
    "import requests\n",
    "import json\n",
    "\n",
    "chat_id = 84723474\n",
    "text = '123'\n",
    "\n",
    "token = access.token()\n",
    "api = access.api()\n",
    "\n",
    "reply_markup = {'keyboard': [['1','2'],['2'],['4'],['5']], 'resize_keyboard': True, 'one_time_keyboard': True}\n",
    "#reply_markup = json.dumps(reply_markup)\n",
    "\n",
    "\n",
    "\n",
    "url = api + token + '/sendMessage'\n",
    "params = {'chat_id' : chat_id\n",
    "        ,'text' : text\n",
    "          ,'reply_markup': reply_markup\n",
    "          \n",
    "}\n",
    "r = requests.post(url,\n",
    "                  json=params)"
   ]
  },
  {
   "cell_type": "code",
   "execution_count": null,
   "metadata": {
    "collapsed": true
   },
   "outputs": [],
   "source": [
    "#тест отправки клавиатуры\n",
    "\n",
    "from methods import access\n",
    "import requests\n",
    "import json\n",
    "\n",
    "chat_id = 84723474\n",
    "text = '123'\n",
    "\n",
    "token = access.token()\n",
    "api = access.api()\n",
    "\n",
    "reply_markup = {'keyboard': [['1']]}\n",
    "#reply_markup = json.dumps(reply_markup)\n",
    "\n",
    "\n",
    "\n",
    "url = api + token + '/sendMessage'\n",
    "params = {'chat_id' : chat_id\n",
    "        ,'text' : text\n",
    "          ,'reply_markup': reply_markup\n",
    "          \n",
    "}\n",
    "r = requests.post(url,\n",
    "                  json=params)"
   ]
  },
  {
   "cell_type": "code",
   "execution_count": null,
   "metadata": {
    "collapsed": true
   },
   "outputs": [],
   "source": []
  }
 ],
 "metadata": {
  "anaconda-cloud": {},
  "kernelspec": {
   "display_name": "Python 3",
   "language": "python",
   "name": "python3"
  },
  "language_info": {
   "codemirror_mode": {
    "name": "ipython",
    "version": 3
   },
   "file_extension": ".py",
   "mimetype": "text/x-python",
   "name": "python",
   "nbconvert_exporter": "python",
   "pygments_lexer": "ipython3",
   "version": "3.6.0"
  }
 },
 "nbformat": 4,
 "nbformat_minor": 1
}
