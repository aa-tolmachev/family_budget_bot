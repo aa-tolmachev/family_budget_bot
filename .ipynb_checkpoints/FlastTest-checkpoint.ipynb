{
 "cells": [
  {
   "cell_type": "markdown",
   "metadata": {},
   "source": [
    "# Грузим библиотеки"
   ]
  },
  {
   "cell_type": "code",
   "execution_count": null,
   "metadata": {
    "collapsed": false,
    "scrolled": true
   },
   "outputs": [],
   "source": [
    "from flask import Flask\n",
    "from flask import request\n",
    "import requests\n",
    "from flask import make_response\n",
    "import os\n",
    "import json\n",
    "from pandas import DataFrame\n",
    "\n",
    "\n",
    "from methods import access\n",
    "from methods.emoji import emoji\n",
    "from methods import telegram_bot_methods\n",
    "from methods import google_maps_methods\n",
    "from methods import psql_methods\n",
    "\n",
    "\n",
    "\n",
    "\n",
    "token = access.token()\n",
    "api = access.api()\n",
    "\n",
    "#bot = telebot.TeleBot(token)\n",
    "\n",
    "application = Flask(__name__)  # Change assignment here\n",
    "\n",
    "\n",
    "\n",
    "\n",
    "# создаем webhook\n",
    "@application.route(\"/set_webhook\")\n",
    "def webhook():\n",
    "    url = api + token + '/setWebhook'\n",
    "    params = {'url' : 'https://fin-budg-bot.herokuapp.com/main'\n",
    "    }\n",
    "    r = requests.post(url,\n",
    "                      json=params)\n",
    "    return \"!\", 200\n",
    "\n",
    "\n",
    "\n",
    "# тестовый вывод\n",
    "@application.route(\"/\")  \n",
    "def hello():\n",
    "    return \"Hello World!\"\n",
    "\n",
    "\n",
    "\n",
    "\n",
    "# запуск основной функции\n",
    "@application.route('/main', methods=['GET', 'POST'])\n",
    "def main():\n",
    "    try:\n",
    "        json_update = json.loads(request.get_data())\n",
    "        #Тестовый блок, при получении сообщения пробрасываем json обратно, чтобы посмотреть, что получаем\n",
    "        #json_str = str(json_update)\n",
    "        \n",
    "\n",
    "        #url = api + token + '/sendMessage'\n",
    "        #params = {'chat_id' : 84723474\n",
    "        #        ,'text' : json_update\n",
    "        #}\n",
    "        #r = requests.post(url,\n",
    "        #                  json=params)\n",
    "\n",
    "\n",
    "\n",
    "\n",
    "\n",
    "        #получаем id чата и текст сообщения\n",
    "        chat_id = json_update['message']['chat']['id']\n",
    "        command = json_update['message']['text']\n",
    "\n",
    "        #в зависимости от команды выбираем действие\n",
    "        if command[0] != '/':\n",
    "            text = 'Не понимаю... Помочь? /help'\n",
    "\n",
    "        else:\n",
    "            if 'start' in command:\n",
    "                r = psql_methods.new_user(chat_id)\n",
    "                text = emoji('фанфары') + 'Добрый день! \\n' \n",
    "                text += 'Я планирую домашний бюджет и напоминаю об операциях в течение месяца. \\n'\n",
    "                text += 'Я развиваюсь в свободное время, текущие команды можно увидеть в меню /help. \\n'\n",
    "                text += 'Либо сразу заведите свой кошелек и забудьте о том, чтобы держать бюджет семьи в голове!' + emoji('банкноты')\n",
    "            elif 'help' in command:\n",
    "                text = 'Раздел разрабатывается, тут всё понятно, заводи кошелек /make_wallet и стартуем!'\n",
    "\n",
    "            else:\n",
    "                text = 'Неизвестная команда, для списка команд выбирите команду /help'\n",
    "  \n",
    "\n",
    "        #! переделать в функцию\n",
    "        url = api + token + '/sendMessage'\n",
    "        params = {'chat_id' : chat_id\n",
    "                ,'text' : text\n",
    "        }\n",
    "        r = requests.post(url,\n",
    "                          json=params)\n",
    "\n",
    "        #family_budget.main()\n",
    "            \n",
    "        return \"!\", 200\n",
    "    except:\n",
    "\n",
    "        return \"!\", 200\n",
    "\n",
    "\n",
    "\n",
    "\n",
    "\n",
    "\n",
    "\n",
    "if __name__ == \"__main__\":\n",
    "    port = int(os.getenv('PORT', 5000))\n",
    "    application.run()\n",
    "\n"
   ]
  },
  {
   "cell_type": "code",
   "execution_count": 2,
   "metadata": {
    "collapsed": false
   },
   "outputs": [
    {
     "data": {
      "text/plain": [
       "{'first_name': 'Александр',\n",
       " 'id': 84723474,\n",
       " 'last_name': 'Толмачёв',\n",
       " 'type': 'private'}"
      ]
     },
     "execution_count": 2,
     "metadata": {},
     "output_type": "execute_result"
    }
   ],
   "source": [
    "X = {'update_id': 201011794, 'message': {'message_id': 159, 'from': {'id': 84723474, 'first_name': 'Александр', 'last_name': 'Толмачёв', 'language_code': 'ru-RU'}, 'chat': {'id': 84723474, 'first_name': 'Александр', 'last_name': 'Толмачёв', 'type': 'private'}, 'date': 1502611993, 'text': '/help', 'entities': [{'type': 'bot_command', 'offset': 0, 'length': 5}]}}\n",
    "X['message']['text'] = '/start'\n",
    "X['message']['chat']"
   ]
  },
  {
   "cell_type": "code",
   "execution_count": 15,
   "metadata": {
    "collapsed": false
   },
   "outputs": [
    {
     "data": {
      "text/plain": [
       "'20170817 092013'"
      ]
     },
     "execution_count": 15,
     "metadata": {},
     "output_type": "execute_result"
    }
   ],
   "source": [
    "import datetime\n",
    "now = datetime.datetime.now()\n",
    "str(now.year)+str(now.month if now.month >= 10 else  '0'+str(now.month))+str(now.day if now.day >= 10 else  '0'+str(now.hour)) +' '+str(now.hour if now.hour >= 10 else  '0'+str(now.hour)) + str(now.minute if now.minute >= 10 else  '0'+str(now.minute)) + str(now.second if now.second >= 10 else  '0'+str(now.second))"
   ]
  },
  {
   "cell_type": "code",
   "execution_count": null,
   "metadata": {
    "collapsed": false
   },
   "outputs": [],
   "source": [
    "json_update = X\n",
    "from flask import Flask\n",
    "from flask import request\n",
    "import requests\n",
    "from flask import make_response\n",
    "import os\n",
    "import json\n",
    "from pandas import DataFrame\n",
    "\n",
    "\n",
    "from methods import access\n",
    "from methods.emoji import emoji\n",
    "from methods import telegram_bot_methods\n",
    "from methods import google_maps_methods\n",
    "from methods import psql_methods\n",
    "\n",
    "\n",
    "\n",
    "\n",
    "token = access.token()\n",
    "api = access.api()\n",
    "\n",
    "#bot = telebot.TeleBot(token)\n",
    "\n",
    "#json_update = json.loads(request.get_data())\n",
    "#Тестовый блок, при получении сообщения пробрасываем json обратно, чтобы посмотреть, что получаем\n",
    "#json_str = str(json_update)\n",
    "\n",
    "\n",
    "#url = api + token + '/sendMessage'\n",
    "#params = {'chat_id' : 84723474\n",
    "#        ,'text' : json_update\n",
    "#}\n",
    "#r = requests.post(url,\n",
    "#                  json=params)\n",
    "\n",
    "\n",
    "\n",
    "\n",
    "\n",
    "#получаем id чата и текст сообщения\n",
    "chat_id = json_update['message']['chat']['id']\n",
    "command = json_update['message']['text']\n",
    "\n",
    "#в зависимости от команды выбираем действие\n",
    "if command[0] != '/':\n",
    "    text = 'Не понимаю... Помочь? /help'\n",
    "\n",
    "else:\n",
    "    if 'start' in command:\n",
    "        r = psql_methods.new_user(chat_id)\n",
    "        text = emoji('фанфары') + 'Добрый день! \\n' \n",
    "        text += 'Я планирую домашний бюджет и напоминаю об операциях в течение месяца. \\n'\n",
    "        text += 'Я развиваюсь в свободное время, текущие команды можно увидеть в меню /help. \\n'\n",
    "        text += 'Либо сразу заведите свой кошелек и забудьте о том, чтобы держать бюджет семьи в голове!' + emoji('банкноты')\n",
    "    elif 'help' in command:\n",
    "        text = 'Раздел разрабатывается, тут всё понятно, заводи кошелек /make_wallet и стартуем!'\n",
    "\n",
    "    else:\n",
    "        text = 'Неизвестная команда, для списка команд выбирите команду /help'\n",
    "\n",
    "\n",
    "#! переделать в функцию\n",
    "url = api + token + '/sendMessage'\n",
    "params = {'chat_id' : chat_id\n",
    "        ,'text' : text\n",
    "}\n",
    "r = requests.post(url,\n",
    "                  json=params)\n",
    "\n",
    "\n"
   ]
  },
  {
   "cell_type": "code",
   "execution_count": null,
   "metadata": {
    "collapsed": true
   },
   "outputs": [],
   "source": []
  }
 ],
 "metadata": {
  "anaconda-cloud": {},
  "kernelspec": {
   "display_name": "Python 3",
   "language": "python",
   "name": "python3"
  },
  "language_info": {
   "codemirror_mode": {
    "name": "ipython",
    "version": 3
   },
   "file_extension": ".py",
   "mimetype": "text/x-python",
   "name": "python",
   "nbconvert_exporter": "python",
   "pygments_lexer": "ipython3",
   "version": "3.6.0"
  }
 },
 "nbformat": 4,
 "nbformat_minor": 1
}
