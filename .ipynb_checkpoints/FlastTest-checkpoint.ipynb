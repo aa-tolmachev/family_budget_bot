{
 "cells": [
  {
   "cell_type": "markdown",
   "metadata": {},
   "source": [
    "# Грузим библиотеки"
   ]
  },
  {
   "cell_type": "code",
   "execution_count": null,
   "metadata": {
    "collapsed": false,
    "scrolled": true
   },
   "outputs": [],
   "source": [
    "from flask import Flask\n",
    "from flask import request\n",
    "import requests\n",
    "from flask import make_response\n",
    "import os\n",
    "import json\n",
    "from pandas import DataFrame\n",
    "import traceback\n",
    "\n",
    "\n",
    "from methods import access\n",
    "from methods.emoji import emoji\n",
    "from methods import telegram_bot_methods\n",
    "from methods import google_maps_methods\n",
    "from methods import psql_methods\n",
    "from methods import reply\n",
    "\n",
    "\n",
    "\n",
    "import app\n",
    "\n",
    "\n",
    "\n",
    "if __name__ == \"__main__\":\n",
    "\n",
    "    \n",
    "    app.application.run()\n",
    "\n"
   ]
  },
  {
   "cell_type": "code",
   "execution_count": null,
   "metadata": {
    "collapsed": false
   },
   "outputs": [],
   "source": [
    "X = {'update_id': 201011794, 'message': {'message_id': 159, 'from': {'id': 84723474, 'first_name': 'Александр', 'last_name': 'Толмачёв', 'language_code': 'ru-RU'}, 'chat': {'id': 84723474, 'first_name': 'Александр', 'last_name': 'Толмачёв', 'type': 'private'}, 'date': 1502611993, 'text': '/help', 'entities': [{'type': 'bot_command', 'offset': 0, 'length': 5}]}}\n",
    "X['message']['text'] = '/start'\n",
    "X['message']['chat']['last_name']"
   ]
  },
  {
   "cell_type": "code",
   "execution_count": null,
   "metadata": {
    "collapsed": false
   },
   "outputs": [],
   "source": [
    "import datetime\n",
    "now = datetime.datetime.now()\n",
    "str(now.year)+str(now.month if now.month >= 10 else  '0'+str(now.month))+str(now.day if now.day >= 10 else  '0'+str(now.hour)) +' '+str(now.hour if now.hour >= 10 else  '0'+str(now.hour)) + str(now.minute if now.minute >= 10 else  '0'+str(now.minute)) + str(now.second if now.second >= 10 else  '0'+str(now.second))"
   ]
  },
  {
   "cell_type": "code",
   "execution_count": null,
   "metadata": {
    "collapsed": false
   },
   "outputs": [],
   "source": [
    "from methods import access\n",
    "from methods import psql_methods\n",
    "import requests\n",
    "import json\n",
    "\n",
    "import psycopg2\n",
    "from pandas import DataFrame\n",
    "chat_id =84723474\n",
    "reply_markup_main = {'keyboard': [['/expense_add'],['/crypto ETH-USD']], 'resize_keyboard': True, 'one_time_keyboard': False}\n",
    "\n",
    "url = 'https://api.cryptonator.com/api/ticker/eth-usd'\n",
    "\n",
    "r = requests.get(url)\n",
    "\n",
    "dict_crypto_curse = json.loads(r.text)\n",
    "\n",
    "ETH_USD = round(float(dict_crypto_curse['ticker']['price']), 3)\n",
    "text = str(ETH_USD) + ' $ за дозу эфирчика...'\n",
    "reply_markup = reply_markup_main\n"
   ]
  },
  {
   "cell_type": "code",
   "execution_count": null,
   "metadata": {
    "collapsed": false
   },
   "outputs": [],
   "source": [
    "#тест отправки графика\n",
    "import psycopg2\n",
    "from pandas import DataFrame\n",
    "import pandas as pd\n",
    "from datetime import datetime\n",
    "from datetime import timedelta\n",
    "dbname = 'dbr3jigs1op5oo'\n",
    "port = '5432'\n",
    "user = 'muwrkppfuyldmk'\n",
    "host = 'ec2-54-227-252-202.compute-1.amazonaws.com'\n",
    "password = '4c4eabfcaf92f7289ccfc1a314d04a3c3806db72b1bf12fd5f0f40c410b14355'\n",
    "\n",
    "PSQL_heroku_keys = {'dbname' : dbname\n",
    "                    , 'port' : port\n",
    "                    , 'user' : user\n",
    "                    , 'host' : host\n",
    "                    , 'password' : password\n",
    "                    }\n",
    "\n",
    "\n",
    "\n",
    "user_id = 13\n",
    "\n",
    "\n",
    "conn = psycopg2.connect(\"dbname='%(dbname)s' port='%(port)s' user='%(user)s' host='%(host)s' password='%(password)s'\" % PSQL_heroku_keys)\n",
    "\n",
    "cur = conn.cursor()\n",
    "#достаем информацию по пользователю\n",
    "cur.execute(\"SELECT * from public.transaction_fact where user_id = %(user_id)s\" % {'user_id' : user_id} )\n",
    "df = DataFrame(cur.fetchall(), columns=[desc[0] for desc in cur.description])\n",
    "cur.close()"
   ]
  },
  {
   "cell_type": "code",
   "execution_count": 11,
   "metadata": {
    "collapsed": false
   },
   "outputs": [
    {
     "data": {
      "text/plain": [
       "'19900322'"
      ]
     },
     "execution_count": 11,
     "metadata": {},
     "output_type": "execute_result"
    }
   ],
   "source": [
    "command = '22.03.1990'\n",
    "date_list = command.split('.')\n",
    "error = 0\n",
    "date_plan = ''\n",
    "if len(date_list) == 3:\n",
    "    for date_part in date_list:\n",
    "\n",
    "        try:\n",
    "            if int(date_part) < 10 and len(date_part)==1:\n",
    "                date_part = '0' + date_part\n",
    "                date_plan = date_part + date_plan\n",
    "            else:\n",
    "                date_plan = date_part + date_plan\n",
    "        except:\n",
    "            error = 1\n",
    "    \n",
    "    if error == 1:\n",
    "        text = 'Не могу разобрать... Проверьте формат и повторите ввод даты.'\n",
    "        \n",
    "else:\n",
    "    text = 'Некорректный формат, повторите ввод даты'\n",
    "    \n",
    "            \n",
    "date_plan"
   ]
  },
  {
   "cell_type": "code",
   "execution_count": null,
   "metadata": {
    "collapsed": true
   },
   "outputs": [],
   "source": []
  }
 ],
 "metadata": {
  "anaconda-cloud": {},
  "kernelspec": {
   "display_name": "Python 3",
   "language": "python",
   "name": "python3"
  },
  "language_info": {
   "codemirror_mode": {
    "name": "ipython",
    "version": 3
   },
   "file_extension": ".py",
   "mimetype": "text/x-python",
   "name": "python",
   "nbconvert_exporter": "python",
   "pygments_lexer": "ipython3",
   "version": "3.6.0"
  }
 },
 "nbformat": 4,
 "nbformat_minor": 1
}
