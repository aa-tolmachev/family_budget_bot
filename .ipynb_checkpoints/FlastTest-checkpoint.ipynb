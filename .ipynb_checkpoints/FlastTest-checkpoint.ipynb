{
 "cells": [
  {
   "cell_type": "markdown",
   "metadata": {},
   "source": [
    "# Грузим библиотеки"
   ]
  },
  {
   "cell_type": "code",
   "execution_count": null,
   "metadata": {
    "collapsed": false,
    "scrolled": true
   },
   "outputs": [],
   "source": [
    "from flask import Flask\n",
    "from flask import request\n",
    "import requests\n",
    "from flask import make_response\n",
    "import os\n",
    "import json\n",
    "from pandas import DataFrame\n",
    "import traceback\n",
    "\n",
    "\n",
    "from methods import access\n",
    "from methods.emoji import emoji\n",
    "from methods import telegram_bot_methods\n",
    "from methods import google_maps_methods\n",
    "from methods import psql_methods\n",
    "from methods import reply\n",
    "\n",
    "\n",
    "\n",
    "import app\n",
    "\n",
    "\n",
    "\n",
    "if __name__ == \"__main__\":\n",
    "\n",
    "    \n",
    "    app.application.run()\n",
    "\n"
   ]
  },
  {
   "cell_type": "code",
   "execution_count": null,
   "metadata": {
    "collapsed": false
   },
   "outputs": [],
   "source": [
    "X = {'update_id': 201011794, 'message': {'message_id': 159, 'from': {'id': 84723474, 'first_name': 'Александр', 'last_name': 'Толмачёв', 'language_code': 'ru-RU'}, 'chat': {'id': 84723474, 'first_name': 'Александр', 'last_name': 'Толмачёв', 'type': 'private'}, 'date': 1502611993, 'text': '/help', 'entities': [{'type': 'bot_command', 'offset': 0, 'length': 5}]}}\n",
    "X['message']['text'] = '/start'\n",
    "X['message']['chat']['last_name']"
   ]
  },
  {
   "cell_type": "code",
   "execution_count": 13,
   "metadata": {
    "collapsed": false
   },
   "outputs": [
    {
     "name": "stdout",
     "output_type": "stream",
     "text": [
      "ok\n"
     ]
    }
   ],
   "source": [
    "#тест отправки графика\n",
    "import psycopg2\n",
    "from pandas import DataFrame\n",
    "import pandas as pd\n",
    "from datetime import datetime\n",
    "from datetime import timedelta\n",
    "\n",
    "import numpy as np\n",
    "\n",
    "#текущая метка времени\n",
    "def now_str():\n",
    "    now = datetime.now()\n",
    "    now_str = str(now.year)+str(now.month if now.month >= 10 else  '0'+str(now.month))+str(now.day if now.day >= 10 else  '0'+str(now.day)) +' '+str(now.hour if now.hour >= 10 else  '0'+str(now.hour)) + str(now.minute if now.minute >= 10 else  '0'+str(now.minute)) + str(now.second if now.second >= 10 else  '0'+str(now.second))\n",
    "    return now_str\n",
    "\n",
    "\n",
    "dbname = 'dbr3jigs1op5oo'\n",
    "port = '5432'\n",
    "user = 'muwrkppfuyldmk'\n",
    "host = 'ec2-54-227-252-202.compute-1.amazonaws.com'\n",
    "password = '4c4eabfcaf92f7289ccfc1a314d04a3c3806db72b1bf12fd5f0f40c410b14355'\n",
    "\n",
    "PSQL_heroku_keys = {'dbname' : dbname\n",
    "                    , 'port' : port\n",
    "                    , 'user' : user\n",
    "                    , 'host' : host\n",
    "                    , 'password' : password\n",
    "                    }\n",
    "\n",
    "\n",
    "user_id = 13\n",
    "now_strin = now_str()[:8]\n",
    "now_day = int(now_strin[-2:])\n",
    "now_month = int(now_strin[4:6])\n",
    "delete_num = 3\n",
    "\n",
    "conn = psycopg2.connect(\"dbname='%(dbname)s' port='%(port)s' user='%(user)s' host='%(host)s' password='%(password)s'\" % PSQL_heroku_keys)\n",
    "\n",
    "response = {'status' : 200\n",
    "            ,'report' : 'transaction_plan'\n",
    "            ,'system_message' : 'No report'\n",
    "            ,'text' : 'NaN'\n",
    "            ,'reply_markup' : 'NaN'\n",
    "            }\n",
    "###################\n",
    "cur = conn.cursor()\n",
    "\n",
    "#смотрим, какие данные завтра есть\n",
    "cur.execute(\"SELECT * from public.transaction_plan where date_plan >= '%(now_strin)s' and Extract(month from date_plan) = %(now_month)s and user_id = %(user_id)s\" % {'now_strin' : now_strin , 'user_id' : user_id , 'now_month' : now_month} )\n",
    "\n",
    "#получаем данные\n",
    "df_transaction_plan = DataFrame(cur.fetchall(), columns=[desc[0] for desc in cur.description])\n",
    "\n",
    "#получаем ежемесячные данные\n",
    "cur.execute(\"select * from public.month_transaction_plan where day >= %(now_day)s and user_id = %(user_id)s\" % { 'now_day' : now_day , 'user_id' : user_id} )\n",
    "df_transaction_month = DataFrame(cur.fetchall(), columns=[desc[0] for desc in cur.description])\n",
    "\n",
    "#формируем итог\n",
    "df_transaction_plan = df_transaction_plan.append(df_transaction_month)\n",
    "\n",
    "#если ничего нет - возвращаем ответ\n",
    "if df_transaction_plan.shape[0] == 0:\n",
    "    cur.close()\n",
    "    #return response\n",
    "else:\n",
    "    cur.close()\n",
    "    \n",
    "#достаем дни из разовых трат    \n",
    "if df_transaction_plan['date_plan'].dtypes != 'O':\n",
    "    df_transaction_plan['day_month'] = df_transaction_plan['date_plan'].dt.day\n",
    "else:\n",
    "    df_transaction_plan['day_month'] = df_transaction_plan['date_plan']\n",
    "\n",
    "#формируем единую метку дней\n",
    "day = []\n",
    "for day1 , day2 in zip (df_transaction_plan['day'].values , df_transaction_plan['day_month'].values):\n",
    "    if np.isnan(day1):\n",
    "        day.append(int(day2))\n",
    "    else:\n",
    "        day.append(int(day1))\n",
    "        \n",
    "df_transaction_plan['day'] = day   \n",
    "\n",
    "\n",
    "df_transaction_plan.sort_values(by = ['day'] , inplace = True , ascending = True)\n",
    "\n",
    "df_transaction_plan.reset_index(inplace = True)\n",
    "\n",
    "df_transaction_plan.drop(labels = 'index' , axis = 1 , inplace = True)\n",
    "\n",
    "\n",
    "print ('ok')"
   ]
  },
  {
   "cell_type": "code",
   "execution_count": 21,
   "metadata": {
    "collapsed": false
   },
   "outputs": [],
   "source": [
    "df_transaction_plan.iloc[5]\n",
    "if df_transaction_plan.shape[0] >= delete_num:\n",
    "    dict_delete_plan = df_transaction_plan.iloc[delete_num+1]\n",
    "    \n",
    "else:\n",
    "    text = 'Легче ковбой, введи существующий номер операции'\n",
    "    reply_markup =  {'keyboard': [['меню']], 'resize_keyboard': True, 'one_time_keyboard': True}"
   ]
  },
  {
   "cell_type": "code",
   "execution_count": 23,
   "metadata": {
    "collapsed": false
   },
   "outputs": [
    {
     "data": {
      "text/plain": [
       "nan"
      ]
     },
     "execution_count": 23,
     "metadata": {},
     "output_type": "execute_result"
    }
   ],
   "source": [
    "dict_delete_plan['day_month']"
   ]
  },
  {
   "cell_type": "code",
   "execution_count": null,
   "metadata": {
    "collapsed": true
   },
   "outputs": [],
   "source": []
  }
 ],
 "metadata": {
  "anaconda-cloud": {},
  "kernelspec": {
   "display_name": "Python 3",
   "language": "python",
   "name": "python3"
  },
  "language_info": {
   "codemirror_mode": {
    "name": "ipython",
    "version": 3
   },
   "file_extension": ".py",
   "mimetype": "text/x-python",
   "name": "python",
   "nbconvert_exporter": "python",
   "pygments_lexer": "ipython3",
   "version": "3.6.0"
  }
 },
 "nbformat": 4,
 "nbformat_minor": 1
}
