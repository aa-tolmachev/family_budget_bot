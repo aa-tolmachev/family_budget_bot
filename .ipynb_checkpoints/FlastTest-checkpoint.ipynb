{
 "cells": [
  {
   "cell_type": "markdown",
   "metadata": {},
   "source": [
    "# Грузим библиотеки"
   ]
  },
  {
   "cell_type": "code",
   "execution_count": null,
   "metadata": {
    "collapsed": false,
    "scrolled": true
   },
   "outputs": [],
   "source": [
    "from flask import Flask\n",
    "from flask import request\n",
    "import requests\n",
    "from flask import make_response\n",
    "import os\n",
    "import json\n",
    "from pandas import DataFrame\n",
    "import traceback\n",
    "\n",
    "\n",
    "from methods import access\n",
    "from methods.emoji import emoji\n",
    "from methods import telegram_bot_methods\n",
    "from methods import google_maps_methods\n",
    "from methods import psql_methods\n",
    "from methods import reply\n",
    "\n",
    "\n",
    "\n",
    "import app\n",
    "\n",
    "\n",
    "\n",
    "if __name__ == \"__main__\":\n",
    "\n",
    "    \n",
    "    app.application.run()\n",
    "\n"
   ]
  },
  {
   "cell_type": "code",
   "execution_count": null,
   "metadata": {
    "collapsed": false
   },
   "outputs": [],
   "source": [
    "X = {'update_id': 201011794, 'message': {'message_id': 159, 'from': {'id': 84723474, 'first_name': 'Александр', 'last_name': 'Толмачёв', 'language_code': 'ru-RU'}, 'chat': {'id': 84723474, 'first_name': 'Александр', 'last_name': 'Толмачёв', 'type': 'private'}, 'date': 1502611993, 'text': '/help', 'entities': [{'type': 'bot_command', 'offset': 0, 'length': 5}]}}\n",
    "X['message']['text'] = '/start'\n",
    "X['message']['chat']['last_name']"
   ]
  },
  {
   "cell_type": "code",
   "execution_count": 15,
   "metadata": {
    "collapsed": false
   },
   "outputs": [
    {
     "name": "stdout",
     "output_type": "stream",
     "text": [
      "ok\n"
     ]
    }
   ],
   "source": [
    "#тест отправки графика\n",
    "import psycopg2\n",
    "from pandas import DataFrame\n",
    "import pandas as pd\n",
    "from datetime import datetime\n",
    "from datetime import timedelta\n",
    "\n",
    "#завтрашная дата без часов минут\n",
    "def tomorrow_str():\n",
    "    tomorrow = datetime.now()+ timedelta(days=1)\n",
    "    tomorrow_str = str(tomorrow.year)+str(tomorrow.month if tomorrow.month >= 10 else  '0'+str(tomorrow.month))+str(tomorrow.day if tomorrow.day >= 10 else  '0'+str(tomorrow.day)) \n",
    "    return tomorrow_str\n",
    "\n",
    "now = datetime.now()\n",
    "\n",
    "dbname = 'dbr3jigs1op5oo'\n",
    "port = '5432'\n",
    "user = 'muwrkppfuyldmk'\n",
    "host = 'ec2-54-227-252-202.compute-1.amazonaws.com'\n",
    "password = '4c4eabfcaf92f7289ccfc1a314d04a3c3806db72b1bf12fd5f0f40c410b14355'\n",
    "\n",
    "PSQL_heroku_keys = {'dbname' : dbname\n",
    "                    , 'port' : port\n",
    "                    , 'user' : user\n",
    "                    , 'host' : host\n",
    "                    , 'password' : password\n",
    "                    }\n",
    "\n",
    "\n",
    "tomorrow_str = '20170907'\n",
    "user_id = 13\n",
    "\n",
    "\n",
    "conn = psycopg2.connect(\"dbname='%(dbname)s' port='%(port)s' user='%(user)s' host='%(host)s' password='%(password)s'\" % PSQL_heroku_keys)\n",
    "\n",
    "response = {'status' : 200\n",
    "            ,'report' : 'tomorrow_expense'\n",
    "            ,'system_message' : 'No reports'\n",
    "            ,'user_messages' : []\n",
    "            }\n",
    "###################\n",
    "cur = conn.cursor()\n",
    "#смотрим, какие данные завтра есть\n",
    "cur.execute(\"SELECT * from public.transaction_plan where date_plan = '%(tomorrow_str)s'\" % {'tomorrow_str' : tomorrow_str} )\n",
    "\n",
    "#получаем данные\n",
    "df_tomorrow_transaction_plan = DataFrame(cur.fetchall(), columns=[desc[0] for desc in cur.description])\n",
    "\n",
    "print ('ok')"
   ]
  },
  {
   "cell_type": "code",
   "execution_count": 16,
   "metadata": {
    "collapsed": false
   },
   "outputs": [
    {
     "data": {
      "text/html": [
       "<div>\n",
       "<table border=\"1\" class=\"dataframe\">\n",
       "  <thead>\n",
       "    <tr style=\"text-align: right;\">\n",
       "      <th></th>\n",
       "      <th>id</th>\n",
       "      <th>user_id</th>\n",
       "      <th>wallet_id</th>\n",
       "      <th>transaction_type</th>\n",
       "      <th>transaction_name</th>\n",
       "      <th>summa</th>\n",
       "      <th>date_plan</th>\n",
       "      <th>flg_done</th>\n",
       "    </tr>\n",
       "  </thead>\n",
       "  <tbody>\n",
       "    <tr>\n",
       "      <th>0</th>\n",
       "      <td>6</td>\n",
       "      <td>13</td>\n",
       "      <td>5</td>\n",
       "      <td>другие</td>\n",
       "      <td>Купить барбосу игрушек</td>\n",
       "      <td>500.00</td>\n",
       "      <td>2017-09-07</td>\n",
       "      <td>False</td>\n",
       "    </tr>\n",
       "    <tr>\n",
       "      <th>1</th>\n",
       "      <td>7</td>\n",
       "      <td>13</td>\n",
       "      <td>5</td>\n",
       "      <td>еда</td>\n",
       "      <td>картошка1</td>\n",
       "      <td>123.00</td>\n",
       "      <td>2017-09-07</td>\n",
       "      <td>False</td>\n",
       "    </tr>\n",
       "    <tr>\n",
       "      <th>2</th>\n",
       "      <td>8</td>\n",
       "      <td>13</td>\n",
       "      <td>5</td>\n",
       "      <td>еда</td>\n",
       "      <td>картошка2</td>\n",
       "      <td>234.00</td>\n",
       "      <td>2017-09-07</td>\n",
       "      <td>False</td>\n",
       "    </tr>\n",
       "    <tr>\n",
       "      <th>3</th>\n",
       "      <td>9</td>\n",
       "      <td>13</td>\n",
       "      <td>5</td>\n",
       "      <td>еда</td>\n",
       "      <td>картошка3</td>\n",
       "      <td>345.00</td>\n",
       "      <td>2017-09-07</td>\n",
       "      <td>False</td>\n",
       "    </tr>\n",
       "    <tr>\n",
       "      <th>4</th>\n",
       "      <td>10</td>\n",
       "      <td>14</td>\n",
       "      <td>5</td>\n",
       "      <td>транспорт</td>\n",
       "      <td>купить газель</td>\n",
       "      <td>1000.00</td>\n",
       "      <td>2017-09-07</td>\n",
       "      <td>False</td>\n",
       "    </tr>\n",
       "    <tr>\n",
       "      <th>5</th>\n",
       "      <td>11</td>\n",
       "      <td>14</td>\n",
       "      <td>5</td>\n",
       "      <td>транспорт</td>\n",
       "      <td>купить газель1</td>\n",
       "      <td>1001.00</td>\n",
       "      <td>2017-09-07</td>\n",
       "      <td>False</td>\n",
       "    </tr>\n",
       "    <tr>\n",
       "      <th>6</th>\n",
       "      <td>12</td>\n",
       "      <td>13</td>\n",
       "      <td>5</td>\n",
       "      <td>дом</td>\n",
       "      <td>Позвони маме!</td>\n",
       "      <td>1.00</td>\n",
       "      <td>2017-09-07</td>\n",
       "      <td>False</td>\n",
       "    </tr>\n",
       "  </tbody>\n",
       "</table>\n",
       "</div>"
      ],
      "text/plain": [
       "   id  user_id  wallet_id transaction_type        transaction_name    summa  \\\n",
       "0   6       13          5           другие  Купить барбосу игрушек   500.00   \n",
       "1   7       13          5              еда               картошка1   123.00   \n",
       "2   8       13          5              еда               картошка2   234.00   \n",
       "3   9       13          5              еда               картошка3   345.00   \n",
       "4  10       14          5        транспорт           купить газель  1000.00   \n",
       "5  11       14          5        транспорт          купить газель1  1001.00   \n",
       "6  12       13          5              дом           Позвони маме!     1.00   \n",
       "\n",
       "   date_plan flg_done  \n",
       "0 2017-09-07    False  \n",
       "1 2017-09-07    False  \n",
       "2 2017-09-07    False  \n",
       "3 2017-09-07    False  \n",
       "4 2017-09-07    False  \n",
       "5 2017-09-07    False  \n",
       "6 2017-09-07    False  "
      ]
     },
     "execution_count": 16,
     "metadata": {},
     "output_type": "execute_result"
    }
   ],
   "source": [
    "df_tomorrow_transaction_plan"
   ]
  },
  {
   "cell_type": "code",
   "execution_count": null,
   "metadata": {
    "collapsed": true
   },
   "outputs": [],
   "source": []
  }
 ],
 "metadata": {
  "anaconda-cloud": {},
  "kernelspec": {
   "display_name": "Python 3",
   "language": "python",
   "name": "python3"
  },
  "language_info": {
   "codemirror_mode": {
    "name": "ipython",
    "version": 3
   },
   "file_extension": ".py",
   "mimetype": "text/x-python",
   "name": "python",
   "nbconvert_exporter": "python",
   "pygments_lexer": "ipython3",
   "version": "3.6.0"
  }
 },
 "nbformat": 4,
 "nbformat_minor": 1
}
