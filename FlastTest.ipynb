{
 "cells": [
  {
   "cell_type": "markdown",
   "metadata": {},
   "source": [
    "# Грузим библиотеки"
   ]
  },
  {
   "cell_type": "code",
   "execution_count": null,
   "metadata": {},
   "outputs": [],
   "source": [
    "from flask import Flask\n",
    "from flask import request\n",
    "import requests\n",
    "from flask import make_response\n",
    "import os\n",
    "import json\n",
    "from pandas import DataFrame\n",
    "import traceback\n",
    "\n",
    "\n",
    "from methods import access\n",
    "from methods.emoji import emoji\n",
    "from methods import telegram_bot_methods\n",
    "from methods import google_maps_methods\n",
    "from methods import psql_methods\n",
    "from methods import reply\n",
    "from dicts import dict_dates\n",
    "\n",
    "\n",
    "\n",
    "import app\n",
    "\n",
    "\n",
    "\n",
    "if __name__ == \"__main__\":\n",
    "\n",
    "    \n",
    "    app.application.run()\n",
    "\n"
   ]
  },
  {
   "cell_type": "code",
   "execution_count": null,
   "metadata": {},
   "outputs": [],
   "source": [
    "import re\n",
    "\n",
    "task_name = ' ! fdfs fdsfsdf fds'\n",
    "is_main_task = task_name.replace(' ','')[0] == \"!\"\n",
    "if is_main_task"
   ]
  },
  {
   "cell_type": "code",
   "execution_count": null,
   "metadata": {},
   "outputs": [],
   "source": [
    "X = {'update_id': 201011794, 'message': {'message_id': 159, 'from': {'id': 84723474, 'first_name': 'Александр', 'last_name': 'Толмачёв', 'language_code': 'ru-RU'}, 'chat': {'id': 84723474, 'first_name': 'Александр', 'last_name': 'Толмачёв', 'type': 'private'}, 'date': 1502611993, 'text': '/help', 'entities': [{'type': 'bot_command', 'offset': 0, 'length': 5}]}}\n",
    "X['message']['text'] = '/start'\n",
    "X['message']['chat']['last_name']"
   ]
  },
  {
   "cell_type": "markdown",
   "metadata": {},
   "source": [
    "# локальные тесты"
   ]
  },
  {
   "cell_type": "code",
   "execution_count": 1,
   "metadata": {},
   "outputs": [
    {
     "ename": "OperationalError",
     "evalue": "could not translate host name \"None\" to address: nodename nor servname provided, or not known\n",
     "output_type": "error",
     "traceback": [
      "\u001b[0;31m---------------------------------------------------------------------------\u001b[0m",
      "\u001b[0;31mOperationalError\u001b[0m                          Traceback (most recent call last)",
      "\u001b[0;32m<ipython-input-1-f4a9639e36b6>\u001b[0m in \u001b[0;36m<module>\u001b[0;34m\u001b[0m\n\u001b[1;32m     15\u001b[0m \u001b[0;32mfrom\u001b[0m \u001b[0mmethods\u001b[0m \u001b[0;32mimport\u001b[0m \u001b[0mtelegram_bot_methods\u001b[0m\u001b[0;34m\u001b[0m\u001b[0;34m\u001b[0m\u001b[0m\n\u001b[1;32m     16\u001b[0m \u001b[0;32mfrom\u001b[0m \u001b[0mmethods\u001b[0m \u001b[0;32mimport\u001b[0m \u001b[0mgoogle_maps_methods\u001b[0m\u001b[0;34m\u001b[0m\u001b[0;34m\u001b[0m\u001b[0m\n\u001b[0;32m---> 17\u001b[0;31m \u001b[0;32mfrom\u001b[0m \u001b[0mmethods\u001b[0m \u001b[0;32mimport\u001b[0m \u001b[0mpsql_methods\u001b[0m\u001b[0;34m\u001b[0m\u001b[0;34m\u001b[0m\u001b[0m\n\u001b[0m\u001b[1;32m     18\u001b[0m \u001b[0;32mfrom\u001b[0m \u001b[0mmethods\u001b[0m \u001b[0;32mimport\u001b[0m \u001b[0mpsql_cron_methods\u001b[0m\u001b[0;34m\u001b[0m\u001b[0;34m\u001b[0m\u001b[0m\n\u001b[1;32m     19\u001b[0m \u001b[0;32mfrom\u001b[0m \u001b[0mmethods\u001b[0m \u001b[0;32mimport\u001b[0m \u001b[0mreply\u001b[0m\u001b[0;34m\u001b[0m\u001b[0;34m\u001b[0m\u001b[0m\n",
      "\u001b[0;32m~/projects/family_budget_bot/methods/psql_methods.py\u001b[0m in \u001b[0;36m<module>\u001b[0;34m\u001b[0m\n\u001b[1;32m     20\u001b[0m \u001b[0;34m\u001b[0m\u001b[0m\n\u001b[1;32m     21\u001b[0m \u001b[0;31m#создаем подключение к PSQL\u001b[0m\u001b[0;34m\u001b[0m\u001b[0;34m\u001b[0m\u001b[0;34m\u001b[0m\u001b[0m\n\u001b[0;32m---> 22\u001b[0;31m \u001b[0mconn\u001b[0m \u001b[0;34m=\u001b[0m \u001b[0mpsycopg2\u001b[0m\u001b[0;34m.\u001b[0m\u001b[0mconnect\u001b[0m\u001b[0;34m(\u001b[0m\u001b[0;34m\"dbname='%(dbname)s' port='%(port)s' user='%(user)s' host='%(host)s' password='%(password)s'\"\u001b[0m \u001b[0;34m%\u001b[0m \u001b[0mPSQL_heroku_keys\u001b[0m\u001b[0;34m)\u001b[0m\u001b[0;34m\u001b[0m\u001b[0;34m\u001b[0m\u001b[0m\n\u001b[0m\u001b[1;32m     23\u001b[0m \u001b[0;34m\u001b[0m\u001b[0m\n\u001b[1;32m     24\u001b[0m \u001b[0;34m\u001b[0m\u001b[0m\n",
      "\u001b[0;32m~/opt/anaconda3/lib/python3.8/site-packages/psycopg2/__init__.py\u001b[0m in \u001b[0;36mconnect\u001b[0;34m(dsn, connection_factory, cursor_factory, **kwargs)\u001b[0m\n\u001b[1;32m    125\u001b[0m \u001b[0;34m\u001b[0m\u001b[0m\n\u001b[1;32m    126\u001b[0m     \u001b[0mdsn\u001b[0m \u001b[0;34m=\u001b[0m \u001b[0m_ext\u001b[0m\u001b[0;34m.\u001b[0m\u001b[0mmake_dsn\u001b[0m\u001b[0;34m(\u001b[0m\u001b[0mdsn\u001b[0m\u001b[0;34m,\u001b[0m \u001b[0;34m**\u001b[0m\u001b[0mkwargs\u001b[0m\u001b[0;34m)\u001b[0m\u001b[0;34m\u001b[0m\u001b[0;34m\u001b[0m\u001b[0m\n\u001b[0;32m--> 127\u001b[0;31m     \u001b[0mconn\u001b[0m \u001b[0;34m=\u001b[0m \u001b[0m_connect\u001b[0m\u001b[0;34m(\u001b[0m\u001b[0mdsn\u001b[0m\u001b[0;34m,\u001b[0m \u001b[0mconnection_factory\u001b[0m\u001b[0;34m=\u001b[0m\u001b[0mconnection_factory\u001b[0m\u001b[0;34m,\u001b[0m \u001b[0;34m**\u001b[0m\u001b[0mkwasync\u001b[0m\u001b[0;34m)\u001b[0m\u001b[0;34m\u001b[0m\u001b[0;34m\u001b[0m\u001b[0m\n\u001b[0m\u001b[1;32m    128\u001b[0m     \u001b[0;32mif\u001b[0m \u001b[0mcursor_factory\u001b[0m \u001b[0;32mis\u001b[0m \u001b[0;32mnot\u001b[0m \u001b[0;32mNone\u001b[0m\u001b[0;34m:\u001b[0m\u001b[0;34m\u001b[0m\u001b[0;34m\u001b[0m\u001b[0m\n\u001b[1;32m    129\u001b[0m         \u001b[0mconn\u001b[0m\u001b[0;34m.\u001b[0m\u001b[0mcursor_factory\u001b[0m \u001b[0;34m=\u001b[0m \u001b[0mcursor_factory\u001b[0m\u001b[0;34m\u001b[0m\u001b[0;34m\u001b[0m\u001b[0m\n",
      "\u001b[0;31mOperationalError\u001b[0m: could not translate host name \"None\" to address: nodename nor servname provided, or not known\n"
     ]
    }
   ],
   "source": [
    "from flask import Flask\n",
    "from flask import request\n",
    "import requests\n",
    "from flask import make_response\n",
    "import os\n",
    "import json\n",
    "from pandas import DataFrame\n",
    "import numpy as np\n",
    "import traceback\n",
    "from ast import literal_eval\n",
    "\n",
    "from methods import access\n",
    "from methods import crypto\n",
    "from methods.emoji import emoji\n",
    "from methods import telegram_bot_methods\n",
    "from methods import google_maps_methods\n",
    "from methods import psql_methods\n",
    "from methods import psql_cron_methods\n",
    "from methods import reply\n",
    "\n",
    "from dicts import meta_info\n",
    "\n",
    "from dialog_branch import *\n",
    "import dialog_branch as dibr\n",
    "\n",
    "from router import *\n",
    "import router as router"
   ]
  },
  {
   "cell_type": "code",
   "execution_count": 3,
   "metadata": {},
   "outputs": [],
   "source": [
    "import requests\n",
    "#import access\n",
    "from methods.emoji import emoji\n",
    "import json\n",
    "from datetime import datetime\n",
    "from datetime import timedelta\n",
    "from time import sleep\n",
    "import psycopg2\n",
    "from pandas import DataFrame\n",
    "import pandas as pd\n",
    "import numpy as np\n",
    "import re"
   ]
  },
  {
   "cell_type": "code",
   "execution_count": null,
   "metadata": {},
   "outputs": [],
   "source": [
    "json_update = {'update_id': 109204651, 'message': {'message_id': 27349, 'from': {'id': 84723474, 'is_bot': False, 'first_name': 'Александр', 'last_name': 'Толмачёв', 'username': 'aa_tolmachev', 'language_code': 'ru'}, 'chat': {'id': 84723474, 'first_name': 'Александр', 'last_name': 'Толмачёв', 'username': 'aa_tolmachev', 'type': 'private'}, 'date': 1636113587, 'text': 'Траты план - список'}}\n",
    "\n",
    "#получаем id чата и текст сообщения\n",
    "chat_id = json_update['message']['chat']['id']\n",
    "command = json_update['message']['text']"
   ]
  },
  {
   "cell_type": "code",
   "execution_count": null,
   "metadata": {},
   "outputs": [],
   "source": [
    "#получаем текущее состояние\n",
    "dict_user_data = psql_methods.user_data(chat_id)\n",
    "last_state = dict_user_data['last_state']\n",
    "state_info_1 = dict_user_data['state_info_1']\n",
    "state_info_2 = dict_user_data['state_info_2']\n",
    "state_info_3 = dict_user_data['state_info_3']\n",
    "state_info_4 = dict_user_data['state_info_4']\n",
    "state_info_5 = dict_user_data['state_info_5']\n",
    "user_id = dict_user_data['user_id']\n",
    "personal_wallet_id = dict_user_data['personal_wallet_id']\n",
    "\n",
    "dict_user_data"
   ]
  },
  {
   "cell_type": "code",
   "execution_count": null,
   "metadata": {},
   "outputs": [],
   "source": [
    "command"
   ]
  },
  {
   "cell_type": "code",
   "execution_count": null,
   "metadata": {},
   "outputs": [],
   "source": [
    "if 'Кошелек' in command:\n",
    "    r = psql_methods.last_state(chat_id,command)\n",
    "    text = 'Что сделать с кошельком?'\n",
    "    reply_markup = {'keyboard': [['Траты факт - добавить'],['Траты план - добавить'],['Траты план - список']], 'resize_keyboard': True, 'one_time_keyboard': False}\n",
    "\n",
    "#1->1-> - выбор траты \n",
    "elif last_state == 'Кошелек':\n",
    "    #1->1->1 - добавление фактической траты\n",
    "    if command == 'Траты факт - добавить':\n",
    "        r = psql_methods.last_state(chat_id,command)\n",
    "        text = 'Выберите тип траты'\n",
    "        reply_markup = {'keyboard': keyboard_expense, 'resize_keyboard': True, 'one_time_keyboard': True}\n",
    "    #1->1->2 - добавление плановой траты\n",
    "    if command == 'Траты план - добавить':\n",
    "        r = psql_methods.last_state(chat_id,command)\n",
    "        text = 'Это разовая трата или повторяется каждый месяц?'\n",
    "        reply_markup = {'keyboard': [['Разовая'],['Каждый месяц']], 'resize_keyboard': True, 'one_time_keyboard': False}\n",
    "    #1->1->3 - список плановых трат\n",
    "    if command == 'Траты план - список':\n",
    "        r = psql_methods.last_state(chat_id,command)\n",
    "        r = psql_methods.list_transaction_plan(chat_id, user_id)\n",
    "        if r['system_message'] == 'Have reports':\n",
    "            text = r['text']\n",
    "            reply_markup = r['reply_markup']\n",
    "        else:\n",
    "            r = psql_methods.last_state(chat_id,'/main')\n",
    "            text = 'В текущем месяце нет плановых трат...'\n",
    "            reply_markup = reply_markup_main"
   ]
  },
  {
   "cell_type": "code",
   "execution_count": null,
   "metadata": {},
   "outputs": [],
   "source": [
    "#текущая метка времени\n",
    "def now_str():\n",
    "    now = datetime.now()\n",
    "    now_str = str(now.year)+str(now.month if now.month >= 10 else  '0'+str(now.month))+str(now.day if now.day >= 10 else  '0'+str(now.day)) +' '+str(now.hour if now.hour >= 10 else  '0'+str(now.hour)) + str(now.minute if now.minute >= 10 else  '0'+str(now.minute)) + str(now.second if now.second >= 10 else  '0'+str(now.second))\n",
    "    return now_str\n",
    "\n",
    "\n",
    "#завтрашная дата без часов минут\n",
    "def tomorrow_str_func():\n",
    "    tomorrow = datetime.now()+ timedelta(days=1)\n",
    "    tomorrow_str = str(tomorrow.year)+str(tomorrow.month if tomorrow.month >= 10 else  '0'+str(tomorrow.month))+str(tomorrow.day if tomorrow.day >= 10 else  '0'+str(tomorrow.day)) \n",
    "    return tomorrow_str\n",
    "\n",
    "\n",
    "#текущая дата без часов минут\n",
    "def today_str_func():\n",
    "    today = datetime.now()\n",
    "    today_str = str(today.year)+str(today.month if today.month >= 10 else  '0'+str(today.month))+str(today.day if today.day >= 10 else  '0'+str(today.day)) \n",
    "    return today_str"
   ]
  },
  {
   "cell_type": "code",
   "execution_count": null,
   "metadata": {},
   "outputs": [],
   "source": [
    "PSQL_heroku_keys = access.PSQL_heroku_keys()\n",
    "#создаем подключение к PSQL\n",
    "conn = psycopg2.connect(\"dbname='%(dbname)s' port='%(port)s' user='%(user)s' host='%(host)s' password='%(password)s'\" % PSQL_heroku_keys)\n",
    "\n",
    "#формат ответа\n",
    "response = {'status' : 200\n",
    "            ,'report' : 'transaction_plan'\n",
    "            ,'system_message' : 'No report'\n",
    "            ,'text' : 'NaN'\n",
    "            ,'reply_markup' : 'NaN'\n",
    "            }\n",
    "\n",
    "# создаем запрос\n",
    "cur = conn.cursor()\n",
    "\n",
    "now_strin = now_str()[:8]\n",
    "now_day = int(now_strin[-2:])\n",
    "now_month = int(now_strin[4:6])\n",
    "\n",
    "#смотрим, какие данные завтра есть\n",
    "cur.execute(\"SELECT * from public.transaction_plan where date_plan >= '%(now_strin)s' and Extract(month from date_plan) = %(now_month)s and user_id = %(user_id)s\" % {'now_strin' : now_strin , 'user_id' : user_id , 'now_month' : now_month} )\n",
    "\n",
    "#получаем данные\n",
    "df_transaction_plan = DataFrame(cur.fetchall(), columns=[desc[0] for desc in cur.description])\n",
    "\n",
    "#получаем ежемесячные данные\n",
    "cur.execute(\"select * from public.month_transaction_plan where day >= %(now_day)s and user_id = %(user_id)s\" % { 'now_day' : now_day , 'user_id' : user_id} )\n",
    "df_transaction_month = DataFrame(cur.fetchall(), columns=[desc[0] for desc in cur.description])\n",
    "\n",
    "#формируем итог\n",
    "df_transaction_plan = df_transaction_plan.append(df_transaction_month)\n",
    "\n",
    "#если ничего нет - возвращаем ответ\n",
    "if df_transaction_plan.shape[0] == 0:\n",
    "    cur.close()\n",
    "    #return response\n",
    "else:\n",
    "    cur.close()\n",
    "\n",
    "#достаем дни из разовых трат    \n",
    "if df_transaction_plan['date_plan'].dtypes != 'O':\n",
    "    df_transaction_plan['day_month'] = df_transaction_plan['date_plan'].dt.day\n",
    "else:\n",
    "    df_transaction_plan['day_month'] = df_transaction_plan['date_plan']\n",
    "\n",
    "#формируем единую метку дней\n",
    "day = []\n",
    "for day1 , day2 in zip (df_transaction_plan['day'].values , df_transaction_plan['day_month'].values):\n",
    "    if np.isnan(day1):\n",
    "        day.append(int(day2))\n",
    "    else:\n",
    "        day.append(int(day1))\n",
    "\n",
    "df_transaction_plan['day'] = day   \n",
    "\n",
    "\n",
    "df_transaction_plan.sort_values(by = ['day'] , inplace = True , ascending = True)\n",
    "\n",
    "df_transaction_plan.reset_index(inplace = True)\n",
    "\n",
    "df_transaction_plan.drop(labels = 'index' , axis = 1 , inplace = True)\n",
    "\n",
    "month_names = {1 : 'январь'\n",
    "              ,2 : 'февраль'\n",
    "              ,3 : 'март'\n",
    "              ,4 : 'апрель'\n",
    "              ,5 : 'май'\n",
    "              ,6 : 'июнь'\n",
    "              ,7 : 'июль'\n",
    "              ,8 : 'август'\n",
    "              ,9 : 'сентябрь'\n",
    "              ,10 : 'октябрь'\n",
    "              ,11 : 'ноябрь'\n",
    "              ,12 : 'декабрь'}\n",
    "\n",
    "text = 'Вот список запланированных трат на %(month_name)s:\\n\\n' % {'month_name' : month_names[now_month]}\n",
    "\n",
    "#формируем список\n",
    "for row in df_transaction_plan.iterrows():\n",
    "    num = str(row[0]+1)\n",
    "    day = str(row[1][1])\n",
    "    transaction_name = str(row[1][4])\n",
    "    transaction_summa = str(int(row[1][5]))\n",
    "    text += num + ': ' + day + ' числа, ' + transaction_name + ', ' + transaction_summa + ' руб.\\n'\n",
    "\n",
    "\n",
    "text += '\\nЧто-то нужно сделать, Владыка?'\n",
    "reply_markup = {'keyboard': [['Изменить','Удалить'],['Добавить','меню']], 'resize_keyboard': True, 'one_time_keyboard': False}\n",
    "system_message = 'Have reports' \n",
    "\n",
    "response['text'] = text\n",
    "response['reply_markup'] = reply_markup\n",
    "response['system_message'] = system_message"
   ]
  },
  {
   "cell_type": "code",
   "execution_count": null,
   "metadata": {},
   "outputs": [],
   "source": [
    "conn.close()"
   ]
  },
  {
   "cell_type": "code",
   "execution_count": null,
   "metadata": {},
   "outputs": [],
   "source": [
    "import os\n",
    "os.getenv('1')"
   ]
  },
  {
   "cell_type": "code",
   "execution_count": null,
   "metadata": {},
   "outputs": [],
   "source": [
    "for i,row in df_transaction_plan.iterrows():\n",
    "    1\n",
    "    \n",
    "row['transaction_name']"
   ]
  },
  {
   "cell_type": "code",
   "execution_count": null,
   "metadata": {},
   "outputs": [],
   "source": [
    "df_transaction_plan"
   ]
  },
  {
   "cell_type": "code",
   "execution_count": null,
   "metadata": {},
   "outputs": [],
   "source": [
    "for row in df_transaction_plan.iterrows():\n",
    "    num = str(row[0]+1)\n",
    "    day = str(row[1][1])\n",
    "    transaction_name = str(row[1][4])\n",
    "\n",
    "    print(num , day , transaction_name)"
   ]
  },
  {
   "cell_type": "markdown",
   "metadata": {},
   "source": [
    "# тест крона"
   ]
  },
  {
   "cell_type": "code",
   "execution_count": 7,
   "metadata": {},
   "outputs": [],
   "source": [
    "import requests\n",
    "from methods import access\n",
    "from methods.emoji import emoji\n",
    "from dicts import dict_dates\n",
    "import json\n",
    "from datetime import datetime\n",
    "from datetime import timedelta\n",
    "from time import sleep\n",
    "import psycopg2\n",
    "from pandas import DataFrame\n",
    "import pandas as pd\n",
    "import numpy as np\n",
    "\n",
    "import matplotlib\n",
    "matplotlib.use('Agg')\n",
    "import matplotlib.pyplot as plt\n",
    "plt.style.use('ggplot')\n",
    "\n",
    "\n",
    "from dicts import meta_info"
   ]
  },
  {
   "cell_type": "code",
   "execution_count": 10,
   "metadata": {},
   "outputs": [],
   "source": [
    "PSQL_heroku_keys = {'dbname' : 'd5o1cfs1078sem'\n",
    "                    , 'port' : 5432\n",
    "                    , 'user' : 'fmfezriwohjnuk'\n",
    "                    , 'host' : 'ec2-34-196-34-142.compute-1.amazonaws.com'\n",
    "                    , 'password' : 'e3b8eceda1fbb0847f06c835d9b0ea972bd738a1745e9f570ea3f1c6100734e1'\n",
    "                    }\n",
    "\n",
    "#главное меню делаем глобальной переменной\n",
    "g_reply_markup_main = meta_info.reply_markup_main"
   ]
  },
  {
   "cell_type": "code",
   "execution_count": 11,
   "metadata": {},
   "outputs": [],
   "source": [
    "#создаем подключение к PSQL\n",
    "conn = psycopg2.connect(\"dbname='%(dbname)s' port='%(port)s' user='%(user)s' host='%(host)s' password='%(password)s'\" % PSQL_heroku_keys)\n",
    "\n",
    "\n",
    "\n",
    "#текущая метка времени с минутой часами\n",
    "def now_str():\n",
    "    now = datetime.now()\n",
    "    now_str = str(now.year)+str(now.month if now.month >= 10 else  '0'+str(now.month))+str(now.day if now.day >= 10 else  '0'+str(now.day)) +' '+str(now.hour if now.hour >= 10 else  '0'+str(now.hour)) + str(now.minute if now.minute >= 10 else  '0'+str(now.minute)) + str(now.second if now.second >= 10 else  '0'+str(now.second))\n",
    "    return now_str\n",
    "\n",
    "#завтрашная дата без часов минут\n",
    "def tomorrow_str_func():\n",
    "    tomorrow = datetime.now()+ timedelta(days=1)\n",
    "    tomorrow_str = str(tomorrow.year)+str(tomorrow.month if tomorrow.month >= 10 else  '0'+str(tomorrow.month))+str(tomorrow.day if tomorrow.day >= 10 else  '0'+str(tomorrow.day)) \n",
    "    return tomorrow_str\n",
    "\n",
    "\n",
    "#текущая дата без часов минут\n",
    "def today_str_func():\n",
    "    today = datetime.now()\n",
    "    today_str = str(today.year)+str(today.month if today.month >= 10 else  '0'+str(today.month))+str(today.day if today.day >= 10 else  '0'+str(today.day)) \n",
    "    return today_str\n"
   ]
  },
  {
   "cell_type": "code",
   "execution_count": 13,
   "metadata": {},
   "outputs": [
    {
     "data": {
      "text/plain": [
       "Decimal('6')"
      ]
     },
     "execution_count": 13,
     "metadata": {},
     "output_type": "execute_result"
    }
   ],
   "source": [
    "#формируем ответ\n",
    "response = {'status' : 200\n",
    "            ,'report' : 'today_tasks'\n",
    "            ,'message' : 'No reports'\n",
    "            ,'tomorrow_messages' : []\n",
    "            }\n",
    "#главное меню\n",
    "global g_reply_markup_main\n",
    "reply_markup_main = g_reply_markup_main\n",
    "\n",
    "\n",
    "#получаем дату в строке завтрашнего дня\n",
    "today_str = today_str_func()\n",
    "\n",
    "#получаем дату завтрашнего дня для sql запроса\n",
    "tomorrow_str = tomorrow_str_func()\n",
    "\n",
    "# создаем запрос\n",
    "cur = conn.cursor()\n",
    "\n",
    "#смотрим, какие данные завтра есть\n",
    "cur.execute(\"SELECT * from public.tasks where date_task = '%(today_str)s'\" % {'today_str' : today_str} )\n",
    "\n",
    "#получаем данные\n",
    "df_today_tasks = DataFrame(cur.fetchall(), columns=[desc[0] for desc in cur.description])\n",
    "\n",
    "#смотрим, какой объем задач в среднем люди берут на себя в течение двух месяцев\n",
    "cur.execute(\"select user_id         ,round(avg(cnt_tasks),0) + 1 as norm_task_in_day from ( select user_id      ,date_trunc('day',date_task)       ,count(id) as cnt_tasks from public.tasks where date_task >= date_trunc('month',now()) - INTERVAL '2MONTH' and date_task <= now() group by 1, date_trunc('day',date_task) ) as f group by user_id\"  )\n",
    "df_user_avg_day_task = DataFrame(cur.fetchall(), columns=[desc[0] for desc in cur.description])\n",
    "\n",
    "\n",
    "if df_today_tasks.shape[0] == 0:\n",
    "    cur.close()\n",
    "    #return response\n",
    "else:\n",
    "    cur.execute(\"select id , chat_id from public.user\" )\n",
    "    df_user = DataFrame(cur.fetchall(), columns=[desc[0] for desc in cur.description])\n",
    "    cur.close()\n",
    "\n",
    "\n",
    "#подгатавливаем лист с сообщениями\n",
    "list_messages = []\n",
    "#делаем выборку из пользователей, по кому нужно направить ответ\n",
    "list_user_id = list(df_today_tasks['user_id'].unique())\n",
    "df_user_id = df_user[df_user.id.isin(list_user_id)][:]\n",
    "\n",
    "\n",
    "#проходим по ним и заполняем листр завтрашних плановых операций\n",
    "for i,row in df_user_id.iterrows():\n",
    "    #получаем данные пользователя\n",
    "    user_id = row.id\n",
    "    chat_id = row.chat_id\n",
    "    #получаем сообщения по нему\n",
    "    interest_info = df_today_tasks[(df_today_tasks.user_id == user_id)][['task']][:]\n",
    "    list_interest_info = list(interest_info.T.to_dict('list').values())\n",
    "\n",
    "    text = 'Сегодня есть запланированные дела: \\n\\n'\n",
    "    num = 1\n",
    "    for task_plan in list_interest_info:\n",
    "        task_name = task_plan[0]\n",
    "        text += str(num) + ': ' + task_name + '\\n'\n",
    "\n",
    "        num += 1\n",
    "\n",
    "\n",
    "    update_task_dates = False\n",
    "    if user_id in df_user_avg_day_task.user_id.values:\n",
    "        avg_tasks_in_day = df_user_avg_day_task[(df_user_avg_day_task.user_id == user_id)].norm_task_in_day.values[0]\n",
    "        if avg_tasks_in_day < num - 1:\n",
    "            text += '\\n Уверены в своих силах? В среднем вы делаете в день задач около {0}, подумайте, может перенесем что-нибудь на другой день?'.format(avg_tasks_in_day)\n",
    "            update_task_dates = True\n",
    "        else:\n",
    "            text += '\\n Удачи в сегодняшнем дне, ковбой!'  \n",
    "\n",
    "    else:\n",
    "        text += '\\n Удачи в сегодняшнем дне, ковбой!'  \n",
    "\n",
    "\n",
    "\n",
    "    #формируем итоговый словарь по пользователю\n",
    "    user_dict_tomorrow_messages = {'user_id' : user_id\n",
    "                                  ,'chat_id' : chat_id\n",
    "                                  ,'message' : text\n",
    "                                  }\n",
    "\n",
    "    #Перенос неважных дел на завтра\n",
    "    if update_task_dates:\n",
    "        markup_non_important_to_tommorow = meta_info.markup_non_important_to_tommorow\n",
    "        user_dict_tomorrow_messages['reply_markup'] = markup_non_important_to_tommorow\n",
    "\n",
    "    #добавляем инфо\n",
    "    list_messages.append(user_dict_tomorrow_messages)\n",
    "\n",
    "\n",
    "response['system_message'] = 'Have reports'\n",
    "response['user_messages'] = list_messages\n",
    "\n",
    "\n",
    "avg_tasks_in_day"
   ]
  },
  {
   "cell_type": "code",
   "execution_count": null,
   "metadata": {},
   "outputs": [],
   "source": []
  },
  {
   "cell_type": "code",
   "execution_count": null,
   "metadata": {},
   "outputs": [],
   "source": []
  },
  {
   "cell_type": "code",
   "execution_count": 15,
   "metadata": {},
   "outputs": [],
   "source": [
    "conn.close()"
   ]
  },
  {
   "cell_type": "markdown",
   "metadata": {},
   "source": [
    "# перенос задач"
   ]
  },
  {
   "cell_type": "code",
   "execution_count": null,
   "metadata": {},
   "outputs": [],
   "source": [
    "from dicts import meta_info\n",
    "\n",
    "#главное меню делаем глобальной переменной\n",
    "g_reply_markup_main = meta_info.reply_markup_main\n",
    "\n",
    "g_reply_markup_main\n"
   ]
  },
  {
   "cell_type": "markdown",
   "metadata": {
    "collapsed": true
   },
   "source": [
    "#  персональные новости"
   ]
  },
  {
   "cell_type": "code",
   "execution_count": null,
   "metadata": {},
   "outputs": [],
   "source": [
    "import requests \n",
    "import json\n",
    "\n",
    "api_key = 'f45b069a9ab844369005986b34bb6764'\n",
    "url = 'https://newsapi.org/v2/'\n",
    "\n",
    "method = 'top-headlines?'\n",
    "\n",
    "country = 'ru'\n",
    "category_list = ['business', 'entertainment', 'general', 'health', 'science', 'sports', 'technology']\n",
    "category = 'business'\n",
    "language = 'ru'\n",
    "from_parameter = '2018-08-02'\n",
    "to_parameter = '2018-08-02'\n",
    "\n",
    "\n",
    "\n",
    "\n",
    "\n",
    "get_url = url+method+'country='+country+'&category='+category+'&language='+language+'&from_parameter='+from_parameter+'&to_parameter='+to_parameter \n",
    "get_url += '&apiKey='+api_key\n",
    "\n",
    "r = requests.get(get_url)\n",
    "\n",
    "json_r_news = json.loads(r.text)\n",
    "\n",
    "json_r_news['totalResults']"
   ]
  },
  {
   "cell_type": "code",
   "execution_count": null,
   "metadata": {},
   "outputs": [],
   "source": [
    "json_r_news['articles'][1]"
   ]
  },
  {
   "cell_type": "code",
   "execution_count": null,
   "metadata": {},
   "outputs": [],
   "source": []
  }
 ],
 "metadata": {
  "anaconda-cloud": {},
  "kernelspec": {
   "display_name": "Python 3",
   "language": "python",
   "name": "python3"
  },
  "language_info": {
   "codemirror_mode": {
    "name": "ipython",
    "version": 3
   },
   "file_extension": ".py",
   "mimetype": "text/x-python",
   "name": "python",
   "nbconvert_exporter": "python",
   "pygments_lexer": "ipython3",
   "version": "3.8.3"
  },
  "toc": {
   "base_numbering": 1,
   "nav_menu": {},
   "number_sections": true,
   "sideBar": true,
   "skip_h1_title": false,
   "title_cell": "Table of Contents",
   "title_sidebar": "Contents",
   "toc_cell": false,
   "toc_position": {},
   "toc_section_display": true,
   "toc_window_display": false
  },
  "varInspector": {
   "cols": {
    "lenName": 16,
    "lenType": 16,
    "lenVar": 40
   },
   "kernels_config": {
    "python": {
     "delete_cmd_postfix": "",
     "delete_cmd_prefix": "del ",
     "library": "var_list.py",
     "varRefreshCmd": "print(var_dic_list())"
    },
    "r": {
     "delete_cmd_postfix": ") ",
     "delete_cmd_prefix": "rm(",
     "library": "var_list.r",
     "varRefreshCmd": "cat(var_dic_list()) "
    }
   },
   "types_to_exclude": [
    "module",
    "function",
    "builtin_function_or_method",
    "instance",
    "_Feature"
   ],
   "window_display": false
  }
 },
 "nbformat": 4,
 "nbformat_minor": 1
}
