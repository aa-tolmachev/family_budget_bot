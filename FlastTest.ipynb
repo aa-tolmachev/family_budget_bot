{
 "cells": [
  {
   "cell_type": "markdown",
   "metadata": {},
   "source": [
    "# Грузим библиотеки"
   ]
  },
  {
   "cell_type": "code",
   "execution_count": 50,
   "metadata": {
    "collapsed": false,
    "scrolled": true
   },
   "outputs": [
    {
     "ename": "SyntaxError",
     "evalue": "invalid syntax (<ipython-input-50-1a4b91487028>, line 104)",
     "output_type": "error",
     "traceback": [
      "\u001b[0;36m  File \u001b[0;32m\"<ipython-input-50-1a4b91487028>\"\u001b[0;36m, line \u001b[0;32m104\u001b[0m\n\u001b[0;31m    elif command in keyboard_expense and last_state == '/expense_add':\u001b[0m\n\u001b[0m       ^\u001b[0m\n\u001b[0;31mSyntaxError\u001b[0m\u001b[0;31m:\u001b[0m invalid syntax\n"
     ]
    }
   ],
   "source": [
    "from flask import Flask\n",
    "from flask import request\n",
    "import requests\n",
    "from flask import make_response\n",
    "import os\n",
    "import json\n",
    "from pandas import DataFrame\n",
    "\n",
    "\n",
    "from methods import access\n",
    "from methods.emoji import emoji\n",
    "from methods import telegram_bot_methods\n",
    "from methods import google_maps_methods\n",
    "from methods import psql_methods\n",
    "from methods import reply\n",
    "\n",
    "\n",
    "\n",
    "\n",
    "token = access.token()\n",
    "api = access.api()\n",
    "\n",
    "#bot = telebot.TeleBot(token)\n",
    "\n",
    "application = Flask(__name__)  # Change assignment here\n",
    "\n",
    "\n",
    "\n",
    "\n",
    "# создаем webhook\n",
    "@application.route(\"/set_webhook\")\n",
    "def webhook():\n",
    "    url = api + token + '/setWebhook'\n",
    "    params = {'url' : 'https://fin-budg-bot.herokuapp.com/main'\n",
    "    }\n",
    "    r = requests.post(url,\n",
    "                      json=params)\n",
    "    return \"!\", 200\n",
    "\n",
    "\n",
    "\n",
    "# тестовый вывод\n",
    "@application.route(\"/\")  \n",
    "def hello():\n",
    "    return \"Hello World!\"\n",
    "\n",
    "\n",
    "\n",
    "\n",
    "# запуск основной функции\n",
    "@application.route('/main', methods=['GET', 'POST'])\n",
    "def main():\n",
    "    try:\n",
    "        json_update = json.loads(request.get_data())\n",
    "\n",
    "\n",
    "        #Изначально для отправки кнопки пустые\n",
    "        reply_markup = None\n",
    "\n",
    "        #получаем id чата и текст сообщения\n",
    "        chat_id = json_update['message']['chat']['id']\n",
    "        command = json_update['message']['text']\n",
    "\n",
    "        #в зависимости от команды выбираем действие\n",
    "        if command[0] != '/':\n",
    "            text = 'Не понимаю... Помочь? /help'\n",
    "\n",
    "        else:\n",
    "            if 'start' in command:\n",
    "                r = psql_methods.new_user(chat_id , json_update)\n",
    "                text = emoji('фанфары') + 'Добрый день! \\n' \n",
    "                text += 'Я планирую домашний бюджет и напоминаю об операциях в течение месяца. \\n'\n",
    "                text += 'Я развиваюсь в свободное время, текущие команды можно увидеть в меню /help. \\n'\n",
    "                text += 'Либо сразу заведите свой кошелек и забудьте о том, чтобы держать бюджет семьи в голове!' + emoji('банкноты')\n",
    "                reply_markup = {'keyboard': [['/help'],['/make_wallet']], 'resize_keyboard': True, 'one_time_keyboard': False}\n",
    "            elif 'help' in command:\n",
    "                r = psql_methods.last_state(chat_id,command)\n",
    "                text = 'Привет!' +  emoji('фанфары') + '\\n'\n",
    "                text += 'Задачи кошелька: \\n'\n",
    "                text += '/make_wallet - создание кошелька \\n'\n",
    "                text += '/expense_add - добавить трату \\n'\n",
    "                text += '/expense_update - изменить/удалить трату \\n'\n",
    "                text += '/wallet_report - отчет по операциям \\n'\n",
    "                text += '/wallet_advice - совет'\n",
    "            elif 'make_wallet' in command:\n",
    "                r = psql_methods.last_state(chat_id,command)\n",
    "                r = psql_methods.make_wallet(chat_id)\n",
    "                text = r['text']\n",
    "                reply_markup = r['reply_markup']\n",
    "            elif 'wallet_action' in command:\n",
    "                r = psql_methods.last_state(chat_id,command)\n",
    "                text = 'Что нужно сделать с личным кошельком? \\n'\n",
    "                text += '/expense_add - добавить фактическую операцию'\n",
    "                reply_markup = {'keyboard': [['/expense_add']], 'resize_keyboard': True, 'one_time_keyboard': False}\n",
    "            elif 'expense_add' in command:\n",
    "                r = psql_methods.last_state(chat_id,command)\n",
    "                text = 'Выберите тип траты'\n",
    "                keyboard_expense = reply.keyboard_expense()\n",
    "                reply_markup = {'keyboard': keyboard_expense, 'resize_keyboard': True, 'one_time_keyboard': True}\n",
    "\n",
    "            keyboard_expense = reply.keyboard_expense()\n",
    "            last_state = psql_methods.current_last_state(chat_id)\n",
    "            #если пришел запрос на добавление траты по типу - спрашиваем сумму\n",
    "            elif command in keyboard_expense and last_state == '/expense_add':\n",
    "                text = 'ок! Введите сумму операции'\n",
    "                r = psql_methods.insert_state_info_1(chat_id = chat_id , state_info_one = command)\n",
    "\n",
    "\n",
    "\n",
    "\n",
    "\n",
    "\n",
    "\n",
    "\n",
    "\n",
    "\n",
    "            else:\n",
    "                text = 'Неизвестная команда, для списка команд выбирите команду /help'\n",
    "  \n",
    "        #отправляем сообщение\n",
    "        send_result = telegram_bot_methods.send_message(chat_id = chat_id, text = text, reply_markup = reply_markup)\n",
    "\n",
    "\n",
    "\n",
    "\n",
    "            \n",
    "        return \"!\", 200\n",
    "    except:\n",
    "\n",
    "        return \"!\", 200\n",
    "\n",
    "\n",
    "\n",
    "\n",
    "\n",
    "\n",
    "\n",
    "if __name__ == \"__main__\":\n",
    "    port = int(os.getenv('PORT', 5000))\n",
    "    application.run(debug=False, port=port, host='0.0.0.0')\n",
    "\n"
   ]
  },
  {
   "cell_type": "code",
   "execution_count": 49,
   "metadata": {
    "collapsed": false
   },
   "outputs": [
    {
     "data": {
      "text/plain": [
       "'Толмачёв'"
      ]
     },
     "execution_count": 49,
     "metadata": {},
     "output_type": "execute_result"
    }
   ],
   "source": [
    "X = {'update_id': 201011794, 'message': {'message_id': 159, 'from': {'id': 84723474, 'first_name': 'Александр', 'last_name': 'Толмачёв', 'language_code': 'ru-RU'}, 'chat': {'id': 84723474, 'first_name': 'Александр', 'last_name': 'Толмачёв', 'type': 'private'}, 'date': 1502611993, 'text': '/help', 'entities': [{'type': 'bot_command', 'offset': 0, 'length': 5}]}}\n",
    "X['message']['text'] = '/start'\n",
    "X['message']['chat']['last_name']"
   ]
  },
  {
   "cell_type": "code",
   "execution_count": null,
   "metadata": {
    "collapsed": false
   },
   "outputs": [],
   "source": [
    "import datetime\n",
    "now = datetime.datetime.now()\n",
    "str(now.year)+str(now.month if now.month >= 10 else  '0'+str(now.month))+str(now.day if now.day >= 10 else  '0'+str(now.hour)) +' '+str(now.hour if now.hour >= 10 else  '0'+str(now.hour)) + str(now.minute if now.minute >= 10 else  '0'+str(now.minute)) + str(now.second if now.second >= 10 else  '0'+str(now.second))"
   ]
  },
  {
   "cell_type": "code",
   "execution_count": 41,
   "metadata": {
    "collapsed": false
   },
   "outputs": [],
   "source": [
    "from methods import access\n",
    "from methods import psql_methods\n",
    "\n",
    "import psycopg2\n",
    "from pandas import DataFrame\n",
    "chat_id =84723474\n",
    "\n",
    "PSQL_heroku_keys = access.PSQL_heroku_keys()\n",
    "\n",
    "#создаем подключение к PSQL\n",
    "conn = psycopg2.connect(\"dbname='%(dbname)s' port='%(port)s' user='%(user)s' host='%(host)s' password='%(password)s'\" % PSQL_heroku_keys)\n",
    "cur = conn.cursor()\n",
    "\n",
    "cur.execute(\"SELECT current_state as id from public.state\" )\n",
    "\n",
    "df = DataFrame(cur.fetchall(), columns=[desc[0] for desc in cur.description])\n",
    "\n",
    "cur.close()"
   ]
  },
  {
   "cell_type": "code",
   "execution_count": 46,
   "metadata": {
    "collapsed": false
   },
   "outputs": [
    {
     "data": {
      "text/plain": [
       "True"
      ]
     },
     "execution_count": 46,
     "metadata": {},
     "output_type": "execute_result"
    }
   ],
   "source": [
    "df['id'][0]\n"
   ]
  },
  {
   "cell_type": "code",
   "execution_count": null,
   "metadata": {
    "collapsed": false
   },
   "outputs": [],
   "source": [
    "from methods import access\n",
    "from methods import psql_methods\n",
    "\n",
    "r = psql_methods.make_wallet(84723474)\n",
    "\n"
   ]
  },
  {
   "cell_type": "code",
   "execution_count": 29,
   "metadata": {
    "collapsed": false
   },
   "outputs": [],
   "source": [
    "#тест отправки клавиатуры\n",
    "\n",
    "from methods import access\n",
    "import requests\n",
    "import json\n",
    "\n",
    "chat_id = 84723474\n",
    "text = '123'\n",
    "\n",
    "token = access.token()\n",
    "api = access.api()\n",
    "\n",
    "reply_markup = {'keyboard': [['1','2'],['2'],['4'],['5']], 'resize_keyboard': True, 'one_time_keyboard': True}\n",
    "#reply_markup = json.dumps(reply_markup)\n",
    "\n",
    "\n",
    "\n",
    "url = api + token + '/sendMessage'\n",
    "params = {'chat_id' : chat_id\n",
    "        ,'text' : text\n",
    "          ,'reply_markup': reply_markup\n",
    "          \n",
    "}\n",
    "r = requests.post(url,\n",
    "                  json=params)"
   ]
  },
  {
   "cell_type": "code",
   "execution_count": 36,
   "metadata": {
    "collapsed": true
   },
   "outputs": [],
   "source": [
    "#тест отправки клавиатуры\n",
    "\n",
    "from methods import access\n",
    "import requests\n",
    "import json\n",
    "\n",
    "chat_id = 84723474\n",
    "text = '123'\n",
    "\n",
    "token = access.token()\n",
    "api = access.api()\n",
    "\n",
    "reply_markup = {'keyboard': [['1']]}\n",
    "#reply_markup = json.dumps(reply_markup)\n",
    "\n",
    "\n",
    "\n",
    "url = api + token + '/sendMessage'\n",
    "params = {'chat_id' : chat_id\n",
    "        ,'text' : text\n",
    "          ,'reply_markup': reply_markup\n",
    "          \n",
    "}\n",
    "r = requests.post(url,\n",
    "                  json=params)"
   ]
  },
  {
   "cell_type": "code",
   "execution_count": null,
   "metadata": {
    "collapsed": true
   },
   "outputs": [],
   "source": []
  }
 ],
 "metadata": {
  "anaconda-cloud": {},
  "kernelspec": {
   "display_name": "Python 3",
   "language": "python",
   "name": "python3"
  },
  "language_info": {
   "codemirror_mode": {
    "name": "ipython",
    "version": 3
   },
   "file_extension": ".py",
   "mimetype": "text/x-python",
   "name": "python",
   "nbconvert_exporter": "python",
   "pygments_lexer": "ipython3",
   "version": "3.6.0"
  }
 },
 "nbformat": 4,
 "nbformat_minor": 1
}
