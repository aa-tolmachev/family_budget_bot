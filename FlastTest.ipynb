{
 "cells": [
  {
   "cell_type": "markdown",
   "metadata": {},
   "source": [
    "# Грузим библиотеки"
   ]
  },
  {
   "cell_type": "code",
   "execution_count": null,
   "metadata": {
    "collapsed": false,
    "scrolled": true
   },
   "outputs": [],
   "source": [
    "from flask import Flask\n",
    "from flask import request\n",
    "import requests\n",
    "from flask import make_response\n",
    "import os\n",
    "import json\n",
    "from pandas import DataFrame\n",
    "import traceback\n",
    "\n",
    "\n",
    "from methods import access\n",
    "from methods.emoji import emoji\n",
    "from methods import telegram_bot_methods\n",
    "from methods import google_maps_methods\n",
    "from methods import psql_methods\n",
    "from methods import reply\n",
    "\n",
    "\n",
    "\n",
    "import app\n",
    "\n",
    "\n",
    "\n",
    "if __name__ == \"__main__\":\n",
    "\n",
    "    \n",
    "    app.application.run()\n",
    "\n"
   ]
  },
  {
   "cell_type": "code",
   "execution_count": null,
   "metadata": {
    "collapsed": false
   },
   "outputs": [],
   "source": [
    "X = {'update_id': 201011794, 'message': {'message_id': 159, 'from': {'id': 84723474, 'first_name': 'Александр', 'last_name': 'Толмачёв', 'language_code': 'ru-RU'}, 'chat': {'id': 84723474, 'first_name': 'Александр', 'last_name': 'Толмачёв', 'type': 'private'}, 'date': 1502611993, 'text': '/help', 'entities': [{'type': 'bot_command', 'offset': 0, 'length': 5}]}}\n",
    "X['message']['text'] = '/start'\n",
    "X['message']['chat']['last_name']"
   ]
  },
  {
   "cell_type": "code",
   "execution_count": null,
   "metadata": {
    "collapsed": false
   },
   "outputs": [],
   "source": [
    "import datetime\n",
    "now = datetime.datetime.now()\n",
    "str(now.year)+str(now.month if now.month >= 10 else  '0'+str(now.month))+str(now.day if now.day >= 10 else  '0'+str(now.hour)) +' '+str(now.hour if now.hour >= 10 else  '0'+str(now.hour)) + str(now.minute if now.minute >= 10 else  '0'+str(now.minute)) + str(now.second if now.second >= 10 else  '0'+str(now.second))"
   ]
  },
  {
   "cell_type": "code",
   "execution_count": null,
   "metadata": {
    "collapsed": false
   },
   "outputs": [],
   "source": [
    "from methods import access\n",
    "from methods import psql_methods\n",
    "import requests\n",
    "import json\n",
    "\n",
    "import psycopg2\n",
    "from pandas import DataFrame\n",
    "chat_id =84723474\n",
    "reply_markup_main = {'keyboard': [['/expense_add'],['/crypto ETH-USD']], 'resize_keyboard': True, 'one_time_keyboard': False}\n",
    "\n",
    "url = 'https://api.cryptonator.com/api/ticker/eth-usd'\n",
    "\n",
    "r = requests.get(url)\n",
    "\n",
    "dict_crypto_curse = json.loads(r.text)\n",
    "\n",
    "ETH_USD = round(float(dict_crypto_curse['ticker']['price']), 3)\n",
    "text = str(ETH_USD) + ' $ за дозу эфирчика...'\n",
    "reply_markup = reply_markup_main\n"
   ]
  },
  {
   "cell_type": "code",
   "execution_count": 1,
   "metadata": {
    "collapsed": false
   },
   "outputs": [],
   "source": [
    "#тест отправки графика\n",
    "import psycopg2\n",
    "from pandas import DataFrame\n",
    "import pandas as pd\n",
    "from datetime import datetime\n",
    "from datetime import timedelta\n",
    "dbname = 'dbr3jigs1op5oo'\n",
    "port = '5432'\n",
    "user = 'muwrkppfuyldmk'\n",
    "host = 'ec2-54-227-252-202.compute-1.amazonaws.com'\n",
    "password = '4c4eabfcaf92f7289ccfc1a314d04a3c3806db72b1bf12fd5f0f40c410b14355'\n",
    "\n",
    "PSQL_heroku_keys = {'dbname' : dbname\n",
    "                    , 'port' : port\n",
    "                    , 'user' : user\n",
    "                    , 'host' : host\n",
    "                    , 'password' : password\n",
    "                    }\n",
    "\n",
    "\n",
    "\n",
    "user_id = 13\n",
    "\n",
    "\n",
    "conn = psycopg2.connect(\"dbname='%(dbname)s' port='%(port)s' user='%(user)s' host='%(host)s' password='%(password)s'\" % PSQL_heroku_keys)\n",
    "\n",
    "cur = conn.cursor()\n",
    "#достаем информацию по пользователю\n",
    "cur.execute(\"SELECT * from public.transaction_fact where user_id = %(user_id)s\" % {'user_id' : user_id} )\n",
    "df = DataFrame(cur.fetchall(), columns=[desc[0] for desc in cur.description])\n",
    "cur.close()"
   ]
  },
  {
   "cell_type": "code",
   "execution_count": 7,
   "metadata": {
    "collapsed": false,
    "scrolled": false
   },
   "outputs": [
    {
     "name": "stdout",
     "output_type": "stream",
     "text": [
      "За прошлый месяц трат не найдено \n"
     ]
    }
   ],
   "source": [
    "\n",
    "if df.shape[0] != 0: \n",
    "    #получаем необходимые даты\n",
    "    cur_year = datetime.now().year\n",
    "    cur_month = datetime.now().month\n",
    "\n",
    "    prev_year = cur_year if cur_month > 1 else cur_year -1\n",
    "    prev_month = cur_month - 1 if cur_month > 1 else 12\n",
    "\n",
    "    next_year = cur_year if cur_month < 12 else cur_year + 1\n",
    "    next_month = cur_month + 1 if cur_month < 12 else 1\n",
    "\n",
    "    #получаем df за текущий и предыдущий месяцы\n",
    "    df_cur_month_expense = df[(df.date_fact >= pd.datetime(cur_year,cur_month,1)) & (df.date_fact < pd.datetime(next_year,next_month,1))][:] \n",
    "    df_prev_month_expense = df[(df.date_fact >= pd.datetime(prev_year,prev_month,1)) & (df.date_fact < pd.datetime(cur_year,cur_month,1))][:] \n",
    "\n",
    "    #отсортированные и сгрупированные траты в текущем и предыдущем месяце\n",
    "    df_cur_month_expense_group = DataFrame(data = df_cur_month_expense.groupby(['transaction_type'])['summa'].sum() ).sort_values(by='summa' , ascending=False)\n",
    "    df_prev_month_expense_group = DataFrame(data = df_prev_month_expense.groupby(['transaction_type'])['summa'].sum() ).sort_values(by='summa' , ascending=False)\n",
    "\n",
    "\n",
    "    #заводм справочник популярных трат\n",
    "    type_expand = ([])\n",
    "    for row in df_prev_month_expense_group.iterrows():\n",
    "        k  = 1\n",
    "        type_expand.append(row[0])\n",
    "\n",
    "    sum_expand = df_prev_month_expense_group.values.astype(float)\n",
    "    all_sum = df_prev_month_expense_group['summa'].values.astype(float).sum()\n",
    "\n",
    "    text = 'Ваши траты в прошлом месяце: \\n' \n",
    "    for type , sum in zip(type_expand , sum_expand):\n",
    "        text += type + ': ' + str(int(round(sum[0],0)))  + ' руб.\\n'\n",
    "\n",
    "    text += '\\nИтого на сумму ' + str(int(round(all_sum,0))) + ' руб.\\n'\n",
    "\n",
    "else:\n",
    "    text = 'За прошлый месяц трат не найдено...'\n",
    "\n",
    "print(text)   "
   ]
  },
  {
   "cell_type": "code",
   "execution_count": null,
   "metadata": {
    "collapsed": true
   },
   "outputs": [],
   "source": []
  }
 ],
 "metadata": {
  "anaconda-cloud": {},
  "kernelspec": {
   "display_name": "Python 3",
   "language": "python",
   "name": "python3"
  },
  "language_info": {
   "codemirror_mode": {
    "name": "ipython",
    "version": 3
   },
   "file_extension": ".py",
   "mimetype": "text/x-python",
   "name": "python",
   "nbconvert_exporter": "python",
   "pygments_lexer": "ipython3",
   "version": "3.6.0"
  }
 },
 "nbformat": 4,
 "nbformat_minor": 1
}
