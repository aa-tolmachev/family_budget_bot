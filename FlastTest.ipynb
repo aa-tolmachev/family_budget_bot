{
 "cells": [
  {
   "cell_type": "markdown",
   "metadata": {},
   "source": [
    "# Грузим библиотеки"
   ]
  },
  {
   "cell_type": "code",
   "execution_count": null,
   "metadata": {
    "collapsed": false,
    "scrolled": true
   },
   "outputs": [],
   "source": [
    "from flask import Flask\n",
    "from flask import request\n",
    "import requests\n",
    "from flask import make_response\n",
    "import os\n",
    "import json\n",
    "from pandas import DataFrame\n",
    "import traceback\n",
    "\n",
    "\n",
    "from methods import access\n",
    "from methods.emoji import emoji\n",
    "from methods import telegram_bot_methods\n",
    "from methods import google_maps_methods\n",
    "from methods import psql_methods\n",
    "from methods import reply\n",
    "\n",
    "\n",
    "\n",
    "import app\n",
    "\n",
    "\n",
    "\n",
    "if __name__ == \"__main__\":\n",
    "\n",
    "    \n",
    "    app.application.run()\n",
    "\n"
   ]
  },
  {
   "cell_type": "code",
   "execution_count": null,
   "metadata": {
    "collapsed": false
   },
   "outputs": [],
   "source": [
    "X = {'update_id': 201011794, 'message': {'message_id': 159, 'from': {'id': 84723474, 'first_name': 'Александр', 'last_name': 'Толмачёв', 'language_code': 'ru-RU'}, 'chat': {'id': 84723474, 'first_name': 'Александр', 'last_name': 'Толмачёв', 'type': 'private'}, 'date': 1502611993, 'text': '/help', 'entities': [{'type': 'bot_command', 'offset': 0, 'length': 5}]}}\n",
    "X['message']['text'] = '/start'\n",
    "X['message']['chat']['last_name']"
   ]
  },
  {
   "cell_type": "code",
   "execution_count": null,
   "metadata": {
    "collapsed": false
   },
   "outputs": [],
   "source": [
    "#тест отправки графика\n",
    "import psycopg2\n",
    "from pandas import DataFrame\n",
    "import pandas as pd\n",
    "from datetime import datetime\n",
    "from datetime import timedelta\n",
    "\n",
    "#завтрашная дата без часов минут\n",
    "def tomorrow_str():\n",
    "    tomorrow = datetime.now()+ timedelta(days=1)\n",
    "    tomorrow_str = str(tomorrow.year)+str(tomorrow.month if tomorrow.month >= 10 else  '0'+str(tomorrow.month))+str(tomorrow.day if tomorrow.day >= 10 else  '0'+str(tomorrow.day)) \n",
    "    return tomorrow_str\n",
    "\n",
    "now = datetime.now()\n",
    "\n",
    "dbname = 'dbr3jigs1op5oo'\n",
    "port = '5432'\n",
    "user = 'muwrkppfuyldmk'\n",
    "host = 'ec2-54-227-252-202.compute-1.amazonaws.com'\n",
    "password = '4c4eabfcaf92f7289ccfc1a314d04a3c3806db72b1bf12fd5f0f40c410b14355'\n",
    "\n",
    "PSQL_heroku_keys = {'dbname' : dbname\n",
    "                    , 'port' : port\n",
    "                    , 'user' : user\n",
    "                    , 'host' : host\n",
    "                    , 'password' : password\n",
    "                    }\n",
    "\n",
    "\n",
    "#user_id = 13\n",
    "tomorrow_str = '20170908'\n",
    "tomorrow_day = int(tomorrow_str[-2:])\n",
    "\n",
    "\n",
    "conn = psycopg2.connect(\"dbname='%(dbname)s' port='%(port)s' user='%(user)s' host='%(host)s' password='%(password)s'\" % PSQL_heroku_keys)\n",
    "\n",
    "response = {'status' : 200\n",
    "            ,'report' : 'tomorrow_expense'\n",
    "            ,'system_message' : 'No reports'\n",
    "            ,'user_messages' : []\n",
    "            }\n",
    "###################\n",
    "cur = conn.cursor()\n",
    "\n",
    "#смотрим, какие данные завтра есть\n",
    "cur.execute(\"SELECT * from public.transaction_plan where date_plan = '%(tomorrow_str)s'\" % {'tomorrow_str' : tomorrow_str} )\n",
    "\n",
    "#получаем данные\n",
    "df_tomorrow_transaction_plan = DataFrame(cur.fetchall(), columns=[desc[0] for desc in cur.description])\n",
    "\n",
    "#получаем ежемесячные данные\n",
    "cur.execute(\"select * from public.month_transaction_plan where day = %(tomorrow_day)s\" % { 'tomorrow_day' : tomorrow_day} )\n",
    "df_tomorrow_transaction_month = DataFrame(cur.fetchall(), columns=[desc[0] for desc in cur.description])\n",
    "\n",
    "#формируем итог\n",
    "df_tomorrow_transaction_plan = df_tomorrow_transaction_plan.append(df_tomorrow_transaction_month).reset_index()[:]\n",
    "\n",
    "if df_tomorrow_transaction_plan.shape[0] == 0:\n",
    "    cur.close()\n",
    "    #return response\n",
    "else:\n",
    "    cur.execute(\"select id , chat_id from public.user\" )\n",
    "    df_user = DataFrame(cur.fetchall(), columns=[desc[0] for desc in cur.description])\n",
    "    cur.close()\n",
    "\n",
    "#подгатавливаем лист завтрашних плановых операций\n",
    "tomorrow_messages = []\n",
    "#делаем выборку из пользователей, по кому завтра будет операция\n",
    "list_tomorrow_user_id = list(df_tomorrow_transaction_plan['user_id'].unique())\n",
    "df_tomorrow_user_id = df_user[df_user.id.isin(list_tomorrow_user_id)][:]\n",
    "\n",
    "#проходим по ним и заполняем листр завтрашних плановых операций\n",
    "for i,row in df_tomorrow_user_id.iterrows():\n",
    "    #получаем данные пользователя\n",
    "    user_id = row.id\n",
    "    chat_id = row.chat_id\n",
    "    #получаем сообщения по нему\n",
    "    interest_info = df_tomorrow_transaction_plan[(df_tomorrow_transaction_plan.user_id == user_id)][['transaction_type','transaction_name','summa']][:]\n",
    "    list_interest_info = list(interest_info.T.to_dict('list').values())\n",
    "\n",
    "    text = 'Привет! Напоминаю, завтра есть запланированные траты: \\n\\n'\n",
    "    num = 1\n",
    "    for transaction_plan in list_interest_info:\n",
    "        transaction_name = transaction_plan[1]\n",
    "        summa = int(transaction_plan[2])\n",
    "        text += str(num) + ': ' + transaction_name + ', Сумма: ' +str(summa)  + ' руб.\\n'\n",
    "\n",
    "        num += 1\n",
    "\n",
    "    text += '\\nНе забудьте решить эти вопросы, а то мало ли...'\n",
    "\n",
    "\n",
    "\n",
    "\n",
    "    #формируем итоговый словарь по пользователю\n",
    "    user_dict_tomorrow_messages = {'user_id' : user_id\n",
    "                                  ,'chat_id' : chat_id\n",
    "                                  ,'message' : text}\n",
    "    #добавляем инфо\n",
    "    tomorrow_messages.append(user_dict_tomorrow_messages)\n",
    "\n",
    "\n",
    "response['system_message'] = 'Have reports'\n",
    "response['user_messages'] = tomorrow_messages\n",
    "\n",
    "print ('ok')"
   ]
  },
  {
   "cell_type": "code",
   "execution_count": null,
   "metadata": {
    "collapsed": false
   },
   "outputs": [],
   "source": [
    "df_tomorrow_user_id\n"
   ]
  },
  {
   "cell_type": "code",
   "execution_count": null,
   "metadata": {
    "collapsed": false
   },
   "outputs": [],
   "source": [
    "df_tomorrow_transaction_plan.append(df_tomorrow_transaction_month)"
   ]
  },
  {
   "cell_type": "code",
   "execution_count": null,
   "metadata": {
    "collapsed": true
   },
   "outputs": [],
   "source": []
  }
 ],
 "metadata": {
  "anaconda-cloud": {},
  "kernelspec": {
   "display_name": "Python 3",
   "language": "python",
   "name": "python3"
  },
  "language_info": {
   "codemirror_mode": {
    "name": "ipython",
    "version": 3
   },
   "file_extension": ".py",
   "mimetype": "text/x-python",
   "name": "python",
   "nbconvert_exporter": "python",
   "pygments_lexer": "ipython3",
   "version": "3.6.0"
  }
 },
 "nbformat": 4,
 "nbformat_minor": 1
}
