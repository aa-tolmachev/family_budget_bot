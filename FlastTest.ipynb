{
 "cells": [
  {
   "cell_type": "markdown",
   "metadata": {},
   "source": [
    "# Грузим библиотеки"
   ]
  },
  {
   "cell_type": "code",
   "execution_count": null,
   "metadata": {
    "collapsed": false,
    "scrolled": true
   },
   "outputs": [],
   "source": [
    "\n",
    "\n",
    "from flask import Flask\n",
    "from flask import request\n",
    "import traceback\n",
    "\n",
    "\n",
    "import family_budget\n",
    "\n",
    "\n",
    "application = Flask(__name__)  # Change assignment here\n",
    "\n",
    "\n",
    "\n",
    "@application.route(\"/\")  # Change your route statements\n",
    "def hello():\n",
    "    return \"Hello World!\"\n",
    "\n",
    "\n",
    "\n",
    "\n",
    "\n",
    "@application.route('/family_budget', methods=['GET', 'POST'])\n",
    "def fb():\n",
    "    try:\n",
    "        #json_params = json.loads(request.get_data())\n",
    "        \n",
    "        family_budget.main()\n",
    "        \n",
    "        return 'END Tips'\n",
    "    except:\n",
    "        traceback.print_exc()\n",
    "        return 'ERROR Tips'\n",
    "\n",
    "\n",
    "\n",
    "if __name__ == \"__main__\":\n",
    "    application.run()\n"
   ]
  },
  {
   "cell_type": "code",
   "execution_count": null,
   "metadata": {
    "collapsed": false
   },
   "outputs": [],
   "source": [
    "import requests\n",
    "import access\n",
    "import json\n",
    "from datetime import datetime\n",
    "from time import sleep\n",
    "\n",
    "token = access.token()\n",
    "api = access.api()\n",
    "d_google_maps_api = access.google_maps_api_key()\n",
    "\n",
    "def get_updates():\n",
    "    url = api + token + '/getUpdates'\n",
    "    r = requests.get(url)\n",
    "    return r.json()\n",
    "\n",
    "\n",
    "\n",
    "r = get_updates()\n"
   ]
  },
  {
   "cell_type": "code",
   "execution_count": null,
   "metadata": {
    "collapsed": false
   },
   "outputs": [],
   "source": [
    "import os\n",
    "from telegram.ext import Updater\n",
    "\n",
    "TOKEN = \"382244799:AAFfN3evzGDQaRevpW5xqZ1AEovvdRCWk-0\"\n",
    "PORT = int(os.environ.get('PORT', '5000'))\n",
    "updater = Updater(TOKEN)\n",
    "# add handlers\n",
    "updater.start_webhook(listen=\"0.0.0.0\",\n",
    "                      port=PORT,\n",
    "                      url_path=TOKEN)\n",
    "updater.bot.set_webhook(\"https://family-budget-.herokuapp.com/382244799:AAFfN3evzGDQaRevpW5xqZ1AEovvdRCWk-0\")\n",
    "updater.idle()"
   ]
  },
  {
   "cell_type": "code",
   "execution_count": null,
   "metadata": {
    "collapsed": false
   },
   "outputs": [],
   "source": [
    "from flask import Flask\n",
    "from flask import request\n",
    "from flask import make_response\n",
    "import os\n",
    "import telebot\n",
    "\n",
    "\n",
    "import family_budget\n",
    "import access\n",
    "\n",
    "\n",
    "token = access.token()\n",
    "bot = telebot.TeleBot(token)\n",
    "\n",
    "application = Flask(__name__)  # Change assignment here\n",
    "\n",
    "# создаем webhook\n",
    "@application.route(\"/set_webhook\")\n",
    "def webhook():\n",
    "    bot.remove_webhook()\n",
    "    bot.set_webhook(url=\"https://family-budget-.herokuapp.com/family_budget\")\n",
    "    return \"!\", 200\n",
    "\n",
    "\n",
    "\n",
    "\n",
    "# тестовый вывод\n",
    "@application.route(\"/\")  \n",
    "def hello():\n",
    "    return \"Hello World!\"\n",
    "\n",
    "\n",
    "\n",
    "\n",
    "# тестовый запуск\n",
    "@application.route('/family_budget', methods=['GET', 'POST'])\n",
    "def app_fb():\n",
    "    try:\n",
    "        #json_params = json.loads(request.get_data())\n",
    "\n",
    "        family_budget.main()\n",
    "        \n",
    "        return 'END'\n",
    "    except:\n",
    "\n",
    "        return 'ERROR'\n",
    "\n",
    "\n",
    "\n",
    "\n",
    "\n",
    "\n",
    "\n",
    "if __name__ == \"__main__\":\n",
    "    port = int(os.getenv('PORT', 5000))\n",
    "\n",
    "\n",
    "\n",
    "    #application.run(debug=False, port=port, host='0.0.0.0')\n",
    "    application.run()\n",
    "\n"
   ]
  },
  {
   "cell_type": "code",
   "execution_count": null,
   "metadata": {
    "collapsed": false
   },
   "outputs": [
    {
     "name": "stderr",
     "output_type": "stream",
     "text": [
      " * Running on http://127.0.0.1:5000/ (Press CTRL+C to quit)\n",
      "[2017-08-12 17:21:30,616] ERROR in app: Exception on / [GET]\n",
      "Traceback (most recent call last):\n",
      "  File \"C:\\Users\\Admin\\Anaconda3\\lib\\site-packages\\flask\\app.py\", line 1982, in wsgi_app\n",
      "    response = self.full_dispatch_request()\n",
      "  File \"C:\\Users\\Admin\\Anaconda3\\lib\\site-packages\\flask\\app.py\", line 1614, in full_dispatch_request\n",
      "    rv = self.handle_user_exception(e)\n",
      "  File \"C:\\Users\\Admin\\Anaconda3\\lib\\site-packages\\flask\\app.py\", line 1517, in handle_user_exception\n",
      "    reraise(exc_type, exc_value, tb)\n",
      "  File \"C:\\Users\\Admin\\Anaconda3\\lib\\site-packages\\flask\\_compat.py\", line 33, in reraise\n",
      "    raise value\n",
      "  File \"C:\\Users\\Admin\\Anaconda3\\lib\\site-packages\\flask\\app.py\", line 1612, in full_dispatch_request\n",
      "    rv = self.dispatch_request()\n",
      "  File \"C:\\Users\\Admin\\Anaconda3\\lib\\site-packages\\flask\\app.py\", line 1598, in dispatch_request\n",
      "    return self.view_functions[rule.endpoint](**req.view_args)\n",
      "  File \"<ipython-input-1-5683e438ebb5>\", line 25, in webhook\n",
      "    bot.set_webhook(url=\"https://family-budget-.herokuapp.com/bot\")\n",
      "  File \"C:\\Users\\Admin\\Anaconda3\\lib\\site-packages\\telebot\\__init__.py\", line 104, in set_webhook\n",
      "    return apihelper.set_webhook(self.token, url, certificate, max_connections, allowed_updates)\n",
      "  File \"C:\\Users\\Admin\\Anaconda3\\lib\\site-packages\\telebot\\apihelper.py\", line 150, in set_webhook\n",
      "    return _make_request(token, method_url, params=payload, files=files)\n",
      "  File \"C:\\Users\\Admin\\Anaconda3\\lib\\site-packages\\telebot\\apihelper.py\", line 56, in _make_request\n",
      "    return _check_result(method_name, result)['result']\n",
      "  File \"C:\\Users\\Admin\\Anaconda3\\lib\\site-packages\\telebot\\apihelper.py\", line 75, in _check_result\n",
      "    raise ApiException(msg, method_name, result)\n",
      "telebot.apihelper.ApiException: A request to the Telegram API was unsuccessful. The server returned HTTP 400 Bad Request. Response body:\n",
      "[b'{\"ok\":false,\"error_code\":400,\"description\":\"Bad Request: bad webhook: getaddrinfo: No address associated with hostname\"}']\n",
      "127.0.0.1 - - [12/Aug/2017 17:21:30] \"GET / HTTP/1.1\" 500 -\n"
     ]
    }
   ],
   "source": [
    "import telebot\n",
    "import os\n",
    "from flask import Flask, request\n",
    "\n",
    "bot = telebot.TeleBot('382244799:AAFfN3evzGDQaRevpW5xqZ1AEovvdRCWk-0')\n",
    "\n",
    "server = Flask(__name__)\n",
    "\n",
    "@bot.message_handler(commands=['start'])\n",
    "def start(message):\n",
    "    bot.reply_to(message, 'Hello, ' + message.from_user.first_name)\n",
    "\n",
    "@bot.message_handler(func=lambda message: True, content_types=['text'])\n",
    "def echo_message(message):\n",
    "    bot.reply_to(message, message.text)\n",
    "\n",
    "@server.route(\"/bot\", methods=['POST'])\n",
    "def getMessage():\n",
    "    bot.process_new_updates([telebot.types.Update.de_json(request.stream.read().decode(\"utf-8\"))])\n",
    "    return \"!\", 200\n",
    "\n",
    "@server.route(\"/\")\n",
    "def webhook():\n",
    "    bot.remove_webhook()\n",
    "    bot.set_webhook(url=\"https://family-budget-.herokuapp.com/bot\")\n",
    "    return \"!\", 200\n",
    "\n",
    "server.run()\n",
    "server = Flask(__name__)"
   ]
  },
  {
   "cell_type": "code",
   "execution_count": null,
   "metadata": {
    "collapsed": true
   },
   "outputs": [],
   "source": []
  }
 ],
 "metadata": {
  "anaconda-cloud": {},
  "kernelspec": {
   "display_name": "Python 3",
   "language": "python",
   "name": "python3"
  },
  "language_info": {
   "codemirror_mode": {
    "name": "ipython",
    "version": 3
   },
   "file_extension": ".py",
   "mimetype": "text/x-python",
   "name": "python",
   "nbconvert_exporter": "python",
   "pygments_lexer": "ipython3",
   "version": "3.6.0"
  }
 },
 "nbformat": 4,
 "nbformat_minor": 1
}
