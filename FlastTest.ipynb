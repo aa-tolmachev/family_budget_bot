{
 "cells": [
  {
   "cell_type": "markdown",
   "metadata": {},
   "source": [
    "# Грузим библиотеки"
   ]
  },
  {
   "cell_type": "code",
   "execution_count": null,
   "metadata": {
    "collapsed": false,
    "scrolled": true
   },
   "outputs": [],
   "source": [
    "from flask import Flask\n",
    "from flask import request\n",
    "import requests\n",
    "from flask import make_response\n",
    "import os\n",
    "import json\n",
    "from pandas import DataFrame\n",
    "import traceback\n",
    "\n",
    "\n",
    "from methods import access\n",
    "from methods.emoji import emoji\n",
    "from methods import telegram_bot_methods\n",
    "from methods import google_maps_methods\n",
    "from methods import psql_methods\n",
    "from methods import reply\n",
    "\n",
    "\n",
    "\n",
    "import app\n",
    "\n",
    "\n",
    "\n",
    "if __name__ == \"__main__\":\n",
    "\n",
    "    app.application.run()\n",
    "\n"
   ]
  },
  {
   "cell_type": "code",
   "execution_count": null,
   "metadata": {
    "collapsed": false
   },
   "outputs": [],
   "source": [
    "X = {'update_id': 201011794, 'message': {'message_id': 159, 'from': {'id': 84723474, 'first_name': 'Александр', 'last_name': 'Толмачёв', 'language_code': 'ru-RU'}, 'chat': {'id': 84723474, 'first_name': 'Александр', 'last_name': 'Толмачёв', 'type': 'private'}, 'date': 1502611993, 'text': '/help', 'entities': [{'type': 'bot_command', 'offset': 0, 'length': 5}]}}\n",
    "X['message']['text'] = '/start'\n",
    "X['message']['chat']['last_name']"
   ]
  },
  {
   "cell_type": "code",
   "execution_count": null,
   "metadata": {
    "collapsed": false
   },
   "outputs": [],
   "source": [
    "import datetime\n",
    "now = datetime.datetime.now()\n",
    "str(now.year)+str(now.month if now.month >= 10 else  '0'+str(now.month))+str(now.day if now.day >= 10 else  '0'+str(now.hour)) +' '+str(now.hour if now.hour >= 10 else  '0'+str(now.hour)) + str(now.minute if now.minute >= 10 else  '0'+str(now.minute)) + str(now.second if now.second >= 10 else  '0'+str(now.second))"
   ]
  },
  {
   "cell_type": "code",
   "execution_count": null,
   "metadata": {
    "collapsed": false
   },
   "outputs": [],
   "source": [
    "from methods import access\n",
    "from methods import psql_methods\n",
    "\n",
    "import psycopg2\n",
    "from pandas import DataFrame\n",
    "chat_id =84723474\n",
    "summa = 230.0\n",
    "dict_user_data = {'last_state': '/expense_add', 'state_info_1': 'еда', 'state_info_2': None, 'state_info_3': None, 'user_id': 11, 'personal_wallet_id': 4, 'status': 200}\n",
    "\n",
    "PSQL_heroku_keys = access.PSQL_heroku_keys()\n",
    "\n",
    "#создаем подключение к PSQL\n",
    "conn = psycopg2.connect(\"dbname='%(dbname)s' port='%(port)s' user='%(user)s' host='%(host)s' password='%(password)s'\" % PSQL_heroku_keys)\n",
    "cur = conn.cursor()\n",
    "\n",
    "#проверяем, что пользователя ранее не было\n",
    "cur.execute(\"SELECT current_state , state_info_1 , state_info_2 , state_info_3 from public.state where chat_id = %(chat_id)s\" % {'chat_id' : chat_id} )\n",
    "\n",
    "df = DataFrame(cur.fetchall(), columns=[desc[0] for desc in cur.description])\n",
    "\n",
    "cur.execute(\"SELECT id , personal_wallet_id from public.user where chat_id = %(chat_id)s\" % {'chat_id' : chat_id} )\n",
    "\n",
    "df_user = DataFrame(cur.fetchall(), columns=[desc[0] for desc in cur.description])\n",
    "\n",
    "\n",
    "\n",
    "if df.shape[0] != 0:\n",
    "    last_state = df['current_state'][0]\n",
    "    state_info_1 = df['state_info_1'][0]\n",
    "    state_info_2 = df['state_info_2'][0]\n",
    "    state_info_3 = df['state_info_3'][0]\n",
    "    user_id = df_user['id'][0]\n",
    "    personal_wallet_id = df_user['personal_wallet_id'][0]\n",
    "    status = 200\n",
    "else:\n",
    "    last_state = 'unknown'\n",
    "    state_info_1 = 'unknown'\n",
    "    state_info_2 = 'unknown'\n",
    "    state_info_3 = 'unknown'\n",
    "    user_id = 'unknown'\n",
    "    personal_wallet_id = 'unknown'\n",
    "    status = 404\n",
    "\n",
    "cur.close()\n",
    "\n",
    "dict_user_data = {'last_state' : last_state\n",
    "            ,'state_info_1' : state_info_1\n",
    "            ,'state_info_2' : state_info_2\n",
    "            ,'state_info_3' : state_info_3\n",
    "            ,'user_id' : user_id\n",
    "            ,'personal_wallet_id' : personal_wallet_id\n",
    "            ,'status' : status\n",
    "            }\n",
    "\n",
    "dict_user_data\n",
    "last_state = dict_user_data['last_state']\n",
    "state_info_1 = dict_user_data['state_info_1']\n",
    "user_id = dict_user_data['user_id']\n",
    "personal_wallet_id = dict_user_data['personal_wallet_id']\n"
   ]
  },
  {
   "cell_type": "code",
   "execution_count": null,
   "metadata": {
    "collapsed": false
   },
   "outputs": [],
   "source": [
    "df['id'][0]\n"
   ]
  },
  {
   "cell_type": "code",
   "execution_count": null,
   "metadata": {
    "collapsed": false
   },
   "outputs": [],
   "source": [
    "from methods import access\n",
    "from methods import psql_methods\n",
    "\n",
    "r = psql_methods.make_wallet(84723474)\n",
    "\n"
   ]
  },
  {
   "cell_type": "code",
   "execution_count": null,
   "metadata": {
    "collapsed": false
   },
   "outputs": [],
   "source": [
    "#тест отправки клавиатуры\n",
    "\n",
    "from methods import access\n",
    "import requests\n",
    "import json\n",
    "\n",
    "chat_id = 84723474\n",
    "text = '123'\n",
    "\n",
    "token = access.token()\n",
    "api = access.api()\n",
    "\n",
    "reply_markup = {'keyboard': [['1','2'],['2'],['4'],['5']], 'resize_keyboard': True, 'one_time_keyboard': True}\n",
    "#reply_markup = json.dumps(reply_markup)\n",
    "\n",
    "\n",
    "\n",
    "url = api + token + '/sendMessage'\n",
    "params = {'chat_id' : chat_id\n",
    "        ,'text' : text\n",
    "          ,'reply_markup': reply_markup\n",
    "          \n",
    "}\n",
    "r = requests.post(url,\n",
    "                  json=params)"
   ]
  },
  {
   "cell_type": "code",
   "execution_count": null,
   "metadata": {
    "collapsed": true
   },
   "outputs": [],
   "source": [
    "#тест отправки клавиатуры\n",
    "\n",
    "from methods import access\n",
    "import requests\n",
    "import json\n",
    "\n",
    "chat_id = 84723474\n",
    "text = '123'\n",
    "\n",
    "token = access.token()\n",
    "api = access.api()\n",
    "\n",
    "reply_markup = {'keyboard': [['1']]}\n",
    "#reply_markup = json.dumps(reply_markup)\n",
    "\n",
    "\n",
    "\n",
    "url = api + token + '/sendMessage'\n",
    "params = {'chat_id' : chat_id\n",
    "        ,'text' : text\n",
    "          ,'reply_markup': reply_markup\n",
    "          \n",
    "}\n",
    "r = requests.post(url,\n",
    "                  json=params)"
   ]
  },
  {
   "cell_type": "code",
   "execution_count": null,
   "metadata": {
    "collapsed": true
   },
   "outputs": [],
   "source": [
    "list_expense_types = ['еда' , 'дом' , 'счета и услуги'\n",
    "                    ,'транспорт' , 'долги' ,'личные расходы'\n",
    "                    ,'сбережения' ,'другие'\n",
    "                    ]\n",
    "\n",
    "keyboard_expense = []\n",
    "row_keyboard = []\n",
    "row_num = 0\n",
    "\n",
    "for i in list_expense_types:\n",
    "    row_num += 1\n",
    "    row_keyboard.append(i)\n",
    "    if row_num > 2:\n",
    "        keyboard_expense.append(row_keyboard)\n",
    "        row_keyboard = []\n",
    "        row_num = 0\n",
    "    elif i == list_expense_types[-1]:\n",
    "        keyboard_expense.append(row_keyboard)"
   ]
  },
  {
   "cell_type": "code",
   "execution_count": null,
   "metadata": {
    "collapsed": false
   },
   "outputs": [],
   "source": [
    "keyboard_expense"
   ]
  },
  {
   "cell_type": "code",
   "execution_count": null,
   "metadata": {
    "collapsed": false
   },
   "outputs": [],
   "source": [
    "command = '12345'\n",
    "command = command.replace(',','.')\n",
    "\n",
    "\n",
    "'float' in str(type(round(float(command),2)))"
   ]
  },
  {
   "cell_type": "code",
   "execution_count": null,
   "metadata": {
    "collapsed": true
   },
   "outputs": [],
   "source": []
  }
 ],
 "metadata": {
  "anaconda-cloud": {},
  "kernelspec": {
   "display_name": "Python 3",
   "language": "python",
   "name": "python3"
  },
  "language_info": {
   "codemirror_mode": {
    "name": "ipython",
    "version": 3
   },
   "file_extension": ".py",
   "mimetype": "text/x-python",
   "name": "python",
   "nbconvert_exporter": "python",
   "pygments_lexer": "ipython3",
   "version": "3.6.0"
  }
 },
 "nbformat": 4,
 "nbformat_minor": 1
}
