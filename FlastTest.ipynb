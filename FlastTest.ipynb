{
 "cells": [
  {
   "cell_type": "markdown",
   "metadata": {},
   "source": [
    "# Грузим библиотеки"
   ]
  },
  {
   "cell_type": "code",
   "execution_count": null,
   "metadata": {},
   "outputs": [],
   "source": [
    "from flask import Flask\n",
    "from flask import request\n",
    "import requests\n",
    "from flask import make_response\n",
    "import os\n",
    "import json\n",
    "from pandas import DataFrame\n",
    "import traceback\n",
    "\n",
    "\n",
    "from methods import access\n",
    "from methods.emoji import emoji\n",
    "from methods import telegram_bot_methods\n",
    "from methods import google_maps_methods\n",
    "from methods import psql_methods\n",
    "from methods import reply\n",
    "from dicts import dict_dates\n",
    "\n",
    "\n",
    "\n",
    "import app\n",
    "\n",
    "\n",
    "\n",
    "if __name__ == \"__main__\":\n",
    "\n",
    "    \n",
    "    app.application.run()\n",
    "\n"
   ]
  },
  {
   "cell_type": "code",
   "execution_count": null,
   "metadata": {},
   "outputs": [],
   "source": [
    "import re\n",
    "\n",
    "task_name = ' ! fdfs fdsfsdf fds'\n",
    "is_main_task = task_name.replace(' ','')[0] == \"!\"\n",
    "if is_main_task"
   ]
  },
  {
   "cell_type": "code",
   "execution_count": null,
   "metadata": {},
   "outputs": [],
   "source": [
    "X = {'update_id': 201011794, 'message': {'message_id': 159, 'from': {'id': 84723474, 'first_name': 'Александр', 'last_name': 'Толмачёв', 'language_code': 'ru-RU'}, 'chat': {'id': 84723474, 'first_name': 'Александр', 'last_name': 'Толмачёв', 'type': 'private'}, 'date': 1502611993, 'text': '/help', 'entities': [{'type': 'bot_command', 'offset': 0, 'length': 5}]}}\n",
    "X['message']['text'] = '/start'\n",
    "X['message']['chat']['last_name']"
   ]
  },
  {
   "cell_type": "markdown",
   "metadata": {},
   "source": [
    "# локальные тесты"
   ]
  },
  {
   "cell_type": "code",
   "execution_count": 18,
   "metadata": {},
   "outputs": [],
   "source": [
    "from flask import Flask\n",
    "from flask import request\n",
    "import requests\n",
    "from flask import make_response\n",
    "import os\n",
    "import json\n",
    "from pandas import DataFrame\n",
    "import numpy as np\n",
    "import traceback\n",
    "from ast import literal_eval\n",
    "\n",
    "from methods import access\n",
    "from methods import crypto\n",
    "from methods.emoji import emoji\n",
    "from methods import telegram_bot_methods\n",
    "from methods import google_maps_methods\n",
    "from methods import psql_methods\n",
    "from methods import psql_cron_methods\n",
    "from methods import reply\n",
    "\n",
    "from dicts import meta_info\n",
    "\n",
    "from dialog_branch import *\n",
    "import dialog_branch as dibr\n",
    "\n",
    "from router import *\n",
    "import router as router"
   ]
  },
  {
   "cell_type": "code",
   "execution_count": 19,
   "metadata": {},
   "outputs": [],
   "source": [
    "import requests\n",
    "import access\n",
    "from methods.emoji import emoji\n",
    "import json\n",
    "from datetime import datetime\n",
    "from datetime import timedelta\n",
    "from time import sleep\n",
    "import psycopg2\n",
    "from pandas import DataFrame\n",
    "import pandas as pd\n",
    "import numpy as np\n",
    "import re"
   ]
  },
  {
   "cell_type": "code",
   "execution_count": 24,
   "metadata": {},
   "outputs": [],
   "source": [
    "json_update = {'update_id': 109204651, 'message': {'message_id': 27349, 'from': {'id': 84723474, 'is_bot': False, 'first_name': 'Александр', 'last_name': 'Толмачёв', 'username': 'aa_tolmachev', 'language_code': 'ru'}, 'chat': {'id': 84723474, 'first_name': 'Александр', 'last_name': 'Толмачёв', 'username': 'aa_tolmachev', 'type': 'private'}, 'date': 1636113587, 'text': 'Траты план - список'}}\n",
    "\n",
    "#получаем id чата и текст сообщения\n",
    "chat_id = json_update['message']['chat']['id']\n",
    "command = json_update['message']['text']"
   ]
  },
  {
   "cell_type": "code",
   "execution_count": 25,
   "metadata": {},
   "outputs": [
    {
     "data": {
      "text/plain": [
       "{'last_state': 'Кошелек',\n",
       " 'state_info_1': None,\n",
       " 'state_info_2': None,\n",
       " 'state_info_3': None,\n",
       " 'state_info_4': None,\n",
       " 'state_info_5': None,\n",
       " 'user_id': 13,\n",
       " 'personal_wallet_id': 5,\n",
       " 'status': 200}"
      ]
     },
     "execution_count": 25,
     "metadata": {},
     "output_type": "execute_result"
    }
   ],
   "source": [
    "#получаем текущее состояние\n",
    "dict_user_data = psql_methods.user_data(chat_id)\n",
    "last_state = dict_user_data['last_state']\n",
    "state_info_1 = dict_user_data['state_info_1']\n",
    "state_info_2 = dict_user_data['state_info_2']\n",
    "state_info_3 = dict_user_data['state_info_3']\n",
    "state_info_4 = dict_user_data['state_info_4']\n",
    "state_info_5 = dict_user_data['state_info_5']\n",
    "user_id = dict_user_data['user_id']\n",
    "personal_wallet_id = dict_user_data['personal_wallet_id']\n",
    "\n",
    "dict_user_data"
   ]
  },
  {
   "cell_type": "code",
   "execution_count": 26,
   "metadata": {},
   "outputs": [
    {
     "data": {
      "text/plain": [
       "'Траты план - список'"
      ]
     },
     "execution_count": 26,
     "metadata": {},
     "output_type": "execute_result"
    }
   ],
   "source": [
    "command"
   ]
  },
  {
   "cell_type": "code",
   "execution_count": 27,
   "metadata": {},
   "outputs": [
    {
     "ename": "ValueError",
     "evalue": "invalid literal for int() with base 10: 'Проверка оплат:\\nGOSU\\nОтличные наличные\\nДомой Доставим\\nГде Мои Дети\\nFoodcast'",
     "output_type": "error",
     "traceback": [
      "\u001b[0;31m---------------------------------------------------------------------------\u001b[0m",
      "\u001b[0;31mValueError\u001b[0m                                Traceback (most recent call last)",
      "\u001b[0;32m<ipython-input-27-2ea05a43fd01>\u001b[0m in \u001b[0;36m<module>\u001b[0;34m\u001b[0m\n\u001b[1;32m     19\u001b[0m     \u001b[0;32mif\u001b[0m \u001b[0mcommand\u001b[0m \u001b[0;34m==\u001b[0m \u001b[0;34m'Траты план - список'\u001b[0m\u001b[0;34m:\u001b[0m\u001b[0;34m\u001b[0m\u001b[0;34m\u001b[0m\u001b[0m\n\u001b[1;32m     20\u001b[0m         \u001b[0mr\u001b[0m \u001b[0;34m=\u001b[0m \u001b[0mpsql_methods\u001b[0m\u001b[0;34m.\u001b[0m\u001b[0mlast_state\u001b[0m\u001b[0;34m(\u001b[0m\u001b[0mchat_id\u001b[0m\u001b[0;34m,\u001b[0m\u001b[0mcommand\u001b[0m\u001b[0;34m)\u001b[0m\u001b[0;34m\u001b[0m\u001b[0;34m\u001b[0m\u001b[0m\n\u001b[0;32m---> 21\u001b[0;31m         \u001b[0mr\u001b[0m \u001b[0;34m=\u001b[0m \u001b[0mpsql_methods\u001b[0m\u001b[0;34m.\u001b[0m\u001b[0mlist_transaction_plan\u001b[0m\u001b[0;34m(\u001b[0m\u001b[0mchat_id\u001b[0m\u001b[0;34m,\u001b[0m \u001b[0muser_id\u001b[0m\u001b[0;34m)\u001b[0m\u001b[0;34m\u001b[0m\u001b[0;34m\u001b[0m\u001b[0m\n\u001b[0m\u001b[1;32m     22\u001b[0m         \u001b[0;32mif\u001b[0m \u001b[0mr\u001b[0m\u001b[0;34m[\u001b[0m\u001b[0;34m'system_message'\u001b[0m\u001b[0;34m]\u001b[0m \u001b[0;34m==\u001b[0m \u001b[0;34m'Have reports'\u001b[0m\u001b[0;34m:\u001b[0m\u001b[0;34m\u001b[0m\u001b[0;34m\u001b[0m\u001b[0m\n\u001b[1;32m     23\u001b[0m             \u001b[0mtext\u001b[0m \u001b[0;34m=\u001b[0m \u001b[0mr\u001b[0m\u001b[0;34m[\u001b[0m\u001b[0;34m'text'\u001b[0m\u001b[0;34m]\u001b[0m\u001b[0;34m\u001b[0m\u001b[0;34m\u001b[0m\u001b[0m\n",
      "\u001b[0;32m~/projects/family_budget_bot/methods/psql_methods.py\u001b[0m in \u001b[0;36mlist_transaction_plan\u001b[0;34m(chat_id, user_id)\u001b[0m\n\u001b[1;32m    550\u001b[0m         \u001b[0mday\u001b[0m \u001b[0;34m=\u001b[0m \u001b[0mstr\u001b[0m\u001b[0;34m(\u001b[0m\u001b[0mrow\u001b[0m\u001b[0;34m[\u001b[0m\u001b[0;36m1\u001b[0m\u001b[0;34m]\u001b[0m\u001b[0;34m[\u001b[0m\u001b[0;36m1\u001b[0m\u001b[0;34m]\u001b[0m\u001b[0;34m)\u001b[0m\u001b[0;34m\u001b[0m\u001b[0;34m\u001b[0m\u001b[0m\n\u001b[1;32m    551\u001b[0m         \u001b[0mtransaction_name\u001b[0m \u001b[0;34m=\u001b[0m \u001b[0mstr\u001b[0m\u001b[0;34m(\u001b[0m\u001b[0mrow\u001b[0m\u001b[0;34m[\u001b[0m\u001b[0;36m1\u001b[0m\u001b[0;34m]\u001b[0m\u001b[0;34m[\u001b[0m\u001b[0;36m5\u001b[0m\u001b[0;34m]\u001b[0m\u001b[0;34m)\u001b[0m\u001b[0;34m\u001b[0m\u001b[0;34m\u001b[0m\u001b[0m\n\u001b[0;32m--> 552\u001b[0;31m         \u001b[0mtransaction_summa\u001b[0m \u001b[0;34m=\u001b[0m \u001b[0mstr\u001b[0m\u001b[0;34m(\u001b[0m\u001b[0mint\u001b[0m\u001b[0;34m(\u001b[0m\u001b[0mrow\u001b[0m\u001b[0;34m[\u001b[0m\u001b[0;36m1\u001b[0m\u001b[0;34m]\u001b[0m\u001b[0;34m[\u001b[0m\u001b[0;36m4\u001b[0m\u001b[0;34m]\u001b[0m\u001b[0;34m)\u001b[0m\u001b[0;34m)\u001b[0m\u001b[0;34m\u001b[0m\u001b[0;34m\u001b[0m\u001b[0m\n\u001b[0m\u001b[1;32m    553\u001b[0m         \u001b[0mtext\u001b[0m \u001b[0;34m+=\u001b[0m \u001b[0mnum\u001b[0m \u001b[0;34m+\u001b[0m \u001b[0;34m': '\u001b[0m \u001b[0;34m+\u001b[0m \u001b[0mday\u001b[0m \u001b[0;34m+\u001b[0m \u001b[0;34m' числа, '\u001b[0m \u001b[0;34m+\u001b[0m \u001b[0mtransaction_name\u001b[0m \u001b[0;34m+\u001b[0m \u001b[0;34m', '\u001b[0m \u001b[0;34m+\u001b[0m \u001b[0mtransaction_summa\u001b[0m \u001b[0;34m+\u001b[0m \u001b[0;34m' руб.\\n'\u001b[0m\u001b[0;34m\u001b[0m\u001b[0;34m\u001b[0m\u001b[0m\n\u001b[1;32m    554\u001b[0m \u001b[0;34m\u001b[0m\u001b[0m\n",
      "\u001b[0;31mValueError\u001b[0m: invalid literal for int() with base 10: 'Проверка оплат:\\nGOSU\\nОтличные наличные\\nДомой Доставим\\nГде Мои Дети\\nFoodcast'"
     ]
    }
   ],
   "source": [
    "if 'Кошелек' in command:\n",
    "    r = psql_methods.last_state(chat_id,command)\n",
    "    text = 'Что сделать с кошельком?'\n",
    "    reply_markup = {'keyboard': [['Траты факт - добавить'],['Траты план - добавить'],['Траты план - список']], 'resize_keyboard': True, 'one_time_keyboard': False}\n",
    "\n",
    "#1->1-> - выбор траты \n",
    "elif last_state == 'Кошелек':\n",
    "    #1->1->1 - добавление фактической траты\n",
    "    if command == 'Траты факт - добавить':\n",
    "        r = psql_methods.last_state(chat_id,command)\n",
    "        text = 'Выберите тип траты'\n",
    "        reply_markup = {'keyboard': keyboard_expense, 'resize_keyboard': True, 'one_time_keyboard': True}\n",
    "    #1->1->2 - добавление плановой траты\n",
    "    if command == 'Траты план - добавить':\n",
    "        r = psql_methods.last_state(chat_id,command)\n",
    "        text = 'Это разовая трата или повторяется каждый месяц?'\n",
    "        reply_markup = {'keyboard': [['Разовая'],['Каждый месяц']], 'resize_keyboard': True, 'one_time_keyboard': False}\n",
    "    #1->1->3 - список плановых трат\n",
    "    if command == 'Траты план - список':\n",
    "        r = psql_methods.last_state(chat_id,command)\n",
    "        r = psql_methods.list_transaction_plan(chat_id, user_id)\n",
    "        if r['system_message'] == 'Have reports':\n",
    "            text = r['text']\n",
    "            reply_markup = r['reply_markup']\n",
    "        else:\n",
    "            r = psql_methods.last_state(chat_id,'/main')\n",
    "            text = 'В текущем месяце нет плановых трат...'\n",
    "            reply_markup = reply_markup_main"
   ]
  },
  {
   "cell_type": "code",
   "execution_count": 29,
   "metadata": {},
   "outputs": [],
   "source": [
    "#текущая метка времени\n",
    "def now_str():\n",
    "    now = datetime.now()\n",
    "    now_str = str(now.year)+str(now.month if now.month >= 10 else  '0'+str(now.month))+str(now.day if now.day >= 10 else  '0'+str(now.day)) +' '+str(now.hour if now.hour >= 10 else  '0'+str(now.hour)) + str(now.minute if now.minute >= 10 else  '0'+str(now.minute)) + str(now.second if now.second >= 10 else  '0'+str(now.second))\n",
    "    return now_str\n",
    "\n",
    "\n",
    "#завтрашная дата без часов минут\n",
    "def tomorrow_str_func():\n",
    "    tomorrow = datetime.now()+ timedelta(days=1)\n",
    "    tomorrow_str = str(tomorrow.year)+str(tomorrow.month if tomorrow.month >= 10 else  '0'+str(tomorrow.month))+str(tomorrow.day if tomorrow.day >= 10 else  '0'+str(tomorrow.day)) \n",
    "    return tomorrow_str\n",
    "\n",
    "\n",
    "#текущая дата без часов минут\n",
    "def today_str_func():\n",
    "    today = datetime.now()\n",
    "    today_str = str(today.year)+str(today.month if today.month >= 10 else  '0'+str(today.month))+str(today.day if today.day >= 10 else  '0'+str(today.day)) \n",
    "    return today_str"
   ]
  },
  {
   "cell_type": "code",
   "execution_count": 32,
   "metadata": {},
   "outputs": [
    {
     "ename": "ValueError",
     "evalue": "invalid literal for int() with base 10: 'Проверка оплат:\\nGOSU\\nОтличные наличные\\nДомой Доставим\\nГде Мои Дети\\nFoodcast'",
     "output_type": "error",
     "traceback": [
      "\u001b[0;31m---------------------------------------------------------------------------\u001b[0m",
      "\u001b[0;31mValueError\u001b[0m                                Traceback (most recent call last)",
      "\u001b[0;32m<ipython-input-32-e079bc0ddf9d>\u001b[0m in \u001b[0;36m<module>\u001b[0;34m\u001b[0m\n\u001b[1;32m     81\u001b[0m     \u001b[0mday\u001b[0m \u001b[0;34m=\u001b[0m \u001b[0mstr\u001b[0m\u001b[0;34m(\u001b[0m\u001b[0mrow\u001b[0m\u001b[0;34m[\u001b[0m\u001b[0;36m1\u001b[0m\u001b[0;34m]\u001b[0m\u001b[0;34m[\u001b[0m\u001b[0;36m1\u001b[0m\u001b[0;34m]\u001b[0m\u001b[0;34m)\u001b[0m\u001b[0;34m\u001b[0m\u001b[0;34m\u001b[0m\u001b[0m\n\u001b[1;32m     82\u001b[0m     \u001b[0mtransaction_name\u001b[0m \u001b[0;34m=\u001b[0m \u001b[0mstr\u001b[0m\u001b[0;34m(\u001b[0m\u001b[0mrow\u001b[0m\u001b[0;34m[\u001b[0m\u001b[0;36m1\u001b[0m\u001b[0;34m]\u001b[0m\u001b[0;34m[\u001b[0m\u001b[0;36m5\u001b[0m\u001b[0;34m]\u001b[0m\u001b[0;34m)\u001b[0m\u001b[0;34m\u001b[0m\u001b[0;34m\u001b[0m\u001b[0m\n\u001b[0;32m---> 83\u001b[0;31m     \u001b[0mtransaction_summa\u001b[0m \u001b[0;34m=\u001b[0m \u001b[0mstr\u001b[0m\u001b[0;34m(\u001b[0m\u001b[0mint\u001b[0m\u001b[0;34m(\u001b[0m\u001b[0mrow\u001b[0m\u001b[0;34m[\u001b[0m\u001b[0;36m1\u001b[0m\u001b[0;34m]\u001b[0m\u001b[0;34m[\u001b[0m\u001b[0;36m4\u001b[0m\u001b[0;34m]\u001b[0m\u001b[0;34m)\u001b[0m\u001b[0;34m)\u001b[0m\u001b[0;34m\u001b[0m\u001b[0;34m\u001b[0m\u001b[0m\n\u001b[0m\u001b[1;32m     84\u001b[0m     \u001b[0mtext\u001b[0m \u001b[0;34m+=\u001b[0m \u001b[0mnum\u001b[0m \u001b[0;34m+\u001b[0m \u001b[0;34m': '\u001b[0m \u001b[0;34m+\u001b[0m \u001b[0mday\u001b[0m \u001b[0;34m+\u001b[0m \u001b[0;34m' числа, '\u001b[0m \u001b[0;34m+\u001b[0m \u001b[0mtransaction_name\u001b[0m \u001b[0;34m+\u001b[0m \u001b[0;34m', '\u001b[0m \u001b[0;34m+\u001b[0m \u001b[0mtransaction_summa\u001b[0m \u001b[0;34m+\u001b[0m \u001b[0;34m' руб.\\n'\u001b[0m\u001b[0;34m\u001b[0m\u001b[0;34m\u001b[0m\u001b[0m\n\u001b[1;32m     85\u001b[0m \u001b[0;34m\u001b[0m\u001b[0m\n",
      "\u001b[0;31mValueError\u001b[0m: invalid literal for int() with base 10: 'Проверка оплат:\\nGOSU\\nОтличные наличные\\nДомой Доставим\\nГде Мои Дети\\nFoodcast'"
     ]
    }
   ],
   "source": [
    "PSQL_heroku_keys = access.PSQL_heroku_keys()\n",
    "#создаем подключение к PSQL\n",
    "conn = psycopg2.connect(\"dbname='%(dbname)s' port='%(port)s' user='%(user)s' host='%(host)s' password='%(password)s'\" % PSQL_heroku_keys)\n",
    "\n",
    "#формат ответа\n",
    "response = {'status' : 200\n",
    "            ,'report' : 'transaction_plan'\n",
    "            ,'system_message' : 'No report'\n",
    "            ,'text' : 'NaN'\n",
    "            ,'reply_markup' : 'NaN'\n",
    "            }\n",
    "\n",
    "# создаем запрос\n",
    "cur = conn.cursor()\n",
    "\n",
    "now_strin = now_str()[:8]\n",
    "now_day = int(now_strin[-2:])\n",
    "now_month = int(now_strin[4:6])\n",
    "\n",
    "#смотрим, какие данные завтра есть\n",
    "cur.execute(\"SELECT * from public.transaction_plan where date_plan >= '%(now_strin)s' and Extract(month from date_plan) = %(now_month)s and user_id = %(user_id)s\" % {'now_strin' : now_strin , 'user_id' : user_id , 'now_month' : now_month} )\n",
    "\n",
    "#получаем данные\n",
    "df_transaction_plan = DataFrame(cur.fetchall(), columns=[desc[0] for desc in cur.description])\n",
    "\n",
    "#получаем ежемесячные данные\n",
    "cur.execute(\"select * from public.month_transaction_plan where day >= %(now_day)s and user_id = %(user_id)s\" % { 'now_day' : now_day , 'user_id' : user_id} )\n",
    "df_transaction_month = DataFrame(cur.fetchall(), columns=[desc[0] for desc in cur.description])\n",
    "\n",
    "#формируем итог\n",
    "df_transaction_plan = df_transaction_plan.append(df_transaction_month)\n",
    "\n",
    "#если ничего нет - возвращаем ответ\n",
    "if df_transaction_plan.shape[0] == 0:\n",
    "    cur.close()\n",
    "    #return response\n",
    "else:\n",
    "    cur.close()\n",
    "\n",
    "#достаем дни из разовых трат    \n",
    "if df_transaction_plan['date_plan'].dtypes != 'O':\n",
    "    df_transaction_plan['day_month'] = df_transaction_plan['date_plan'].dt.day\n",
    "else:\n",
    "    df_transaction_plan['day_month'] = df_transaction_plan['date_plan']\n",
    "\n",
    "#формируем единую метку дней\n",
    "day = []\n",
    "for day1 , day2 in zip (df_transaction_plan['day'].values , df_transaction_plan['day_month'].values):\n",
    "    if np.isnan(day1):\n",
    "        day.append(int(day2))\n",
    "    else:\n",
    "        day.append(int(day1))\n",
    "\n",
    "df_transaction_plan['day'] = day   \n",
    "\n",
    "\n",
    "df_transaction_plan.sort_values(by = ['day'] , inplace = True , ascending = True)\n",
    "\n",
    "df_transaction_plan.reset_index(inplace = True)\n",
    "\n",
    "df_transaction_plan.drop(labels = 'index' , axis = 1 , inplace = True)\n",
    "\n",
    "month_names = {1 : 'январь'\n",
    "              ,2 : 'февраль'\n",
    "              ,3 : 'март'\n",
    "              ,4 : 'апрель'\n",
    "              ,5 : 'май'\n",
    "              ,6 : 'июнь'\n",
    "              ,7 : 'июль'\n",
    "              ,8 : 'август'\n",
    "              ,9 : 'сентябрь'\n",
    "              ,10 : 'октябрь'\n",
    "              ,11 : 'ноябрь'\n",
    "              ,12 : 'декабрь'}\n",
    "\n",
    "text = 'Вот список запланированных трат на %(month_name)s:\\n\\n' % {'month_name' : month_names[now_month]}\n",
    "\n",
    "#формируем список\n",
    "for row in df_transaction_plan.iterrows():\n",
    "    num = str(row[0]+1)\n",
    "    day = str(row[1][1])\n",
    "    transaction_name = str(row[1][4])\n",
    "    transaction_summa = str(int(row[1][5]))\n",
    "    text += num + ': ' + day + ' числа, ' + transaction_name + ', ' + transaction_summa + ' руб.\\n'\n",
    "\n",
    "\n",
    "text += '\\nЧто-то нужно сделать, Владыка?'\n",
    "reply_markup = {'keyboard': [['Изменить','Удалить'],['Добавить','меню']], 'resize_keyboard': True, 'one_time_keyboard': False}\n",
    "system_message = 'Have reports' \n",
    "\n",
    "response['text'] = text\n",
    "response['reply_markup'] = reply_markup\n",
    "response['system_message'] = system_message"
   ]
  },
  {
   "cell_type": "code",
   "execution_count": 38,
   "metadata": {},
   "outputs": [],
   "source": [
    "conn.close()"
   ]
  },
  {
   "cell_type": "code",
   "execution_count": 53,
   "metadata": {},
   "outputs": [
    {
     "data": {
      "text/plain": [
       "23"
      ]
     },
     "execution_count": 53,
     "metadata": {},
     "output_type": "execute_result"
    }
   ],
   "source": [
    "for i,row in df_transaction_plan.iterrows():\n",
    "    1\n",
    "    \n",
    "row['transaction_name']"
   ]
  },
  {
   "cell_type": "code",
   "execution_count": 54,
   "metadata": {},
   "outputs": [
    {
     "data": {
      "text/html": [
       "<div>\n",
       "<style scoped>\n",
       "    .dataframe tbody tr th:only-of-type {\n",
       "        vertical-align: middle;\n",
       "    }\n",
       "\n",
       "    .dataframe tbody tr th {\n",
       "        vertical-align: top;\n",
       "    }\n",
       "\n",
       "    .dataframe thead th {\n",
       "        text-align: right;\n",
       "    }\n",
       "</style>\n",
       "<table border=\"1\" class=\"dataframe\">\n",
       "  <thead>\n",
       "    <tr style=\"text-align: right;\">\n",
       "      <th></th>\n",
       "      <th>id</th>\n",
       "      <th>user_id</th>\n",
       "      <th>wallet_id</th>\n",
       "      <th>transaction_type</th>\n",
       "      <th>transaction_name</th>\n",
       "      <th>summa</th>\n",
       "      <th>date_plan</th>\n",
       "      <th>flg_done</th>\n",
       "      <th>day</th>\n",
       "      <th>day_month</th>\n",
       "    </tr>\n",
       "  </thead>\n",
       "  <tbody>\n",
       "    <tr>\n",
       "      <th>0</th>\n",
       "      <td>46</td>\n",
       "      <td>13</td>\n",
       "      <td>5</td>\n",
       "      <td>счета и услуги</td>\n",
       "      <td>Проверка оплат:\\nGOSU\\nОтличные наличные\\nДомо...</td>\n",
       "      <td>300000.00</td>\n",
       "      <td>NaN</td>\n",
       "      <td>NaN</td>\n",
       "      <td>16</td>\n",
       "      <td>NaN</td>\n",
       "    </tr>\n",
       "    <tr>\n",
       "      <th>1</th>\n",
       "      <td>47</td>\n",
       "      <td>13</td>\n",
       "      <td>5</td>\n",
       "      <td>сбережения</td>\n",
       "      <td>Подсчитать прогресс дохода</td>\n",
       "      <td>1.00</td>\n",
       "      <td>NaN</td>\n",
       "      <td>NaN</td>\n",
       "      <td>23</td>\n",
       "      <td>NaN</td>\n",
       "    </tr>\n",
       "  </tbody>\n",
       "</table>\n",
       "</div>"
      ],
      "text/plain": [
       "   id user_id wallet_id transaction_type  \\\n",
       "0  46      13         5   счета и услуги   \n",
       "1  47      13         5       сбережения   \n",
       "\n",
       "                                    transaction_name      summa date_plan  \\\n",
       "0  Проверка оплат:\\nGOSU\\nОтличные наличные\\nДомо...  300000.00       NaN   \n",
       "1                         Подсчитать прогресс дохода       1.00       NaN   \n",
       "\n",
       "  flg_done  day day_month  \n",
       "0      NaN   16       NaN  \n",
       "1      NaN   23       NaN  "
      ]
     },
     "execution_count": 54,
     "metadata": {},
     "output_type": "execute_result"
    }
   ],
   "source": [
    "df_transaction_plan"
   ]
  },
  {
   "cell_type": "code",
   "execution_count": 39,
   "metadata": {},
   "outputs": [
    {
     "name": "stdout",
     "output_type": "stream",
     "text": [
      "1 13 Проверка оплат:\n",
      "GOSU\n",
      "Отличные наличные\n",
      "Домой Доставим\n",
      "Где Мои Дети\n",
      "Foodcast\n",
      "2 13 Подсчитать прогресс дохода\n"
     ]
    }
   ],
   "source": [
    "for row in df_transaction_plan.iterrows():\n",
    "    num = str(row[0]+1)\n",
    "    day = str(row[1][1])\n",
    "    transaction_name = str(row[1][4])\n",
    "\n",
    "    print(num , day , transaction_name)"
   ]
  },
  {
   "cell_type": "markdown",
   "metadata": {},
   "source": [
    "# выполненеи задач"
   ]
  },
  {
   "cell_type": "markdown",
   "metadata": {},
   "source": [
    "# перенос задач"
   ]
  },
  {
   "cell_type": "code",
   "execution_count": 1,
   "metadata": {},
   "outputs": [
    {
     "data": {
      "text/plain": [
       "{'keyboard': [['Отчеты', 'Кошелек'], ['Инвестиции', 'Дела']],\n",
       " 'resize_keyboard': True,\n",
       " 'one_time_keyboard': False}"
      ]
     },
     "execution_count": 1,
     "metadata": {},
     "output_type": "execute_result"
    }
   ],
   "source": [
    "from dicts import meta_info\n",
    "\n",
    "#главное меню делаем глобальной переменной\n",
    "g_reply_markup_main = meta_info.reply_markup_main\n",
    "\n",
    "g_reply_markup_main\n"
   ]
  },
  {
   "cell_type": "markdown",
   "metadata": {
    "collapsed": true
   },
   "source": [
    "#  персональные новости"
   ]
  },
  {
   "cell_type": "code",
   "execution_count": 1,
   "metadata": {},
   "outputs": [
    {
     "data": {
      "text/plain": [
       "61"
      ]
     },
     "execution_count": 1,
     "metadata": {},
     "output_type": "execute_result"
    }
   ],
   "source": [
    "import requests \n",
    "import json\n",
    "\n",
    "api_key = 'f45b069a9ab844369005986b34bb6764'\n",
    "url = 'https://newsapi.org/v2/'\n",
    "\n",
    "method = 'top-headlines?'\n",
    "\n",
    "country = 'ru'\n",
    "category_list = ['business', 'entertainment', 'general', 'health', 'science', 'sports', 'technology']\n",
    "category = 'business'\n",
    "language = 'ru'\n",
    "from_parameter = '2018-08-02'\n",
    "to_parameter = '2018-08-02'\n",
    "\n",
    "\n",
    "\n",
    "\n",
    "\n",
    "get_url = url+method+'country='+country+'&category='+category+'&language='+language+'&from_parameter='+from_parameter+'&to_parameter='+to_parameter \n",
    "get_url += '&apiKey='+api_key\n",
    "\n",
    "r = requests.get(get_url)\n",
    "\n",
    "json_r_news = json.loads(r.text)\n",
    "\n",
    "json_r_news['totalResults']"
   ]
  },
  {
   "cell_type": "code",
   "execution_count": 2,
   "metadata": {},
   "outputs": [
    {
     "data": {
      "text/plain": [
       "{'source': {'id': None, 'name': 'Forklog.com'},\n",
       " 'author': None,\n",
       " 'title': 'Цена Solana обновила исторический максимум на отметке $250 - http://forklog.com/',\n",
       " 'description': 'В пятницу, 5 ноября, котировки Solana (SOL) обновили исторический максимум на отметке $250. За последние сутки актив вырос на 2,7%, за неделю — на 24,8%, согласно CoinGecko. На момент написания SOL торгуется в районе $243. Часовой график SOL/USDT биржи Binanc…',\n",
       " 'url': 'https://forklog.com/tsena-solana-obnovila-istoricheskij-maksimum-na-otmetke-250/',\n",
       " 'urlToImage': 'https://forklog.com/wp-content/uploads/solana-min.png',\n",
       " 'publishedAt': '2021-11-05T06:32:16Z',\n",
       " 'content': ', 5 , Solana (SOL) $250.\\r\\n 2,7%, 24,8%, CoinGecko. SOL $243.\\r\\nSOL/USDT Binance. : TradingView.\\r\\nSolana Tether (USDT) , $73,3 .\\r\\n: CoinGecko.\\r\\n(TVL) Solana $15 .\\r\\n: DeFiLlama.\\r\\n30 Solana \\xa0\\xa0 $100.\\r\\n7 S… [+183 chars]'}"
      ]
     },
     "execution_count": 2,
     "metadata": {},
     "output_type": "execute_result"
    }
   ],
   "source": [
    "json_r_news['articles'][1]"
   ]
  },
  {
   "cell_type": "code",
   "execution_count": null,
   "metadata": {},
   "outputs": [],
   "source": []
  }
 ],
 "metadata": {
  "anaconda-cloud": {},
  "kernelspec": {
   "display_name": "Python 3",
   "language": "python",
   "name": "python3"
  },
  "language_info": {
   "codemirror_mode": {
    "name": "ipython",
    "version": 3
   },
   "file_extension": ".py",
   "mimetype": "text/x-python",
   "name": "python",
   "nbconvert_exporter": "python",
   "pygments_lexer": "ipython3",
   "version": "3.8.3"
  },
  "toc": {
   "base_numbering": 1,
   "nav_menu": {},
   "number_sections": true,
   "sideBar": true,
   "skip_h1_title": false,
   "title_cell": "Table of Contents",
   "title_sidebar": "Contents",
   "toc_cell": false,
   "toc_position": {},
   "toc_section_display": true,
   "toc_window_display": false
  },
  "varInspector": {
   "cols": {
    "lenName": 16,
    "lenType": 16,
    "lenVar": 40
   },
   "kernels_config": {
    "python": {
     "delete_cmd_postfix": "",
     "delete_cmd_prefix": "del ",
     "library": "var_list.py",
     "varRefreshCmd": "print(var_dic_list())"
    },
    "r": {
     "delete_cmd_postfix": ") ",
     "delete_cmd_prefix": "rm(",
     "library": "var_list.r",
     "varRefreshCmd": "cat(var_dic_list()) "
    }
   },
   "types_to_exclude": [
    "module",
    "function",
    "builtin_function_or_method",
    "instance",
    "_Feature"
   ],
   "window_display": false
  }
 },
 "nbformat": 4,
 "nbformat_minor": 1
}
