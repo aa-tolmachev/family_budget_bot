{
 "cells": [
  {
   "cell_type": "markdown",
   "metadata": {},
   "source": [
    "# Грузим библиотеки"
   ]
  },
  {
   "cell_type": "code",
   "execution_count": null,
   "metadata": {
    "collapsed": false
   },
   "outputs": [],
   "source": [
    "from flask import Flask\n",
    "from flask import request\n",
    "import requests\n",
    "from flask import make_response\n",
    "import os\n",
    "import json\n",
    "from pandas import DataFrame\n",
    "import traceback\n",
    "\n",
    "\n",
    "from methods import access\n",
    "from methods.emoji import emoji\n",
    "from methods import telegram_bot_methods\n",
    "from methods import google_maps_methods\n",
    "from methods import psql_methods\n",
    "from methods import reply\n",
    "from dicts import dict_dates\n",
    "\n",
    "\n",
    "\n",
    "import app\n",
    "\n",
    "\n",
    "\n",
    "if __name__ == \"__main__\":\n",
    "\n",
    "    \n",
    "    app.application.run()\n",
    "\n"
   ]
  },
  {
   "cell_type": "code",
   "execution_count": 5,
   "metadata": {
    "collapsed": false
   },
   "outputs": [
    {
     "data": {
      "text/plain": [
       "True"
      ]
     },
     "execution_count": 5,
     "metadata": {},
     "output_type": "execute_result"
    }
   ],
   "source": [
    "import re\n",
    "\n",
    "task_name = ' ! fdfs fdsfsdf fds'\n",
    "is_main_task = task_name.replace(' ','')[0] == \"!\"\n",
    "if is_main_task"
   ]
  },
  {
   "cell_type": "code",
   "execution_count": null,
   "metadata": {
    "collapsed": false
   },
   "outputs": [],
   "source": [
    "X = {'update_id': 201011794, 'message': {'message_id': 159, 'from': {'id': 84723474, 'first_name': 'Александр', 'last_name': 'Толмачёв', 'language_code': 'ru-RU'}, 'chat': {'id': 84723474, 'first_name': 'Александр', 'last_name': 'Толмачёв', 'type': 'private'}, 'date': 1502611993, 'text': '/help', 'entities': [{'type': 'bot_command', 'offset': 0, 'length': 5}]}}\n",
    "X['message']['text'] = '/start'\n",
    "X['message']['chat']['last_name']"
   ]
  },
  {
   "cell_type": "code",
   "execution_count": null,
   "metadata": {
    "collapsed": false
   },
   "outputs": [],
   "source": [
    "#тест отправки графика\n",
    "import psycopg2\n",
    "from pandas import DataFrame\n",
    "import pandas as pd\n",
    "from datetime import datetime\n",
    "from datetime import timedelta\n",
    "\n",
    "import numpy as np\n",
    "\n",
    "#текущая метка времени\n",
    "def now_str():\n",
    "    now = datetime.now()\n",
    "    now_str = str(now.year)+str(now.month if now.month >= 10 else  '0'+str(now.month))+str(now.day if now.day >= 10 else  '0'+str(now.day)) +' '+str(now.hour if now.hour >= 10 else  '0'+str(now.hour)) + str(now.minute if now.minute >= 10 else  '0'+str(now.minute)) + str(now.second if now.second >= 10 else  '0'+str(now.second))\n",
    "    return now_str\n",
    "\n",
    "\n",
    "dbname = 'dbr3jigs1op5oo'\n",
    "port = '5432'\n",
    "user = 'muwrkppfuyldmk'\n",
    "host = 'ec2-54-227-252-202.compute-1.amazonaws.com'\n",
    "password = '4c4eabfcaf92f7289ccfc1a314d04a3c3806db72b1bf12fd5f0f40c410b14355'\n",
    "\n",
    "PSQL_heroku_keys = {'dbname' : dbname\n",
    "                    , 'port' : port\n",
    "                    , 'user' : user\n",
    "                    , 'host' : host\n",
    "                    , 'password' : password\n",
    "                    }\n",
    "\n",
    "\n",
    "conn = psycopg2.connect(\"dbname='%(dbname)s' port='%(port)s' user='%(user)s' host='%(host)s' password='%(password)s'\" % PSQL_heroku_keys)\n",
    "\n",
    "\n",
    "# создаем запрос\n",
    "cur = conn.cursor()\n",
    "\n",
    "user_id = 13\n",
    "\n",
    "cur.execute(\"select * from public.tasks where  user_id = %(user_id)s  and date_task >= date_trunc('month',now()) - INTERVAL '1MONTH' and date_task < date_trunc('month',now())\" % {  'user_id' : user_id} )\n",
    "\n",
    "df_plan_tasks = DataFrame(cur.fetchall(), columns=[desc[0] for desc in cur.description]).sort_values(by='date_task' , ascending=True)\n",
    "\n",
    "cur.close() \n"
   ]
  },
  {
   "cell_type": "code",
   "execution_count": null,
   "metadata": {
    "collapsed": false
   },
   "outputs": [],
   "source": [
    "import re\n",
    "import time\n",
    "import pymystem3\n",
    "\n",
    "interest_info = df_plan_tasks[:]\n",
    "\n",
    "punctuation_pattern = ' |\\.$|\\. |, |\\/|\\(|\\)|\\'|\\\"|\\!|\\?|\\+|\\:'\n",
    "\n",
    "text = [re.split(punctuation_pattern, x.lower()) for x in  interest_info['task']]\n",
    "text_meta = text[:]\n"
   ]
  },
  {
   "cell_type": "code",
   "execution_count": null,
   "metadata": {
    "collapsed": false
   },
   "outputs": [],
   "source": [
    "\n",
    "import re\n",
    "import time\n",
    "import pymystem3\n",
    "#стеммизируем слова\n",
    "\n",
    "interest_info = df_plan_tasks[:]\n",
    "\n",
    "punctuation_pattern = ' |\\.$|\\. |, |\\/|\\(|\\)|\\'|\\\"|\\!|\\?|\\+|\\:'\n",
    "\n",
    "text = [re.split(punctuation_pattern, x.lower()) for x in  interest_info['task']]\n",
    "text_meta = text[:]\n",
    "\n",
    "\n",
    "\n",
    "start = time.time()\n",
    "\n",
    "mystem = pymystem3 . Mystem ( )\n",
    "\n",
    "r = 0\n",
    "for row in text:\n",
    "    row_new = []\n",
    "    for word in row:\n",
    "        word = word.encode('utf8','ignore').decode()\n",
    "        if len(word) > 3 and '\\\\u' != word[:2] and '<' != word[:1] and '\\\\' != word[:1]:\n",
    "            \n",
    "            #test\n",
    "            if r <= 1:\n",
    "                new_word = mystem.lemmatize (word)[0]\n",
    "            else:\n",
    "                new_word = word\n",
    "            row_new.append(new_word)\n",
    "        \n",
    "    \n",
    "    text[r] = row_new\n",
    "    r += 1\n",
    "    \n",
    "\n",
    "    \n",
    "    \n",
    "stop = time.time()\n",
    "print (u\"Время, затраченное lemmatize- %f на обработку  \"%(stop - start))\n",
    "\n",
    "\n"
   ]
  },
  {
   "cell_type": "code",
   "execution_count": null,
   "metadata": {
    "collapsed": false
   },
   "outputs": [],
   "source": [
    "unique_words = []\n",
    "velosity_in_words = []\n",
    "velosity_in_docs = []\n",
    "num_row = []\n",
    "\n",
    "all_docs = 0\n",
    "all_words = 0\n",
    "\n",
    "r = 0\n",
    "for row in text:\n",
    "    all_docs += 1\n",
    "    for word in row:\n",
    "        all_words += 1\n",
    "        \n",
    "        if word not in unique_words:\n",
    "            unique_words.append(word)\n",
    "            velosity_in_words.append(1)\n",
    "            num_row.append(r)\n",
    "        else:\n",
    "            word_index = unique_words.index(word)\n",
    "            velosity_in_words[word_index] += 1\n",
    "            \n",
    "    r += 1\n",
    "            \n",
    "        \n",
    "        \n",
    "i = 0\n",
    "for word_val in velosity_in_words:\n",
    "    velosity_in_words[i] = word_val / all_words\n",
    "    velosity_in_docs.append(word_val / all_docs)\n",
    "    i+=1\n",
    "    \n",
    "    \n",
    "stop_words = ['деньги' ,'подготовить' , 'написать' , 'отправить' ,'начать','перенести','ответить']\n",
    "stop_parts = ['ить' , 'ать']\n",
    "\n",
    "all_words = len(velosity_in_docs)\n",
    "prev_step_words = 0\n",
    "prev_step = 0\n",
    "\n",
    "cnt_tasks_interest = 8\n",
    "\n",
    "for step in np.arange(0.0, 1.0, 0.002):\n",
    "    step_words = 0\n",
    "    for i in velosity_in_docs:\n",
    "        if i > step:\n",
    "            step_words += 1\n",
    "    if prev_step_words >= cnt_tasks_interest and step_words < cnt_tasks_interest:\n",
    "        step = prev_step\n",
    "        break\n",
    "    \n",
    "    if step_words <= cnt_tasks_interest:\n",
    "        break\n",
    "    \n",
    "    prev_step = step\n",
    "    prev_step_words = step_words\n",
    "main_tasks = []\n",
    "meta_rows = []\n",
    "\n",
    "j = 0\n",
    "for i in velosity_in_docs:\n",
    "    if i > step - 0.001:\n",
    "        word = unique_words[j]\n",
    "        if word[-3:] not in stop_parts and word not in stop_words:\n",
    "            \n",
    "            print(unique_words[j] , i)\n",
    "            main_tasks.append(unique_words[j])\n",
    "            meta_rows.append(num_row[j])\n",
    "            \n",
    "    j +=  1\n",
    "        \n",
    "main_tasks = ' '.join(main_tasks)\n"
   ]
  },
  {
   "cell_type": "code",
   "execution_count": null,
   "metadata": {
    "collapsed": false
   },
   "outputs": [],
   "source": [
    "main_tasks"
   ]
  },
  {
   "cell_type": "raw",
   "metadata": {
    "collapsed": false
   },
   "source": [
    "for i in np.unique(np.array(meta_rows)):\n",
    "    print (' '.join(text_meta[i]))"
   ]
  },
  {
   "cell_type": "markdown",
   "metadata": {
    "collapsed": true
   },
   "source": [
    "#  персональные новости"
   ]
  },
  {
   "cell_type": "code",
   "execution_count": null,
   "metadata": {
    "collapsed": false
   },
   "outputs": [],
   "source": [
    "import requests \n",
    "\n",
    "api_key = 'f45b069a9ab844369005986b34bb6764'\n",
    "url = 'https://newsapi.org/v2/'\n",
    "\n",
    "method = 'top-headlines?'\n",
    "\n",
    "country = 'ru'\n",
    "category_list = ['business', 'entertainment', 'general', 'health', 'science', 'sports', 'technology']\n",
    "category = 'science'\n",
    "language = 'ru'\n",
    "from_parameter = '2018-08-02'\n",
    "to_parameter = '2018-08-02'\n",
    "\n",
    "\n",
    "\n",
    "\n",
    "\n",
    "get_url = url+method+'country='+country+'&category='+category+'&language='+language+'&from_parameter='+from_parameter+'&to_parameter='+to_parameter \n",
    "get_url += '&apiKey='+api_key\n",
    "\n",
    "r = requests.get(get_url)\n",
    "\n",
    "json_r_news = json.loads(r.text)\n",
    "\n",
    "json_r_news['totalResults']"
   ]
  },
  {
   "cell_type": "code",
   "execution_count": null,
   "metadata": {
    "collapsed": false
   },
   "outputs": [],
   "source": [
    "json_r_news['articles'][0]"
   ]
  },
  {
   "cell_type": "code",
   "execution_count": null,
   "metadata": {
    "collapsed": true
   },
   "outputs": [],
   "source": []
  }
 ],
 "metadata": {
  "anaconda-cloud": {},
  "kernelspec": {
   "display_name": "Python 3",
   "language": "python",
   "name": "python3"
  },
  "language_info": {
   "codemirror_mode": {
    "name": "ipython",
    "version": 3
   },
   "file_extension": ".py",
   "mimetype": "text/x-python",
   "name": "python",
   "nbconvert_exporter": "python",
   "pygments_lexer": "ipython3",
   "version": "3.6.0"
  }
 },
 "nbformat": 4,
 "nbformat_minor": 1
}
