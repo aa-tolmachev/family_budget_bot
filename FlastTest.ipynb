{
 "cells": [
  {
   "cell_type": "markdown",
   "metadata": {},
   "source": [
    "# Грузим библиотеки"
   ]
  },
  {
   "cell_type": "code",
   "execution_count": null,
   "metadata": {
    "collapsed": false,
    "scrolled": true
   },
   "outputs": [],
   "source": [
    "\n",
    "\n",
    "from flask import Flask\n",
    "from flask import request\n",
    "import traceback\n",
    "\n",
    "\n",
    "import family_budget\n",
    "\n",
    "\n",
    "application = Flask(__name__)  # Change assignment here\n",
    "\n",
    "\n",
    "\n",
    "@application.route(\"/\")  # Change your route statements\n",
    "def hello():\n",
    "    return \"Hello World!\"\n",
    "\n",
    "\n",
    "\n",
    "\n",
    "\n",
    "@application.route('/family_budget', methods=['GET', 'POST'])\n",
    "def fb():\n",
    "    try:\n",
    "        #json_params = json.loads(request.get_data())\n",
    "        \n",
    "        family_budget.main()\n",
    "        \n",
    "        return 'END Tips'\n",
    "    except:\n",
    "        traceback.print_exc()\n",
    "        return 'ERROR Tips'\n",
    "\n",
    "\n",
    "\n",
    "if __name__ == \"__main__\":\n",
    "    application.run()\n"
   ]
  },
  {
   "cell_type": "code",
   "execution_count": null,
   "metadata": {
    "collapsed": false
   },
   "outputs": [],
   "source": [
    "import requests\n",
    "import access\n",
    "import json\n",
    "from datetime import datetime\n",
    "from time import sleep\n",
    "\n",
    "token = access.token()\n",
    "api = access.api()\n",
    "d_google_maps_api = access.google_maps_api_key()\n",
    "\n",
    "def get_updates():\n",
    "    url = api + token + '/getUpdates'\n",
    "    r = requests.get(url)\n",
    "    return r.json()\n",
    "\n",
    "\n",
    "\n",
    "r = get_updates()\n"
   ]
  },
  {
   "cell_type": "code",
   "execution_count": null,
   "metadata": {
    "collapsed": false
   },
   "outputs": [],
   "source": [
    "import os\n",
    "from telegram.ext import Updater\n",
    "\n",
    "TOKEN = \"382244799:AAFfN3evzGDQaRevpW5xqZ1AEovvdRCWk-0\"\n",
    "PORT = int(os.environ.get('PORT', '5000'))\n",
    "updater = Updater(TOKEN)\n",
    "# add handlers\n",
    "updater.start_webhook(listen=\"0.0.0.0\",\n",
    "                      port=PORT,\n",
    "                      url_path=TOKEN)\n",
    "updater.bot.set_webhook(\"https://family-budget-.herokuapp.com/382244799:AAFfN3evzGDQaRevpW5xqZ1AEovvdRCWk-0\")\n",
    "updater.idle()"
   ]
  },
  {
   "cell_type": "code",
   "execution_count": null,
   "metadata": {
    "collapsed": true
   },
   "outputs": [],
   "source": []
  }
 ],
 "metadata": {
  "anaconda-cloud": {},
  "kernelspec": {
   "display_name": "Python 3",
   "language": "python",
   "name": "python3"
  },
  "language_info": {
   "codemirror_mode": {
    "name": "ipython",
    "version": 3
   },
   "file_extension": ".py",
   "mimetype": "text/x-python",
   "name": "python",
   "nbconvert_exporter": "python",
   "pygments_lexer": "ipython3",
   "version": "3.6.0"
  }
 },
 "nbformat": 4,
 "nbformat_minor": 1
}
