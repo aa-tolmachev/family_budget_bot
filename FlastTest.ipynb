{
 "cells": [
  {
   "cell_type": "markdown",
   "metadata": {},
   "source": [
    "# Грузим библиотеки"
   ]
  },
  {
   "cell_type": "code",
   "execution_count": null,
   "metadata": {
    "collapsed": false,
    "scrolled": true
   },
   "outputs": [
    {
     "name": "stderr",
     "output_type": "stream",
     "text": [
      " * Running on http://127.0.0.1:5000/ (Press CTRL+C to quit)\n",
      "Traceback (most recent call last):\n",
      "  File \"D:\\Python\\telegram_bots\\family_budget\\app.py\", line 336, in main\n",
      "    r = psql_methods.add_transaction_plan_month(chat_id = chat_id , summa = summa , dict_user_data = dict_user_data)\n",
      "  File \"D:\\Python\\telegram_bots\\family_budget\\methods\\psql_methods.py\", line 229, in add_transaction_plan_month\n",
      "    cur.execute(\"INSERT INTO public.month_transaction_plan (user_id,wallet_id,day,transaction_name,transaction_type,summa) VALUES (%(user_id)s,%(wallet_id)s, %(plan_day)s,'%(transaction_name)s','%(transaction_type)s' , %(summa)s  )\" % {'user_id' : user_id , 'wallet_id' : personal_wallet_id , 'transaction_type' : plan_type , 'transaction_name' : plan_name , 'summa' : summa , 'plan_day' : plan_day}  )\n",
      "psycopg2.DataError: invalid input syntax for integer: \"долги\"\n",
      "LINE 1: ...summa) VALUES (13,5, 25,'Платеж по кредиту Олега','долги' , ...\n",
      "                                                             ^\n",
      "\n",
      "127.0.0.1 - - [12/Sep/2017 23:46:29] \"POST /main HTTP/1.1\" 200 -\n"
     ]
    }
   ],
   "source": [
    "from flask import Flask\n",
    "from flask import request\n",
    "import requests\n",
    "from flask import make_response\n",
    "import os\n",
    "import json\n",
    "from pandas import DataFrame\n",
    "import traceback\n",
    "\n",
    "\n",
    "from methods import access\n",
    "from methods.emoji import emoji\n",
    "from methods import telegram_bot_methods\n",
    "from methods import google_maps_methods\n",
    "from methods import psql_methods\n",
    "from methods import reply\n",
    "\n",
    "\n",
    "\n",
    "import app\n",
    "\n",
    "\n",
    "\n",
    "if __name__ == \"__main__\":\n",
    "\n",
    "    \n",
    "    app.application.run()\n",
    "\n"
   ]
  },
  {
   "cell_type": "code",
   "execution_count": null,
   "metadata": {
    "collapsed": false
   },
   "outputs": [],
   "source": [
    "X = {'update_id': 201011794, 'message': {'message_id': 159, 'from': {'id': 84723474, 'first_name': 'Александр', 'last_name': 'Толмачёв', 'language_code': 'ru-RU'}, 'chat': {'id': 84723474, 'first_name': 'Александр', 'last_name': 'Толмачёв', 'type': 'private'}, 'date': 1502611993, 'text': '/help', 'entities': [{'type': 'bot_command', 'offset': 0, 'length': 5}]}}\n",
    "X['message']['text'] = '/start'\n",
    "X['message']['chat']['last_name']"
   ]
  },
  {
   "cell_type": "code",
   "execution_count": null,
   "metadata": {
    "collapsed": false
   },
   "outputs": [],
   "source": [
    "#тест отправки графика\n",
    "import psycopg2\n",
    "from pandas import DataFrame\n",
    "import pandas as pd\n",
    "from datetime import datetime\n",
    "from datetime import timedelta\n",
    "\n",
    "#завтрашная дата без часов минут\n",
    "def tomorrow_str():\n",
    "    tomorrow = datetime.now()+ timedelta(days=1)\n",
    "    tomorrow_str = str(tomorrow.year)+str(tomorrow.month if tomorrow.month >= 10 else  '0'+str(tomorrow.month))+str(tomorrow.day if tomorrow.day >= 10 else  '0'+str(tomorrow.day)) \n",
    "    return tomorrow_str\n",
    "\n",
    "now = datetime.now()\n",
    "\n",
    "dbname = 'dbr3jigs1op5oo'\n",
    "port = '5432'\n",
    "user = 'muwrkppfuyldmk'\n",
    "host = 'ec2-54-227-252-202.compute-1.amazonaws.com'\n",
    "password = '4c4eabfcaf92f7289ccfc1a314d04a3c3806db72b1bf12fd5f0f40c410b14355'\n",
    "\n",
    "PSQL_heroku_keys = {'dbname' : dbname\n",
    "                    , 'port' : port\n",
    "                    , 'user' : user\n",
    "                    , 'host' : host\n",
    "                    , 'password' : password\n",
    "                    }\n",
    "\n",
    "\n",
    "user_id = 13\n",
    "\n",
    "\n",
    "conn = psycopg2.connect(\"dbname='%(dbname)s' port='%(port)s' user='%(user)s' host='%(host)s' password='%(password)s'\" % PSQL_heroku_keys)\n",
    "\n",
    "response = {'status' : 200\n",
    "            ,'report' : 'tomorrow_expense'\n",
    "            ,'system_message' : 'No reports'\n",
    "            ,'user_messages' : []\n",
    "            }\n",
    "###################\n",
    "cur = conn.cursor()\n",
    "#смотрим, какие данные завтра есть\n",
    "cur.execute(\"select * from public.transaction_fact where user_id = %(user_id)s and date_fact >= date_trunc('month', now()) \" % {'user_id' : user_id} )\n",
    "\n",
    "\n",
    "\n",
    "#получаем данные\n",
    "df_current_fact = DataFrame(cur.fetchall(), columns=[desc[0] for desc in cur.description])\n",
    "\n",
    "print ('ok')"
   ]
  },
  {
   "cell_type": "code",
   "execution_count": null,
   "metadata": {
    "collapsed": false
   },
   "outputs": [],
   "source": [
    "df_current_fact['day'] = df_current_fact['date_fact'].dt.day\n",
    "df_current_fact.groupby(['day'])['summa'].sum().reset_index()[:]\n",
    "\n",
    "\n",
    "import numpy as np\n",
    "import matplotlib.pyplot as plt\n",
    "\n",
    "N = 5\n",
    "men_means = (20, 35, 30, 35, 27)\n",
    "men_std = (2, 3, 4, 1, 2)\n",
    "\n",
    "ind = np.arange(N)  # the x locations for the groups\n",
    "width = 0.35       # the width of the bars\n",
    "\n",
    "fig, ax = plt.subplots()\n",
    "rects1 = ax.bar(ind, men_means, width, color='r', yerr=men_std)\n",
    "\n",
    "ax.set_ylabel('Сумма (р.)')\n",
    "ax.set_title('Траты в текущем месяце')\n",
    "\n",
    "plt.show()"
   ]
  },
  {
   "cell_type": "code",
   "execution_count": null,
   "metadata": {
    "collapsed": true
   },
   "outputs": [],
   "source": []
  }
 ],
 "metadata": {
  "anaconda-cloud": {},
  "kernelspec": {
   "display_name": "Python 3",
   "language": "python",
   "name": "python3"
  },
  "language_info": {
   "codemirror_mode": {
    "name": "ipython",
    "version": 3
   },
   "file_extension": ".py",
   "mimetype": "text/x-python",
   "name": "python",
   "nbconvert_exporter": "python",
   "pygments_lexer": "ipython3",
   "version": "3.6.0"
  }
 },
 "nbformat": 4,
 "nbformat_minor": 1
}
