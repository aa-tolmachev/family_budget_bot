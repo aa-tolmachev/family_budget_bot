{
 "cells": [
  {
   "cell_type": "markdown",
   "metadata": {},
   "source": [
    "# Грузим библиотеки"
   ]
  },
  {
   "cell_type": "code",
   "execution_count": null,
   "metadata": {
    "collapsed": false
   },
   "outputs": [],
   "source": [
    "from flask import Flask\n",
    "from flask import request\n",
    "import requests\n",
    "from flask import make_response\n",
    "import os\n",
    "import json\n",
    "from pandas import DataFrame\n",
    "import traceback\n",
    "\n",
    "\n",
    "from methods import access\n",
    "from methods.emoji import emoji\n",
    "from methods import telegram_bot_methods\n",
    "from methods import google_maps_methods\n",
    "from methods import psql_methods\n",
    "from methods import reply\n",
    "\n",
    "\n",
    "\n",
    "import app\n",
    "\n",
    "\n",
    "\n",
    "if __name__ == \"__main__\":\n",
    "\n",
    "    \n",
    "    app.application.run()\n",
    "\n"
   ]
  },
  {
   "cell_type": "code",
   "execution_count": null,
   "metadata": {
    "collapsed": false
   },
   "outputs": [],
   "source": [
    "X = {'update_id': 201011794, 'message': {'message_id': 159, 'from': {'id': 84723474, 'first_name': 'Александр', 'last_name': 'Толмачёв', 'language_code': 'ru-RU'}, 'chat': {'id': 84723474, 'first_name': 'Александр', 'last_name': 'Толмачёв', 'type': 'private'}, 'date': 1502611993, 'text': '/help', 'entities': [{'type': 'bot_command', 'offset': 0, 'length': 5}]}}\n",
    "X['message']['text'] = '/start'\n",
    "X['message']['chat']['last_name']"
   ]
  },
  {
   "cell_type": "code",
   "execution_count": null,
   "metadata": {
    "collapsed": false
   },
   "outputs": [],
   "source": [
    "#тест отправки графика\n",
    "import psycopg2\n",
    "from pandas import DataFrame\n",
    "import pandas as pd\n",
    "from datetime import datetime\n",
    "from datetime import timedelta\n",
    "\n",
    "import numpy as np\n",
    "\n",
    "#текущая метка времени\n",
    "def now_str():\n",
    "    now = datetime.now()\n",
    "    now_str = str(now.year)+str(now.month if now.month >= 10 else  '0'+str(now.month))+str(now.day if now.day >= 10 else  '0'+str(now.day)) +' '+str(now.hour if now.hour >= 10 else  '0'+str(now.hour)) + str(now.minute if now.minute >= 10 else  '0'+str(now.minute)) + str(now.second if now.second >= 10 else  '0'+str(now.second))\n",
    "    return now_str\n",
    "\n",
    "\n",
    "dbname = 'dbr3jigs1op5oo'\n",
    "port = '5432'\n",
    "user = 'muwrkppfuyldmk'\n",
    "host = 'ec2-54-227-252-202.compute-1.amazonaws.com'\n",
    "password = '4c4eabfcaf92f7289ccfc1a314d04a3c3806db72b1bf12fd5f0f40c410b14355'\n",
    "\n",
    "PSQL_heroku_keys = {'dbname' : dbname\n",
    "                    , 'port' : port\n",
    "                    , 'user' : user\n",
    "                    , 'host' : host\n",
    "                    , 'password' : password\n",
    "                    }\n",
    "\n",
    "\n",
    "user_id = 13\n",
    "command = 'На текущий месяц'\n",
    "command = ''\n",
    "\n",
    "\n",
    "conn = psycopg2.connect(\"dbname='%(dbname)s' port='%(port)s' user='%(user)s' host='%(host)s' password='%(password)s'\" % PSQL_heroku_keys)\n",
    "\n",
    "\n",
    "\n",
    "#формат ответа\n",
    "response = {'status' : 200\n",
    "            ,'report' : 'delete_transaction_plan'\n",
    "            ,'system_message' : 'No report'\n",
    "            ,'text' : None\n",
    "            ,'reply_markup' : None\n",
    "            }\n",
    "\n",
    "# создаем запрос\n",
    "cur = conn.cursor()\n",
    "\n",
    "if command == 'На сегодня':\n",
    "    cur.execute(\"select * from public.tasks where  user_id = %(user_id)s and date_task >= date_trunc('day', now()) and date_task < date_trunc('day', now()) +  interval '1 day'\" % {  'user_id' : user_id} )\n",
    "elif command == 'На текущую неделю':\n",
    "    cur.execute(\"select * from public.tasks where  user_id = %(user_id)s and date_task >= date_trunc('week', now()) and date_task < date_trunc('week', now()) + interval '7 day'\" % {  'user_id' : user_id} )\n",
    "elif command == 'На текущий месяц':\n",
    "    cur.execute(\"select * from public.tasks where  user_id = %(user_id)s and date_task >= date_trunc('month', now()) and date_task < date_trunc('month', now()) + interval '1 month'\" % {  'user_id' : user_id} )\n",
    "else:\n",
    "    cur.execute(\"select * from public.tasks where  user_id = %(user_id)s \" % {  'user_id' : user_id} )\n",
    "\n",
    "\n",
    "    \n",
    "df_plan_tasks = DataFrame(cur.fetchall(), columns=[desc[0] for desc in cur.description]).sort_values(by='date_task' , ascending=True)\n",
    "\n",
    "cur.close() \n",
    "\n",
    "if df_plan_tasks.shape[0] == 0:\n",
    "    response['text'] = command + ' дел нет.'\n",
    "else:\n",
    "    text = command + ' следующие дела:\\n\\n'\n",
    "    num = 1\n",
    "    for row in df_plan_tasks.iterrows():\n",
    "        text += str(num) + ': ' + row[1]['task'] + ' ' + row[1]['date_task'].strftime('%d.%m.%Y') + '\\n'\n",
    "        num += 1\n",
    "        \n",
    "        \n",
    "    response['text'] = text\n",
    "    \n",
    "\n",
    "\n",
    "print ('ok')\n",
    "\n",
    "\n",
    "df_plan_tasks"
   ]
  },
  {
   "cell_type": "code",
   "execution_count": null,
   "metadata": {
    "collapsed": false
   },
   "outputs": [],
   "source": [
    "text = command + ' следующие дела:\\n\\n'\n",
    "num = 1\n",
    "for row in df_plan_tasks.iterrows():\n",
    "    text += str(num) + ': ' + row[1]['task'] + ' ' + row[1]['date_task'].strftime('%d.%m.%Y') + '\\n'\n",
    "\n",
    "    num += 1\n"
   ]
  },
  {
   "cell_type": "code",
   "execution_count": null,
   "metadata": {
    "collapsed": false
   },
   "outputs": [],
   "source": [
    "print (text)"
   ]
  },
  {
   "cell_type": "code",
   "execution_count": null,
   "metadata": {
    "collapsed": false
   },
   "outputs": [],
   "source": [
    "df_plan_tasks['date_task'].dt.strftime('%d.%m.%Y')"
   ]
  },
  {
   "cell_type": "markdown",
   "metadata": {},
   "source": [
    "# make some graphics"
   ]
  },
  {
   "cell_type": "code",
   "execution_count": null,
   "metadata": {
    "collapsed": false
   },
   "outputs": [],
   "source": [
    "\n",
    "\n",
    "df_plan_tasks['YearMonth'] = pd.to_datetime(df_plan_tasks['date_task']).map(lambda dt: dt.replace(day=1))\n",
    "\n",
    "res = df_plan_tasks.groupby(['YearMonth'])['id'].count()\n",
    "res_6 = res.sort_index(ascending = False).head(6).sort_index(ascending = True)"
   ]
  },
  {
   "cell_type": "code",
   "execution_count": null,
   "metadata": {
    "collapsed": false
   },
   "outputs": [],
   "source": [
    "%matplotlib inline\n",
    "import matplotlib.pyplot as plt\n",
    "plt.style.use('ggplot')\n",
    "\n",
    "month_dict= {1:'Январь',\n",
    "            2:'Февраль',\n",
    "            3:'Март',\n",
    "            4:'Апрель',\n",
    "            5:'Май',\n",
    "            6:'Июнь',\n",
    "            7:'Июль',\n",
    "            8:'Август',\n",
    "            9:'Сентябрь',\n",
    "            10:'Октябрь',\n",
    "            11:'Ноябрь',\n",
    "            12:'Декабрь'}\n",
    "\n",
    "\n",
    "res_6.index = [month_dict[x.month] for x in list(res_6.index)]\n",
    "\n",
    "res_6.plot(kind='bar' )\n",
    "\n"
   ]
  },
  {
   "cell_type": "code",
   "execution_count": null,
   "metadata": {
    "collapsed": false
   },
   "outputs": [],
   "source": [
    "#номер недели\n",
    "datetime.date(df_plan_tasks['date_task'][1]).isocalendar()[1]\n",
    "\n",
    "#сделать - по неделям разбить месяц и как в течение месяца делались дела, сравнивать с средним значением по месяцам\n",
    "#в конце месяца отчетик по тому, как нагружаешь себя и как выполняешь задачи, как прокачиваешься"
   ]
  },
  {
   "cell_type": "code",
   "execution_count": null,
   "metadata": {
    "collapsed": false
   },
   "outputs": [],
   "source": [
    "#отчет по делам по итогам месяца\n",
    "#соираем информацию о проделанных делах\n",
    "#хотим показать - по загрузке по неделям как дела ставили - сравнение с среднестатистической загрузкой нашей понедельной.\n",
    "#рекомендации и похвалы по итогу сравнения. \n",
    "#Смотреть самые популярные темы по итогу месяца какие дела себе ставил по итогу сематического анализа\n",
    "from dateutil.relativedelta import relativedelta\n",
    "now_date = datetime.now()\n",
    "next_date = datetime.now()+ relativedelta(months=1)\n",
    "prev_date = datetime.now()- relativedelta(months=1)\n",
    "\n",
    "\n",
    "now_year = now_date.year\n",
    "now_month = now_date.month\n",
    "\n",
    "prev_year = prev_date.year\n",
    "prev_month = prev_date.month\n",
    "\n",
    "datetime(now_year, now_month , 1).isocalendar()[1]\n",
    "\n"
   ]
  },
  {
   "cell_type": "code",
   "execution_count": null,
   "metadata": {
    "collapsed": false
   },
   "outputs": [],
   "source": [
    "\n",
    "\n",
    "df_prev_month = df_plan_tasks[(df_plan_tasks['date_task'] >= datetime(prev_year, prev_month , 1))\n",
    "             & (df_plan_tasks['date_task'] < datetime(now_year, now_month , 1))][:]\n",
    "\n",
    "df_prev_month['n_week'] = [int(x.day / 7) + 1 for x in df_prev_month['date_task']]\n",
    "\n",
    "res = df_prev_month.groupby(['n_week'])['id'].count()"
   ]
  },
  {
   "cell_type": "code",
   "execution_count": null,
   "metadata": {
    "collapsed": false
   },
   "outputs": [],
   "source": [
    "\n",
    "cnt_missions = res.values\n",
    "name_bars = list(res.index)\n",
    "y_pos = np.arange(len(name_bars))\n",
    "\n",
    "\n",
    "plt.bar(y_pos, cnt_missions, color = (0.2, 0.9, 0.7, 0.8) ,  edgecolor='gray')\n",
    "\n",
    "\n",
    "\n",
    "plt.xlabel('неделя')\n",
    "plt.ylabel('выполнено дел')\n",
    "\n",
    "\n",
    "plt.ylim(0,50)\n",
    "\n",
    "\n",
    "plt.xticks(y_pos, name_bars)\n",
    "\n",
    "for a,b in zip(y_pos, cnt_missions): \n",
    "    plt.text(a - 0.1, b + 1, str(b) , fontsize=11 , color = 'darkgreen')\n",
    "\n",
    "\n",
    "plt.savefig('to1.png' ,facecolor='w', edgecolor='w')\n",
    "\n",
    "plt.show()\n",
    "\n"
   ]
  },
  {
   "cell_type": "code",
   "execution_count": null,
   "metadata": {
    "collapsed": false
   },
   "outputs": [],
   "source": [
    "from PIL import Image, ImageDraw\n",
    "image = Image.open('to1.png')\n",
    "image.show()\n",
    "\n",
    "#для отправки в телеграме \n",
    "x = open('to1.png', 'rb')\n",
    "\n",
    "\n",
    "bot.send_photo(chat_id=chat_id, photo=open('tests/test.png', 'rb'))\n"
   ]
  },
  {
   "cell_type": "code",
   "execution_count": null,
   "metadata": {
    "collapsed": false
   },
   "outputs": [],
   "source": [
    "import os\n",
    "os.remove(\"to2.png\")\n"
   ]
  },
  {
   "cell_type": "code",
   "execution_count": null,
   "metadata": {
    "collapsed": false
   },
   "outputs": [],
   "source": [
    "plt.savefig('to2.png' ,facecolor='w', edgecolor='w')\n",
    "x = open('to2.png', 'rb')\n",
    "x.close()\n",
    "#os.remove(\"to2.png\")\n"
   ]
  },
  {
   "cell_type": "code",
   "execution_count": null,
   "metadata": {
    "collapsed": true
   },
   "outputs": [],
   "source": []
  }
 ],
 "metadata": {
  "anaconda-cloud": {},
  "kernelspec": {
   "display_name": "Python 3",
   "language": "python",
   "name": "python3"
  },
  "language_info": {
   "codemirror_mode": {
    "name": "ipython",
    "version": 3
   },
   "file_extension": ".py",
   "mimetype": "text/x-python",
   "name": "python",
   "nbconvert_exporter": "python",
   "pygments_lexer": "ipython3",
   "version": "3.6.0"
  }
 },
 "nbformat": 4,
 "nbformat_minor": 1
}
