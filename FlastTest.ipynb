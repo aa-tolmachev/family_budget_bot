{
 "cells": [
  {
   "cell_type": "markdown",
   "metadata": {},
   "source": [
    "# Грузим библиотеки"
   ]
  },
  {
   "cell_type": "code",
   "execution_count": null,
   "metadata": {
    "collapsed": false,
    "scrolled": true
   },
   "outputs": [
    {
     "name": "stderr",
     "output_type": "stream",
     "text": [
      " * Running on http://127.0.0.1:5000/ (Press CTRL+C to quit)\n",
      "127.0.0.1 - - [22/Sep/2017 00:39:46] \"POST /main HTTP/1.1\" 200 -\n",
      "127.0.0.1 - - [22/Sep/2017 00:39:55] \"POST /main HTTP/1.1\" 200 -\n",
      "127.0.0.1 - - [22/Sep/2017 00:40:35] \"POST /main HTTP/1.1\" 200 -\n",
      "127.0.0.1 - - [22/Sep/2017 00:41:25] \"POST /main HTTP/1.1\" 200 -\n",
      "127.0.0.1 - - [22/Sep/2017 00:41:36] \"POST /main HTTP/1.1\" 200 -\n"
     ]
    }
   ],
   "source": [
    "from flask import Flask\n",
    "from flask import request\n",
    "import requests\n",
    "from flask import make_response\n",
    "import os\n",
    "import json\n",
    "from pandas import DataFrame\n",
    "import traceback\n",
    "\n",
    "\n",
    "from methods import access\n",
    "from methods.emoji import emoji\n",
    "from methods import telegram_bot_methods\n",
    "from methods import google_maps_methods\n",
    "from methods import psql_methods\n",
    "from methods import reply\n",
    "\n",
    "\n",
    "\n",
    "import app\n",
    "\n",
    "\n",
    "\n",
    "if __name__ == \"__main__\":\n",
    "\n",
    "    \n",
    "    app.application.run()\n",
    "\n"
   ]
  },
  {
   "cell_type": "code",
   "execution_count": null,
   "metadata": {
    "collapsed": false
   },
   "outputs": [],
   "source": [
    "X = {'update_id': 201011794, 'message': {'message_id': 159, 'from': {'id': 84723474, 'first_name': 'Александр', 'last_name': 'Толмачёв', 'language_code': 'ru-RU'}, 'chat': {'id': 84723474, 'first_name': 'Александр', 'last_name': 'Толмачёв', 'type': 'private'}, 'date': 1502611993, 'text': '/help', 'entities': [{'type': 'bot_command', 'offset': 0, 'length': 5}]}}\n",
    "X['message']['text'] = '/start'\n",
    "X['message']['chat']['last_name']"
   ]
  },
  {
   "cell_type": "code",
   "execution_count": null,
   "metadata": {
    "collapsed": false
   },
   "outputs": [],
   "source": [
    "#тест отправки графика\n",
    "import psycopg2\n",
    "from pandas import DataFrame\n",
    "import pandas as pd\n",
    "from datetime import datetime\n",
    "from datetime import timedelta\n",
    "\n",
    "import numpy as np\n",
    "\n",
    "#текущая метка времени\n",
    "def now_str():\n",
    "    now = datetime.now()\n",
    "    now_str = str(now.year)+str(now.month if now.month >= 10 else  '0'+str(now.month))+str(now.day if now.day >= 10 else  '0'+str(now.day)) +' '+str(now.hour if now.hour >= 10 else  '0'+str(now.hour)) + str(now.minute if now.minute >= 10 else  '0'+str(now.minute)) + str(now.second if now.second >= 10 else  '0'+str(now.second))\n",
    "    return now_str\n",
    "\n",
    "\n",
    "dbname = 'dbr3jigs1op5oo'\n",
    "port = '5432'\n",
    "user = 'muwrkppfuyldmk'\n",
    "host = 'ec2-54-227-252-202.compute-1.amazonaws.com'\n",
    "password = '4c4eabfcaf92f7289ccfc1a314d04a3c3806db72b1bf12fd5f0f40c410b14355'\n",
    "\n",
    "PSQL_heroku_keys = {'dbname' : dbname\n",
    "                    , 'port' : port\n",
    "                    , 'user' : user\n",
    "                    , 'host' : host\n",
    "                    , 'password' : password\n",
    "                    }\n",
    "\n",
    "\n",
    "user_id = 13\n",
    "\n",
    "\n",
    "conn = psycopg2.connect(\"dbname='%(dbname)s' port='%(port)s' user='%(user)s' host='%(host)s' password='%(password)s'\" % PSQL_heroku_keys)\n",
    "\n",
    "\n",
    "\n",
    "#формат ответа\n",
    "response = {'status' : 200\n",
    "            ,'report' : 'delete_transaction_plan'\n",
    "            ,'system_message' : 'No report'\n",
    "            ,'text' : None\n",
    "            ,'reply_markup' : None\n",
    "            }\n",
    "\n",
    "# создаем запрос\n",
    "cur = conn.cursor()\n",
    "\n",
    "cur.close() \n",
    "print ('ok')"
   ]
  },
  {
   "cell_type": "code",
   "execution_count": null,
   "metadata": {
    "collapsed": true
   },
   "outputs": [],
   "source": []
  }
 ],
 "metadata": {
  "anaconda-cloud": {},
  "kernelspec": {
   "display_name": "Python 3",
   "language": "python",
   "name": "python3"
  },
  "language_info": {
   "codemirror_mode": {
    "name": "ipython",
    "version": 3
   },
   "file_extension": ".py",
   "mimetype": "text/x-python",
   "name": "python",
   "nbconvert_exporter": "python",
   "pygments_lexer": "ipython3",
   "version": "3.6.0"
  }
 },
 "nbformat": 4,
 "nbformat_minor": 1
}
